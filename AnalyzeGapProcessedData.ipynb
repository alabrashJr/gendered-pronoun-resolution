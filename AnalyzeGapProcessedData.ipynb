{
 "cells": [
  {
   "cell_type": "code",
   "execution_count": 2,
   "metadata": {},
   "outputs": [],
   "source": [
    "import pandas as pd\n",
    "import numpy as np\n",
    "import torch\n",
    "import pytorch_transformers"
   ]
  },
  {
   "cell_type": "code",
   "execution_count": 16,
   "metadata": {},
   "outputs": [
    {
     "data": {
      "text/html": [
       "<div>\n",
       "<style scoped>\n",
       "    .dataframe tbody tr th:only-of-type {\n",
       "        vertical-align: middle;\n",
       "    }\n",
       "\n",
       "    .dataframe tbody tr th {\n",
       "        vertical-align: top;\n",
       "    }\n",
       "\n",
       "    .dataframe thead th {\n",
       "        text-align: right;\n",
       "    }\n",
       "</style>\n",
       "<table border=\"1\" class=\"dataframe\">\n",
       "  <thead>\n",
       "    <tr style=\"text-align: right;\">\n",
       "      <th></th>\n",
       "      <th>input</th>\n",
       "      <th>label</th>\n",
       "      <th>pab_pos</th>\n",
       "    </tr>\n",
       "  </thead>\n",
       "  <tbody>\n",
       "    <tr>\n",
       "      <th>0</th>\n",
       "      <td>[11199, 10093, 3877, 1011, 1011, 2209, 1996, 2...</td>\n",
       "      <td>1.0</td>\n",
       "      <td>[61, 41, 44]</td>\n",
       "    </tr>\n",
       "    <tr>\n",
       "      <th>1</th>\n",
       "      <td>[2002, 3473, 2039, 1999, 6473, 2669, 1010, 430...</td>\n",
       "      <td>1.0</td>\n",
       "      <td>[60, 50, 53]</td>\n",
       "    </tr>\n",
       "    <tr>\n",
       "      <th>2</th>\n",
       "      <td>[2002, 2018, 2042, 20847, 2000, 3519, 1010, 20...</td>\n",
       "      <td>2.0</td>\n",
       "      <td>[62, 40, 56]</td>\n",
       "    </tr>\n",
       "    <tr>\n",
       "      <th>3</th>\n",
       "      <td>[1996, 2783, 2372, 1997, 4126, 2031, 2036, 286...</td>\n",
       "      <td>2.0</td>\n",
       "      <td>[66, 35, 70]</td>\n",
       "    </tr>\n",
       "    <tr>\n",
       "      <th>4</th>\n",
       "      <td>[2014, 4203, 10768, 3850, 2834, 1999, 2384, 20...</td>\n",
       "      <td>2.0</td>\n",
       "      <td>[104, 53, 71]</td>\n",
       "    </tr>\n",
       "  </tbody>\n",
       "</table>\n",
       "</div>"
      ],
      "text/plain": [
       "                                               input  label        pab_pos\n",
       "0  [11199, 10093, 3877, 1011, 1011, 2209, 1996, 2...    1.0   [61, 41, 44]\n",
       "1  [2002, 3473, 2039, 1999, 6473, 2669, 1010, 430...    1.0   [60, 50, 53]\n",
       "2  [2002, 2018, 2042, 20847, 2000, 3519, 1010, 20...    2.0   [62, 40, 56]\n",
       "3  [1996, 2783, 2372, 1997, 4126, 2031, 2036, 286...    2.0   [66, 35, 70]\n",
       "4  [2014, 4203, 10768, 3850, 2834, 1999, 2384, 20...    2.0  [104, 53, 71]"
      ]
     },
     "execution_count": 16,
     "metadata": {},
     "output_type": "execute_result"
    }
   ],
   "source": [
    "train_df = pd.read_pickle('train_processed.pkl')\n",
    "train_df.head()"
   ]
  },
  {
   "cell_type": "markdown",
   "metadata": {},
   "source": [
    "## Do sequence length and label analysis"
   ]
  },
  {
   "cell_type": "code",
   "execution_count": 23,
   "metadata": {},
   "outputs": [
    {
     "data": {
      "text/html": [
       "<div>\n",
       "<style scoped>\n",
       "    .dataframe tbody tr th:only-of-type {\n",
       "        vertical-align: middle;\n",
       "    }\n",
       "\n",
       "    .dataframe tbody tr th {\n",
       "        vertical-align: top;\n",
       "    }\n",
       "\n",
       "    .dataframe thead th {\n",
       "        text-align: right;\n",
       "    }\n",
       "</style>\n",
       "<table border=\"1\" class=\"dataframe\">\n",
       "  <thead>\n",
       "    <tr style=\"text-align: right;\">\n",
       "      <th></th>\n",
       "      <th>input</th>\n",
       "      <th>label</th>\n",
       "      <th>pab_pos</th>\n",
       "      <th>seq_length</th>\n",
       "      <th>max_pab</th>\n",
       "    </tr>\n",
       "  </thead>\n",
       "  <tbody>\n",
       "    <tr>\n",
       "      <th>0</th>\n",
       "      <td>[11199, 10093, 3877, 1011, 1011, 2209, 1996, 2...</td>\n",
       "      <td>1.0</td>\n",
       "      <td>[61, 41, 44]</td>\n",
       "      <td>92</td>\n",
       "      <td>61</td>\n",
       "    </tr>\n",
       "    <tr>\n",
       "      <th>1</th>\n",
       "      <td>[2002, 3473, 2039, 1999, 6473, 2669, 1010, 430...</td>\n",
       "      <td>1.0</td>\n",
       "      <td>[60, 50, 53]</td>\n",
       "      <td>87</td>\n",
       "      <td>60</td>\n",
       "    </tr>\n",
       "    <tr>\n",
       "      <th>2</th>\n",
       "      <td>[2002, 2018, 2042, 20847, 2000, 3519, 1010, 20...</td>\n",
       "      <td>2.0</td>\n",
       "      <td>[62, 40, 56]</td>\n",
       "      <td>128</td>\n",
       "      <td>62</td>\n",
       "    </tr>\n",
       "    <tr>\n",
       "      <th>3</th>\n",
       "      <td>[1996, 2783, 2372, 1997, 4126, 2031, 2036, 286...</td>\n",
       "      <td>2.0</td>\n",
       "      <td>[66, 35, 70]</td>\n",
       "      <td>82</td>\n",
       "      <td>70</td>\n",
       "    </tr>\n",
       "    <tr>\n",
       "      <th>4</th>\n",
       "      <td>[2014, 4203, 10768, 3850, 2834, 1999, 2384, 20...</td>\n",
       "      <td>2.0</td>\n",
       "      <td>[104, 53, 71]</td>\n",
       "      <td>154</td>\n",
       "      <td>104</td>\n",
       "    </tr>\n",
       "  </tbody>\n",
       "</table>\n",
       "</div>"
      ],
      "text/plain": [
       "                                               input  label        pab_pos  \\\n",
       "0  [11199, 10093, 3877, 1011, 1011, 2209, 1996, 2...    1.0   [61, 41, 44]   \n",
       "1  [2002, 3473, 2039, 1999, 6473, 2669, 1010, 430...    1.0   [60, 50, 53]   \n",
       "2  [2002, 2018, 2042, 20847, 2000, 3519, 1010, 20...    2.0   [62, 40, 56]   \n",
       "3  [1996, 2783, 2372, 1997, 4126, 2031, 2036, 286...    2.0   [66, 35, 70]   \n",
       "4  [2014, 4203, 10768, 3850, 2834, 1999, 2384, 20...    2.0  [104, 53, 71]   \n",
       "\n",
       "   seq_length  max_pab  \n",
       "0          92       61  \n",
       "1          87       60  \n",
       "2         128       62  \n",
       "3          82       70  \n",
       "4         154      104  "
      ]
     },
     "execution_count": 23,
     "metadata": {},
     "output_type": "execute_result"
    }
   ],
   "source": [
    "train_df['seq_length'] = train_df.apply(lambda x: len(x['input']), axis = 1)\n",
    "train_df['max_pab'] = train_df.apply(lambda x: max(x['pab_pos']), axis = 1)\n",
    "train_df.head()"
   ]
  },
  {
   "cell_type": "code",
   "execution_count": 20,
   "metadata": {},
   "outputs": [
    {
     "data": {
      "text/plain": [
       "count    2000.000000\n",
       "mean       95.199500\n",
       "std        28.793406\n",
       "min        26.000000\n",
       "25%        76.000000\n",
       "50%        91.000000\n",
       "75%       109.250000\n",
       "max       346.000000\n",
       "Name: seq_length, dtype: float64"
      ]
     },
     "execution_count": 20,
     "metadata": {},
     "output_type": "execute_result"
    }
   ],
   "source": [
    "train_df['seq_length'].describe()"
   ]
  },
  {
   "cell_type": "code",
   "execution_count": 24,
   "metadata": {},
   "outputs": [
    {
     "data": {
      "text/plain": [
       "count    2000.000000\n",
       "mean       75.743000\n",
       "std        23.998727\n",
       "min        11.000000\n",
       "25%        62.000000\n",
       "50%        73.000000\n",
       "75%        86.250000\n",
       "max       308.000000\n",
       "Name: max_pab, dtype: float64"
      ]
     },
     "execution_count": 24,
     "metadata": {},
     "output_type": "execute_result"
    }
   ],
   "source": [
    "train_df['max_pab'].describe()"
   ]
  },
  {
   "cell_type": "code",
   "execution_count": 41,
   "metadata": {
    "scrolled": true
   },
   "outputs": [
    {
     "data": {
      "image/png": "[encoded data removed]",
      "text/plain": [
       "<Figure size 432x288 with 1 Axes>"
      ]
     },
     "metadata": {
      "needs_background": "light"
     },
     "output_type": "display_data"
    }
   ],
   "source": [
    "import matplotlib.pyplot as plt \n",
    "label_data = train_df.groupby('label')['label'].count()\n",
    "plt.bar(label_data.keys(),label_data.values)\n",
    "plt.title('label distribution')\n",
    "plt.show()"
   ]
  },
  {
   "cell_type": "code",
   "execution_count": 39,
   "metadata": {},
   "outputs": [
    {
     "data": {
      "text/plain": [
       "Float64Index([0.0, 1.0, 2.0], dtype='float64', name='label')"
      ]
     },
     "execution_count": 39,
     "metadata": {},
     "output_type": "execute_result"
    }
   ],
   "source": [
    "label_data.keys()"
   ]
  },
  {
   "cell_type": "code",
   "execution_count": 27,
   "metadata": {},
   "outputs": [
    {
     "data": {
      "text/html": [
       "<div>\n",
       "<style scoped>\n",
       "    .dataframe tbody tr th:only-of-type {\n",
       "        vertical-align: middle;\n",
       "    }\n",
       "\n",
       "    .dataframe tbody tr th {\n",
       "        vertical-align: top;\n",
       "    }\n",
       "\n",
       "    .dataframe thead th {\n",
       "        text-align: right;\n",
       "    }\n",
       "</style>\n",
       "<table border=\"1\" class=\"dataframe\">\n",
       "  <thead>\n",
       "    <tr style=\"text-align: right;\">\n",
       "      <th></th>\n",
       "      <th>count</th>\n",
       "      <th>mean</th>\n",
       "      <th>std</th>\n",
       "      <th>min</th>\n",
       "      <th>25%</th>\n",
       "      <th>50%</th>\n",
       "      <th>75%</th>\n",
       "      <th>max</th>\n",
       "    </tr>\n",
       "    <tr>\n",
       "      <th>label</th>\n",
       "      <th></th>\n",
       "      <th></th>\n",
       "      <th></th>\n",
       "      <th></th>\n",
       "      <th></th>\n",
       "      <th></th>\n",
       "      <th></th>\n",
       "      <th></th>\n",
       "    </tr>\n",
       "  </thead>\n",
       "  <tbody>\n",
       "    <tr>\n",
       "      <th>0.0</th>\n",
       "      <td>201.0</td>\n",
       "      <td>102.542289</td>\n",
       "      <td>31.359838</td>\n",
       "      <td>32.0</td>\n",
       "      <td>83.00</td>\n",
       "      <td>100.0</td>\n",
       "      <td>117.0</td>\n",
       "      <td>249.0</td>\n",
       "    </tr>\n",
       "    <tr>\n",
       "      <th>1.0</th>\n",
       "      <td>874.0</td>\n",
       "      <td>93.409611</td>\n",
       "      <td>27.105863</td>\n",
       "      <td>26.0</td>\n",
       "      <td>75.25</td>\n",
       "      <td>91.0</td>\n",
       "      <td>109.0</td>\n",
       "      <td>203.0</td>\n",
       "    </tr>\n",
       "    <tr>\n",
       "      <th>2.0</th>\n",
       "      <td>925.0</td>\n",
       "      <td>95.295135</td>\n",
       "      <td>29.526209</td>\n",
       "      <td>26.0</td>\n",
       "      <td>76.00</td>\n",
       "      <td>91.0</td>\n",
       "      <td>109.0</td>\n",
       "      <td>346.0</td>\n",
       "    </tr>\n",
       "  </tbody>\n",
       "</table>\n",
       "</div>"
      ],
      "text/plain": [
       "       count        mean        std   min    25%    50%    75%    max\n",
       "label                                                                \n",
       "0.0    201.0  102.542289  31.359838  32.0  83.00  100.0  117.0  249.0\n",
       "1.0    874.0   93.409611  27.105863  26.0  75.25   91.0  109.0  203.0\n",
       "2.0    925.0   95.295135  29.526209  26.0  76.00   91.0  109.0  346.0"
      ]
     },
     "execution_count": 27,
     "metadata": {},
     "output_type": "execute_result"
    }
   ],
   "source": [
    "train_df.groupby('label')['seq_length'].describe()"
   ]
  }
 ],
 "metadata": {
  "kernelspec": {
   "display_name": "Python 3.6 - AzureML",
   "language": "python",
   "name": "python3-azureml"
  },
  "language_info": {
   "codemirror_mode": {
    "name": "ipython",
    "version": 3
   },
   "file_extension": ".py",
   "mimetype": "text/x-python",
   "name": "python",
   "nbconvert_exporter": "python",
   "pygments_lexer": "ipython3",
   "version": "3.6.8"
  }
 },
 "nbformat": 4,
 "nbformat_minor": 2
}
