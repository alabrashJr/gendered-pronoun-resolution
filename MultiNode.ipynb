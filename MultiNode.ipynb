{
 "cells": [
  {
   "cell_type": "markdown",
   "metadata": {},
   "source": [
    "# 2 nodes 2 processes"
   ]
  },
  {
   "cell_type": "markdown",
   "metadata": {},
   "source": [
    "### Node 1\n",
    "Not working Yet"
   ]
  },
  {
   "cell_type": "code",
   "execution_count": null,
   "metadata": {},
   "outputs": [],
   "source": [
    "!python TrainGAP.py \\\n",
    "--is_distributed \\\n",
    "--local_rank 0 \\\n",
    "--global_rank 0 \\\n",
    "--world_size 2 \\\n",
    "--master_node '40.74.233.84' \\\n",
    "--master_port 29500 \\\n",
    "--backend nccl \\\n",
    "--per_gpu_batch_size 16 \\\n",
    "--gradient_accumulation 4"
   ]
  },
  {
   "cell_type": "markdown",
   "metadata": {},
   "source": [
    "### Node 2"
   ]
  },
  {
   "cell_type": "code",
   "execution_count": null,
   "metadata": {},
   "outputs": [],
   "source": [
    "# !python TrainGAP.py \\\n",
    "# --is_distributed \\\n",
    "# --local_rank 0 \\\n",
    "# --global_rank 1 \\\n",
    "# --world_size 2 \\\n",
    "# --master_node '40.74.233.84' \\\n",
    "# --master_port 29500 \\\n",
    "# --backend nccl \\\n",
    "# --per_gpu_batch_size 16 \\\n",
    "# --gradient_accumulation 4"
   ]
  },
  {
   "cell_type": "markdown",
   "metadata": {},
   "source": [
    "**Common errors**\n",
    "\n",
    "1. Training does not progress or timeout error is seen\n",
    "\n",
    "    Follow this blog to test if distributed training is possible between the machines or not\n",
    "\n",
    "    https://krishansubudhi.github.io/deeplearning/2019/10/15/PyTorch-Distributed.html\n",
    "\n",
    "2. Address already in use\n",
    "\n",
    "    Same port was used for multi node communication which has not been released. \n",
    "\n",
    "    Restart kernel or kill any other distributed process which uses same port . "
   ]
  },
  {
   "cell_type": "markdown",
   "metadata": {},
   "source": [
    "# 2 nodes 4 processes\n",
    "## using mp.spawn"
   ]
  },
  {
   "cell_type": "markdown",
   "metadata": {},
   "source": [
    "### Node 1"
   ]
  },
  {
   "cell_type": "code",
   "execution_count": null,
   "metadata": {
    "scrolled": false
   },
   "outputs": [],
   "source": [
    "!python TrainGAP.py \\\n",
    "        --is_distributed \\\n",
    "        --world_size 4 \\\n",
    "        --nprocs 2 \\\n",
    "        --start_rank 0\\\n",
    "        --backend nccl \\\n",
    "        --master_node '40.74.233.84' \\\n",
    "        --master_port 29500 \\\n",
    "        --per_gpu_batch_size 8 \\\n",
    "        --gradient_accumulation 2"
   ]
  },
  {
   "cell_type": "markdown",
   "metadata": {},
   "source": [
    "### Node 2"
   ]
  },
  {
   "cell_type": "code",
   "execution_count": null,
   "metadata": {},
   "outputs": [],
   "source": [
    "# !python TrainGAP.py \\\n",
    "#         --is_distributed \\\n",
    "#         --world_size 4 \\\n",
    "#         --nprocs 2 \\\n",
    "#         --start_rank 2\\\n",
    "#         --backend nccl \\\n",
    "#         --master_node '40.74.233.84' \\\n",
    "#         --master_port 29500 \\\n",
    "#         --per_gpu_batch_size 8 \\\n",
    "#         --gradient_accumulation 2"
   ]
  },
  {
   "cell_type": "markdown",
   "metadata": {},
   "source": [
    "## Using torch.distributed.launch"
   ]
  },
  {
   "cell_type": "markdown",
   "metadata": {},
   "source": [
    "### Node 1"
   ]
  },
  {
   "cell_type": "code",
   "execution_count": null,
   "metadata": {},
   "outputs": [
    {
     "name": "stdout",
     "output_type": "stream",
     "text": [
      "*****************************************\n",
      "Setting OMP_NUM_THREADS environment variable for each process to be 1 in default, to avoid your system being overloaded, please further tune the variable for optimal performance in your application as needed. \n",
      "*****************************************\n",
      "I1018 14:54:03.312757 140090626160384 file_utils.py:39] PyTorch version 1.2.0 available.\n",
      "I1018 14:54:03.313173 139774798526208 file_utils.py:39] PyTorch version 1.2.0 available.\n",
      "I1018 14:54:03.657006 140090626160384 modeling_xlnet.py:194] Better speed can be achieved with apex installed from https://www.github.com/nvidia/apex .\n",
      "I1018 14:54:03.659626 139774798526208 modeling_xlnet.py:194] Better speed can be achieved with apex installed from https://www.github.com/nvidia/apex .\n",
      "2019-10-18 14:54:03,662:INFO: hello\n",
      "2019-10-18 14:54:03,662:INFO: Namespace(backend='nccl', batch_size=4, bert_type='bert-base-uncased', epochs=1, global_rank=None, gradient_accumulation=4, is_distributed=True, local_rank=1, lr=2e-05, master_node='localhost', master_port=12533, model_type='mul', nprocs=1, per_gpu_batch_size=16, start_rank=0, val_batch_size=64, world_size=None)\n",
      "2019-10-18 14:54:03,662:INFO: Updating args from environment variable. Rank = 1\n",
      "Current environment =  environ({'SPARK_HOME': '/dsvm/tools/spark/current', 'TERM': 'xterm-color', 'SHELL': '/bin/bash', 'CLICOLOR': '1', 'JPY_API_TOKEN': '2990fc0289fe4bfda4b5cd6c755625b1', 'CONDA_SHLVL': '2', 'LIBRARY_PATH': '/opt/intel/compilers_and_libraries_2018.1.163/linux/tbb/lib/intel64_lin/gcc4.7:/opt/intel/compilers_and_libraries_2018.1.163/linux/compiler/lib/intel64_lin:/opt/intel/compilers_and_libraries_2018.1.163/linux/mkl/lib/intel64_lin:/usr/local/cuda/lib64:/usr/local/cuda/extras/CUPTI/lib64/:', 'CONDA_PROMPT_MODIFIER': '(py36) ', 'USER': 'krishan', 'JUPYTERHUB_BASE_URL': '/', 'JUPYTERHUB_CLIENT_ID': 'jupyterhub-user-krishan', 'LD_LIBRARY_PATH': '/opt/intel/compilers_and_libraries_2018.1.163/linux/tbb/lib/intel64_lin/gcc4.7:/opt/intel/compilers_and_libraries_2018.1.163/linux/compiler/lib/intel64_lin:/opt/intel/compilers_and_libraries_2018.1.163/linux/mkl/lib/intel64_lin::/usr/local/cuda/lib64:/usr/local/cuda/extras/CUPTI/lib64/', 'CONDA_EXE': '/data/anaconda/bin/conda', 'PYSPARK_PYTHON': '/anaconda/bin/python', 'CPATH': '/opt/intel/compilers_and_libraries_2018.1.163/linux/mkl/include:', 'JUPYTERHUB_API_TOKEN': '2990fc0289fe4bfda4b5cd6c755625b1', 'JPY_PARENT_PID': '3697', 'PAGER': 'cat', '_CE_CONDA': '', 'CUPIT_LIB_PATH': '/usr/local/cuda/extras/CUPTI/lib64/', 'NLSPATH': '/opt/intel/compilers_and_libraries_2018.1.163/linux/mkl/lib/intel64_lin/locale/%l_%t/%N', 'CONDA_PREFIX_1': '/data/anaconda/envs/py35', 'PATH': '/data/anaconda/envs/py36/bin:/data/anaconda/condabin:/usr/local/sbin:/usr/local/bin:/usr/sbin:/usr/bin:/sbin:/bin:/snap/bin:/opt/caffe/build/install/bin:/usr/local/cuda/bin:/dsvm/tools/cntk/cntk/bin:/dsvm/tools/spark/current/bin:/opt/mssql-tools/bin', '_': '/data/anaconda/envs/py36/bin/python', 'CONDA_PREFIX': '/data/anaconda/envs/py36', 'PWD': '/data/home/krishan/notebooks/gendered-pronoun-resolution', 'JAVA_HOME': '/usr/lib/jvm/java-1.8.0-openjdk-amd64', 'MPLBACKEND': 'module://ipykernel.pylab.backend_inline', 'LANG': 'en_US.UTF-8', 'NODE_PATH': '/usr/lib/node_modules', 'JUPYTERHUB_API_URL': 'http://127.0.0.1:8081/hub/api', '_CE_M': '', 'HOME': '/home/krishan', 'SHLVL': '2', 'JUPYTERHUB_USER': 'krishan', 'MXNET_HOME': '/data/mxnet', 'PYTHONPATH': '/opt/caffe/python:/opt/caffe2/build:', 'CONDA_PYTHON_EXE': '/data/anaconda/bin/python', 'XDG_DATA_DIRS': '/usr/local/share:/usr/share:/var/lib/snapd/desktop', 'AZURE_EXTENSION_DIR': '/opt/az/extensions', 'CONDA_DEFAULT_ENV': 'py36', 'PKG_CONFIG_PATH': '/opt/intel/compilers_and_libraries_2018.1.163/linux/mkl/bin/pkgconfig:', 'JUPYTERHUB_OAUTH_CALLBACK_URL': '/user/krishan/oauth_callback', 'SCALA_HOME': '/usr/share/scala', 'GIT_PAGER': 'cat', 'CAFFE_ROOT': '/opt/caffe', 'CUDA_ROOT': '/usr/local/cuda', 'JUPYTERHUB_HOST': '', 'JUPYTERHUB_SERVICE_PREFIX': '/user/krishan/', 'MASTER_ADDR': '40.74.233.84', 'MASTER_PORT': '29500', 'WORLD_SIZE': '4', 'OMP_NUM_THREADS': '1', 'RANK': '1', 'LOCAL_RANK': '1'})\n",
      "Ranks 1: 2019-10-18 14:54:03,663:INFO: Namespace(backend='nccl', batch_size=4, bert_type='bert-base-uncased', epochs=1, global_rank=1, gradient_accumulation=4, is_distributed=True, local_rank=1, lr=2e-05, master_node='40.74.233.84', master_port=29500, model_type='mul', nprocs=1, per_gpu_batch_size=16, start_rank=0, val_batch_size=64, world_size=4)\n",
      "Ranks 1: 2019-10-18 14:54:03,663:INFO: Setting up DDP\n",
      "2019-10-18 14:54:03,665:INFO: hello\n",
      "2019-10-18 14:54:03,665:INFO: Namespace(backend='nccl', batch_size=4, bert_type='bert-base-uncased', epochs=1, global_rank=None, gradient_accumulation=4, is_distributed=True, local_rank=0, lr=2e-05, master_node='localhost', master_port=12533, model_type='mul', nprocs=1, per_gpu_batch_size=16, start_rank=0, val_batch_size=64, world_size=None)\n",
      "2019-10-18 14:54:03,665:INFO: Updating args from environment variable. Rank = 0\n",
      "Current environment =  environ({'SPARK_HOME': '/dsvm/tools/spark/current', 'TERM': 'xterm-color', 'SHELL': '/bin/bash', 'CLICOLOR': '1', 'JPY_API_TOKEN': '2990fc0289fe4bfda4b5cd6c755625b1', 'CONDA_SHLVL': '2', 'LIBRARY_PATH': '/opt/intel/compilers_and_libraries_2018.1.163/linux/tbb/lib/intel64_lin/gcc4.7:/opt/intel/compilers_and_libraries_2018.1.163/linux/compiler/lib/intel64_lin:/opt/intel/compilers_and_libraries_2018.1.163/linux/mkl/lib/intel64_lin:/usr/local/cuda/lib64:/usr/local/cuda/extras/CUPTI/lib64/:', 'CONDA_PROMPT_MODIFIER': '(py36) ', 'USER': 'krishan', 'JUPYTERHUB_BASE_URL': '/', 'JUPYTERHUB_CLIENT_ID': 'jupyterhub-user-krishan', 'LD_LIBRARY_PATH': '/opt/intel/compilers_and_libraries_2018.1.163/linux/tbb/lib/intel64_lin/gcc4.7:/opt/intel/compilers_and_libraries_2018.1.163/linux/compiler/lib/intel64_lin:/opt/intel/compilers_and_libraries_2018.1.163/linux/mkl/lib/intel64_lin::/usr/local/cuda/lib64:/usr/local/cuda/extras/CUPTI/lib64/', 'CONDA_EXE': '/data/anaconda/bin/conda', 'PYSPARK_PYTHON': '/anaconda/bin/python', 'CPATH': '/opt/intel/compilers_and_libraries_2018.1.163/linux/mkl/include:', 'JUPYTERHUB_API_TOKEN': '2990fc0289fe4bfda4b5cd6c755625b1', 'JPY_PARENT_PID': '3697', 'PAGER': 'cat', '_CE_CONDA': '', 'CUPIT_LIB_PATH': '/usr/local/cuda/extras/CUPTI/lib64/', 'NLSPATH': '/opt/intel/compilers_and_libraries_2018.1.163/linux/mkl/lib/intel64_lin/locale/%l_%t/%N', 'CONDA_PREFIX_1': '/data/anaconda/envs/py35', 'PATH': '/data/anaconda/envs/py36/bin:/data/anaconda/condabin:/usr/local/sbin:/usr/local/bin:/usr/sbin:/usr/bin:/sbin:/bin:/snap/bin:/opt/caffe/build/install/bin:/usr/local/cuda/bin:/dsvm/tools/cntk/cntk/bin:/dsvm/tools/spark/current/bin:/opt/mssql-tools/bin', '_': '/data/anaconda/envs/py36/bin/python', 'CONDA_PREFIX': '/data/anaconda/envs/py36', 'PWD': '/data/home/krishan/notebooks/gendered-pronoun-resolution', 'JAVA_HOME': '/usr/lib/jvm/java-1.8.0-openjdk-amd64', 'MPLBACKEND': 'module://ipykernel.pylab.backend_inline', 'LANG': 'en_US.UTF-8', 'NODE_PATH': '/usr/lib/node_modules', 'JUPYTERHUB_API_URL': 'http://127.0.0.1:8081/hub/api', '_CE_M': '', 'HOME': '/home/krishan', 'SHLVL': '2', 'JUPYTERHUB_USER': 'krishan', 'MXNET_HOME': '/data/mxnet', 'PYTHONPATH': '/opt/caffe/python:/opt/caffe2/build:', 'CONDA_PYTHON_EXE': '/data/anaconda/bin/python', 'XDG_DATA_DIRS': '/usr/local/share:/usr/share:/var/lib/snapd/desktop', 'AZURE_EXTENSION_DIR': '/opt/az/extensions', 'CONDA_DEFAULT_ENV': 'py36', 'PKG_CONFIG_PATH': '/opt/intel/compilers_and_libraries_2018.1.163/linux/mkl/bin/pkgconfig:', 'JUPYTERHUB_OAUTH_CALLBACK_URL': '/user/krishan/oauth_callback', 'SCALA_HOME': '/usr/share/scala', 'GIT_PAGER': 'cat', 'CAFFE_ROOT': '/opt/caffe', 'CUDA_ROOT': '/usr/local/cuda', 'JUPYTERHUB_HOST': '', 'JUPYTERHUB_SERVICE_PREFIX': '/user/krishan/', 'MASTER_ADDR': '40.74.233.84', 'MASTER_PORT': '29500', 'WORLD_SIZE': '4', 'OMP_NUM_THREADS': '1', 'RANK': '0', 'LOCAL_RANK': '0'})\n",
      "Ranks 0: 2019-10-18 14:54:03,665:INFO: Namespace(backend='nccl', batch_size=4, bert_type='bert-base-uncased', epochs=1, global_rank=0, gradient_accumulation=4, is_distributed=True, local_rank=0, lr=2e-05, master_node='40.74.233.84', master_port=29500, model_type='mul', nprocs=1, per_gpu_batch_size=16, start_rank=0, val_batch_size=64, world_size=4)\n",
      "Ranks 0: 2019-10-18 14:54:03,666:INFO: Setting up DDP\n"
     ]
    }
   ],
   "source": [
    "!python -m torch.distributed.launch \\\n",
    "    --nproc_per_node=2 \\\n",
    "    --nnodes=2 \\\n",
    "    --node_rank=0 \\\n",
    "    --master_addr='40.74.233.84' \\\n",
    "    --master_port=29500 \\\n",
    "    TrainGAP.py \\\n",
    "        --is_distributed \\\n",
    "        --per_gpu_batch_size 16 \\\n",
    "        --gradient_accumulation 4 \\\n",
    "        --backend nccl"
   ]
  },
  {
   "cell_type": "markdown",
   "metadata": {},
   "source": [
    "### Node 2"
   ]
  },
  {
   "cell_type": "code",
   "execution_count": null,
   "metadata": {},
   "outputs": [
    {
     "name": "stdout",
     "output_type": "stream",
     "text": [
      "*****************************************\n",
      "Setting OMP_NUM_THREADS environment variable for each process to be 1 in default, to avoid your system being overloaded, please further tune the variable for optimal performance in your application as needed. \n",
      "*****************************************\n",
      "I1018 14:52:21.652930 140038871029504 file_utils.py:39] PyTorch version 1.2.0 available.\n",
      "I1018 14:52:21.664956 140347761358592 file_utils.py:39] PyTorch version 1.2.0 available.\n",
      "I1018 14:52:22.004618 140038871029504 modeling_xlnet.py:194] Better speed can be achieved with apex installed from https://www.github.com/nvidia/apex .\n",
      "I1018 14:52:22.007677 140347761358592 modeling_xlnet.py:194] Better speed can be achieved with apex installed from https://www.github.com/nvidia/apex .\n",
      "2019-10-18 14:52:22,009:INFO: hello\n",
      "2019-10-18 14:52:22,009:INFO: Namespace(backend='nccl', batch_size=4, bert_type='bert-base-uncased', epochs=1, global_rank=None, gradient_accumulation=4, is_distributed=True, local_rank=1, lr=2e-05, master_node='localhost', master_port=12533, model_type='mul', nprocs=1, per_gpu_batch_size=16, start_rank=0, val_batch_size=64, world_size=None)\n",
      "2019-10-18 14:52:22,010:INFO: Updating args from environment variable. Rank = 1\n",
      "Current environment =  environ({'SPARK_HOME': '/dsvm/tools/spark/current', 'TERM': 'xterm-color', 'SHELL': '/bin/bash', 'CLICOLOR': '1', 'JPY_API_TOKEN': '2990fc0289fe4bfda4b5cd6c755625b1', 'CONDA_SHLVL': '2', 'LIBRARY_PATH': '/opt/intel/compilers_and_libraries_2018.1.163/linux/tbb/lib/intel64_lin/gcc4.7:/opt/intel/compilers_and_libraries_2018.1.163/linux/compiler/lib/intel64_lin:/opt/intel/compilers_and_libraries_2018.1.163/linux/mkl/lib/intel64_lin:/usr/local/cuda/lib64:/usr/local/cuda/extras/CUPTI/lib64/:', 'CONDA_PROMPT_MODIFIER': '(py36) ', 'USER': 'krishan', 'JUPYTERHUB_BASE_URL': '/', 'JUPYTERHUB_CLIENT_ID': 'jupyterhub-user-krishan', 'LD_LIBRARY_PATH': '/opt/intel/compilers_and_libraries_2018.1.163/linux/tbb/lib/intel64_lin/gcc4.7:/opt/intel/compilers_and_libraries_2018.1.163/linux/compiler/lib/intel64_lin:/opt/intel/compilers_and_libraries_2018.1.163/linux/mkl/lib/intel64_lin::/usr/local/cuda/lib64:/usr/local/cuda/extras/CUPTI/lib64/', 'CONDA_EXE': '/data/anaconda/bin/conda', 'PYSPARK_PYTHON': '/anaconda/bin/python', 'CPATH': '/opt/intel/compilers_and_libraries_2018.1.163/linux/mkl/include:', 'JUPYTERHUB_API_TOKEN': '2990fc0289fe4bfda4b5cd6c755625b1', 'JPY_PARENT_PID': '3697', 'PAGER': 'cat', '_CE_CONDA': '', 'CUPIT_LIB_PATH': '/usr/local/cuda/extras/CUPTI/lib64/', 'NLSPATH': '/opt/intel/compilers_and_libraries_2018.1.163/linux/mkl/lib/intel64_lin/locale/%l_%t/%N', 'CONDA_PREFIX_1': '/data/anaconda/envs/py35', 'PATH': '/data/anaconda/envs/py36/bin:/data/anaconda/condabin:/usr/local/sbin:/usr/local/bin:/usr/sbin:/usr/bin:/sbin:/bin:/snap/bin:/opt/caffe/build/install/bin:/usr/local/cuda/bin:/dsvm/tools/cntk/cntk/bin:/dsvm/tools/spark/current/bin:/opt/mssql-tools/bin', '_': '/data/anaconda/envs/py36/bin/python', 'CONDA_PREFIX': '/data/anaconda/envs/py36', 'PWD': '/data/home/krishan/notebooks/gendered-pronoun-resolution', 'JAVA_HOME': '/usr/lib/jvm/java-1.8.0-openjdk-amd64', 'MPLBACKEND': 'module://ipykernel.pylab.backend_inline', 'LANG': 'en_US.UTF-8', 'NODE_PATH': '/usr/lib/node_modules', 'JUPYTERHUB_API_URL': 'http://127.0.0.1:8081/hub/api', '_CE_M': '', 'HOME': '/home/krishan', 'SHLVL': '2', 'JUPYTERHUB_USER': 'krishan', 'MXNET_HOME': '/data/mxnet', 'PYTHONPATH': '/opt/caffe/python:/opt/caffe2/build:', 'CONDA_PYTHON_EXE': '/data/anaconda/bin/python', 'XDG_DATA_DIRS': '/usr/local/share:/usr/share:/var/lib/snapd/desktop', 'AZURE_EXTENSION_DIR': '/opt/az/extensions', 'CONDA_DEFAULT_ENV': 'py36', 'PKG_CONFIG_PATH': '/opt/intel/compilers_and_libraries_2018.1.163/linux/mkl/bin/pkgconfig:', 'JUPYTERHUB_OAUTH_CALLBACK_URL': '/user/krishan/oauth_callback', 'SCALA_HOME': '/usr/share/scala', 'GIT_PAGER': 'cat', 'CAFFE_ROOT': '/opt/caffe', 'CUDA_ROOT': '/usr/local/cuda', 'JUPYTERHUB_HOST': '', 'JUPYTERHUB_SERVICE_PREFIX': '/user/krishan/', 'MASTER_ADDR': '40.74.233.84', 'MASTER_PORT': '29500', 'WORLD_SIZE': '4', 'OMP_NUM_THREADS': '1', 'RANK': '3', 'LOCAL_RANK': '1'})\n",
      "Ranks 1: 2019-10-18 14:52:22,010:INFO: Namespace(backend='nccl', batch_size=4, bert_type='bert-base-uncased', epochs=1, global_rank=3, gradient_accumulation=4, is_distributed=True, local_rank=1, lr=2e-05, master_node='40.74.233.84', master_port=29500, model_type='mul', nprocs=1, per_gpu_batch_size=16, start_rank=0, val_batch_size=64, world_size=4)\n",
      "Ranks 1: 2019-10-18 14:52:22,010:INFO: Setting up DDP\n",
      "2019-10-18 14:52:22,012:INFO: hello\n",
      "2019-10-18 14:52:22,012:INFO: Namespace(backend='nccl', batch_size=4, bert_type='bert-base-uncased', epochs=1, global_rank=None, gradient_accumulation=4, is_distributed=True, local_rank=0, lr=2e-05, master_node='localhost', master_port=12533, model_type='mul', nprocs=1, per_gpu_batch_size=16, start_rank=0, val_batch_size=64, world_size=None)\n",
      "2019-10-18 14:52:22,012:INFO: Updating args from environment variable. Rank = 0\n",
      "Current environment =  environ({'SPARK_HOME': '/dsvm/tools/spark/current', 'TERM': 'xterm-color', 'SHELL': '/bin/bash', 'CLICOLOR': '1', 'JPY_API_TOKEN': '2990fc0289fe4bfda4b5cd6c755625b1', 'CONDA_SHLVL': '2', 'LIBRARY_PATH': '/opt/intel/compilers_and_libraries_2018.1.163/linux/tbb/lib/intel64_lin/gcc4.7:/opt/intel/compilers_and_libraries_2018.1.163/linux/compiler/lib/intel64_lin:/opt/intel/compilers_and_libraries_2018.1.163/linux/mkl/lib/intel64_lin:/usr/local/cuda/lib64:/usr/local/cuda/extras/CUPTI/lib64/:', 'CONDA_PROMPT_MODIFIER': '(py36) ', 'USER': 'krishan', 'JUPYTERHUB_BASE_URL': '/', 'JUPYTERHUB_CLIENT_ID': 'jupyterhub-user-krishan', 'LD_LIBRARY_PATH': '/opt/intel/compilers_and_libraries_2018.1.163/linux/tbb/lib/intel64_lin/gcc4.7:/opt/intel/compilers_and_libraries_2018.1.163/linux/compiler/lib/intel64_lin:/opt/intel/compilers_and_libraries_2018.1.163/linux/mkl/lib/intel64_lin::/usr/local/cuda/lib64:/usr/local/cuda/extras/CUPTI/lib64/', 'CONDA_EXE': '/data/anaconda/bin/conda', 'PYSPARK_PYTHON': '/anaconda/bin/python', 'CPATH': '/opt/intel/compilers_and_libraries_2018.1.163/linux/mkl/include:', 'JUPYTERHUB_API_TOKEN': '2990fc0289fe4bfda4b5cd6c755625b1', 'JPY_PARENT_PID': '3697', 'PAGER': 'cat', '_CE_CONDA': '', 'CUPIT_LIB_PATH': '/usr/local/cuda/extras/CUPTI/lib64/', 'NLSPATH': '/opt/intel/compilers_and_libraries_2018.1.163/linux/mkl/lib/intel64_lin/locale/%l_%t/%N', 'CONDA_PREFIX_1': '/data/anaconda/envs/py35', 'PATH': '/data/anaconda/envs/py36/bin:/data/anaconda/condabin:/usr/local/sbin:/usr/local/bin:/usr/sbin:/usr/bin:/sbin:/bin:/snap/bin:/opt/caffe/build/install/bin:/usr/local/cuda/bin:/dsvm/tools/cntk/cntk/bin:/dsvm/tools/spark/current/bin:/opt/mssql-tools/bin', '_': '/data/anaconda/envs/py36/bin/python', 'CONDA_PREFIX': '/data/anaconda/envs/py36', 'PWD': '/data/home/krishan/notebooks/gendered-pronoun-resolution', 'JAVA_HOME': '/usr/lib/jvm/java-1.8.0-openjdk-amd64', 'MPLBACKEND': 'module://ipykernel.pylab.backend_inline', 'LANG': 'en_US.UTF-8', 'NODE_PATH': '/usr/lib/node_modules', 'JUPYTERHUB_API_URL': 'http://127.0.0.1:8081/hub/api', '_CE_M': '', 'HOME': '/home/krishan', 'SHLVL': '2', 'JUPYTERHUB_USER': 'krishan', 'MXNET_HOME': '/data/mxnet', 'PYTHONPATH': '/opt/caffe/python:/opt/caffe2/build:', 'CONDA_PYTHON_EXE': '/data/anaconda/bin/python', 'XDG_DATA_DIRS': '/usr/local/share:/usr/share:/var/lib/snapd/desktop', 'AZURE_EXTENSION_DIR': '/opt/az/extensions', 'CONDA_DEFAULT_ENV': 'py36', 'PKG_CONFIG_PATH': '/opt/intel/compilers_and_libraries_2018.1.163/linux/mkl/bin/pkgconfig:', 'JUPYTERHUB_OAUTH_CALLBACK_URL': '/user/krishan/oauth_callback', 'SCALA_HOME': '/usr/share/scala', 'GIT_PAGER': 'cat', 'CAFFE_ROOT': '/opt/caffe', 'CUDA_ROOT': '/usr/local/cuda', 'JUPYTERHUB_HOST': '', 'JUPYTERHUB_SERVICE_PREFIX': '/user/krishan/', 'MASTER_ADDR': '40.74.233.84', 'MASTER_PORT': '29500', 'WORLD_SIZE': '4', 'OMP_NUM_THREADS': '1', 'RANK': '2', 'LOCAL_RANK': '0'})\n",
      "Ranks 0: 2019-10-18 14:52:22,012:INFO: Namespace(backend='nccl', batch_size=4, bert_type='bert-base-uncased', epochs=1, global_rank=2, gradient_accumulation=4, is_distributed=True, local_rank=0, lr=2e-05, master_node='40.74.233.84', master_port=29500, model_type='mul', nprocs=1, per_gpu_batch_size=16, start_rank=0, val_batch_size=64, world_size=4)\n",
      "Ranks 0: 2019-10-18 14:52:22,012:INFO: Setting up DDP\n"
     ]
    }
   ],
   "source": [
    "# !python -m torch.distributed.launch \\\n",
    "#     --nproc_per_node=2 \\\n",
    "#     --nnodes=2 \\\n",
    "#     --node_rank=1 \\\n",
    "#     --master_addr='40.74.233.84' \\\n",
    "#     --master_port=29500 \\\n",
    "#     TrainGAP.py \\\n",
    "#         --is_distributed \\\n",
    "#         --per_gpu_batch_size 16 \\\n",
    "#         --gradient_accumulation 4 \\\n",
    "#         --backend nccl"
   ]
  },
  {
   "cell_type": "code",
   "execution_count": null,
   "metadata": {},
   "outputs": [],
   "source": []
  }
 ],
 "metadata": {
  "kernelspec": {
   "display_name": "Python 3.6 - AzureML",
   "language": "python",
   "name": "python3-azureml"
  },
  "language_info": {
   "codemirror_mode": {
    "name": "ipython",
    "version": 3
   },
   "file_extension": ".py",
   "mimetype": "text/x-python",
   "name": "python",
   "nbconvert_exporter": "python",
   "pygments_lexer": "ipython3",
   "version": "3.6.8"
  }
 },
 "nbformat": 4,
 "nbformat_minor": 2
}
