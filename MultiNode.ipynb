{
 "cells": [
  {
   "cell_type": "markdown",
   "metadata": {},
   "source": [
    "# 2 nodes 2 processes"
   ]
  },
  {
   "cell_type": "markdown",
   "metadata": {},
   "source": [
    "## Node 1\n",
    "Not working Yet"
   ]
  },
  {
   "cell_type": "code",
   "execution_count": 1,
   "metadata": {},
   "outputs": [
    {
     "name": "stdout",
     "output_type": "stream",
     "text": [
      "I1014 16:34:12.364225 140287839864576 file_utils.py:39] PyTorch version 1.1.0 available.\n",
      "I1014 16:34:12.655557 140287839864576 modeling_xlnet.py:194] Better speed can be achieved with apex installed from https://www.github.com/nvidia/apex .\n",
      "2019-10-14 16:34:12,662:INFO: hello\n",
      "2019-10-14 16:34:12,662:INFO: Namespace(backend='gloo', batch_size=4, bert_type='bert-base-uncased', epochs=1, global_rank=0, gradient_accumulation=8, is_distributed=True, local_rank=0, lr=2e-05, master_node='13.77.120.128', master_port=8080, model_type='mul', nprocs=1, per_gpu_batch_size=32, start_rank=0, val_batch_size=64, world_size=2)\n",
      "Ranks 0: 2019-10-14 16:34:12,662:INFO: Namespace(backend='gloo', batch_size=4, bert_type='bert-base-uncased', epochs=1, global_rank=0, gradient_accumulation=8, is_distributed=True, local_rank=0, lr=2e-05, master_node='13.77.120.128', master_port=8080, model_type='mul', nprocs=1, per_gpu_batch_size=32, start_rank=0, val_batch_size=64, world_size=2)\n",
      "Ranks 0: 2019-10-14 16:34:12,662:INFO: Setting up DDP\n",
      "^C\n",
      "\n"
     ]
    }
   ],
   "source": [
    "!python TrainGAP.py --is_distributed --local_rank 0 --global_rank 0 --world_size 2 --master_node '13.77.120.128' --master_port 8080"
   ]
  },
  {
   "cell_type": "markdown",
   "metadata": {},
   "source": [
    "## Node 2"
   ]
  },
  {
   "cell_type": "code",
   "execution_count": null,
   "metadata": {},
   "outputs": [],
   "source": [
    "#!python TrainGAP.py --is_distributed --local_rank 0 --global_rank 1 --world_size 2 --master_node '13.77.120.128' --master_port 8080"
   ]
  },
  {
   "cell_type": "markdown",
   "metadata": {},
   "source": [
    "1. Connection failed error.\n",
    "    Open port in Azure VM . You won't be able to telnet t it yet as nothing is running on that yet\n",
    "2. NCCL error"
   ]
  },
  {
   "cell_type": "code",
   "execution_count": null,
   "metadata": {},
   "outputs": [],
   "source": []
  }
 ],
 "metadata": {
  "kernelspec": {
   "display_name": "Python 3.6 - AzureML",
   "language": "python",
   "name": "python3-azureml"
  },
  "language_info": {
   "codemirror_mode": {
    "name": "ipython",
    "version": 3
   },
   "file_extension": ".py",
   "mimetype": "text/x-python",
   "name": "python",
   "nbconvert_exporter": "python",
   "pygments_lexer": "ipython3",
   "version": "3.6.8"
  }
 },
 "nbformat": 4,
 "nbformat_minor": 2
}
