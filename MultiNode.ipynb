{
 "cells": [
  {
   "cell_type": "markdown",
   "metadata": {},
   "source": [
    "# 2 nodes 2 processes"
   ]
  },
  {
   "cell_type": "markdown",
   "metadata": {},
   "source": [
    "### Node 1\n",
    "Not working Yet"
   ]
  },
  {
   "cell_type": "code",
   "execution_count": 4,
   "metadata": {},
   "outputs": [
    {
     "name": "stdout",
     "output_type": "stream",
     "text": [
      "I1017 15:27:06.885352 140611991447296 file_utils.py:39] PyTorch version 1.2.0 available.\n",
      "I1017 15:27:07.223903 140611991447296 modeling_xlnet.py:194] Better speed can be achieved with apex installed from https://www.github.com/nvidia/apex .\n",
      "2019-10-17 15:27:07,228:INFO: hello\n",
      "2019-10-17 15:27:07,228:INFO: Namespace(backend='nccl', batch_size=4, bert_type='bert-base-uncased', epochs=1, global_rank=0, gradient_accumulation=8, is_distributed=True, local_rank=0, lr=2e-05, master_node='40.74.233.84', master_port=29500, model_type='mul', nprocs=1, per_gpu_batch_size=32, start_rank=0, val_batch_size=64, world_size=2)\n",
      "Ranks 0: 2019-10-17 15:27:07,228:INFO: Namespace(backend='nccl', batch_size=4, bert_type='bert-base-uncased', epochs=1, global_rank=0, gradient_accumulation=8, is_distributed=True, local_rank=0, lr=2e-05, master_node='40.74.233.84', master_port=29500, model_type='mul', nprocs=1, per_gpu_batch_size=32, start_rank=0, val_batch_size=64, world_size=2)\n",
      "Ranks 0: 2019-10-17 15:27:07,228:INFO: Setting up DDP\n",
      "Ranks 0: 2019-10-17 15:27:07,458:INFO: device = cuda:0\n",
      "Ranks 0: 2019-10-17 15:27:07,656:INFO: loading file https://s3.amazonaws.com/models.huggingface.co/bert/bert-base-uncased-vocab.txt from cache at /home/krishan/.cache/torch/transformers/26bc1ad6c0ac742e9b52263248f6d0f00068293b33709fae12320c0e35ccfbbb.542ce4285a40d23a559526243235df47c5f75c197f04f37d1a0c124c32c9a084\n",
      "Ranks 0: 2019-10-17 15:27:08,755:INFO: loading file https://s3.amazonaws.com/models.huggingface.co/bert/bert-base-uncased-vocab.txt from cache at /home/krishan/.cache/torch/transformers/26bc1ad6c0ac742e9b52263248f6d0f00068293b33709fae12320c0e35ccfbbb.542ce4285a40d23a559526243235df47c5f75c197f04f37d1a0c124c32c9a084\n",
      "Ranks 0: 2019-10-17 15:27:09,136:INFO: loading configuration file https://s3.amazonaws.com/models.huggingface.co/bert/bert-base-uncased-config.json from cache at /home/krishan/.cache/torch/transformers/4dad0251492946e18ac39290fcfe91b89d370fee250efe9521476438fe8ca185.bf3b9ea126d8c0001ee8a1e8b92229871d06d36d8808208cc2449280da87785c\n",
      "Ranks 0: 2019-10-17 15:27:09,137:INFO: Model config {\n",
      "  \"attention_probs_dropout_prob\": 0.1,\n",
      "  \"finetuning_task\": null,\n",
      "  \"hidden_act\": \"gelu\",\n",
      "  \"hidden_dropout_prob\": 0.1,\n",
      "  \"hidden_size\": 768,\n",
      "  \"initializer_range\": 0.02,\n",
      "  \"intermediate_size\": 3072,\n",
      "  \"layer_norm_eps\": 1e-12,\n",
      "  \"max_position_embeddings\": 512,\n",
      "  \"num_attention_heads\": 12,\n",
      "  \"num_hidden_layers\": 12,\n",
      "  \"num_labels\": 2,\n",
      "  \"output_attentions\": false,\n",
      "  \"output_hidden_states\": false,\n",
      "  \"output_past\": true,\n",
      "  \"pruned_heads\": {},\n",
      "  \"torchscript\": false,\n",
      "  \"type_vocab_size\": 2,\n",
      "  \"use_bfloat16\": false,\n",
      "  \"vocab_size\": 30522\n",
      "}\n",
      "\n",
      "Ranks 0: 2019-10-17 15:27:09,311:INFO: loading weights file https://s3.amazonaws.com/models.huggingface.co/bert/bert-base-uncased-pytorch_model.bin from cache at /home/krishan/.cache/torch/transformers/aa1ef1aede4482d0dbcd4d52baad8ae300e60902e88fcb0bebdec09afd232066.36ca03ab34a1a5d5fa7bc3d03d55c4fa650fed07220e2eeebc06ce58d0e9a157\n",
      "Ranks 0: 2019-10-17 15:27:12,178:INFO: Weights of BertForPronounResolution_Mul not initialized from pretrained model: ['neither_params']\n",
      "Ranks 0: 2019-10-17 15:27:12,178:INFO: Weights from pretrained model not used in BertForPronounResolution_Mul: ['cls.predictions.bias', 'cls.predictions.transform.dense.weight', 'cls.predictions.transform.dense.bias', 'cls.predictions.decoder.weight', 'cls.seq_relationship.weight', 'cls.seq_relationship.bias', 'cls.predictions.transform.LayerNorm.weight', 'cls.predictions.transform.LayerNorm.bias']\n",
      "Ranks 0: 2019-10-17 15:27:12,179:INFO: Model used = <class 'BertModels.BertForPronounResolution_Mul'>\n",
      "Ranks 0: 2019-10-17 15:27:14,489:INFO: Training epoch 0\n",
      "batch_iterator: 100%|█████████████| 250/250 [05:38<00:00,  1.35s/it, loss=0.409]\n",
      "Ranks 0: 2019-10-17 15:32:53,397:INFO: Time taken for epoch 1 is = 338.90844225883484\n",
      "100%|█████████████████████████████████████████████| 8/8 [00:31<00:00,  3.25s/it]\n",
      "Ranks 0: 2019-10-17 15:33:25,037:INFO: Epoch = 1, Val loss = 0.4492269828915596, val_acc = 0.8458149779735683\n"
     ]
    }
   ],
   "source": [
    "!python TrainGAP.py --is_distributed --local_rank 0 --global_rank 0 --world_size 2 --master_node '40.74.233.84' --master_port 29500 --backend nccl"
   ]
  },
  {
   "cell_type": "markdown",
   "metadata": {},
   "source": [
    "### Node 2"
   ]
  },
  {
   "cell_type": "code",
   "execution_count": 2,
   "metadata": {},
   "outputs": [],
   "source": [
    "#!python TrainGAP.py --is_distributed --local_rank 0 --global_rank 1 --world_size 2 --master_node '40.74.233.84' --master_port '29500' --backend nccl"
   ]
  },
  {
   "cell_type": "markdown",
   "metadata": {},
   "source": [
    "If training does not progress or timeout error is seen, follow this blog to test if distributed training is possible between the machines or not\n",
    "\n",
    "https://krishansubudhi.github.io/deeplearning/2019/10/15/PyTorch-Distributed.html"
   ]
  },
  {
   "cell_type": "markdown",
   "metadata": {},
   "source": [
    "# 2 nodes 4 processes\n",
    "using mp.spawn"
   ]
  },
  {
   "cell_type": "markdown",
   "metadata": {},
   "source": [
    "### Node 1"
   ]
  },
  {
   "cell_type": "code",
   "execution_count": 7,
   "metadata": {},
   "outputs": [
    {
     "name": "stdout",
     "output_type": "stream",
     "text": [
      "I1017 16:12:38.064308 140639488706304 file_utils.py:39] PyTorch version 1.2.0 available.\n",
      "I1017 16:12:38.417543 140639488706304 modeling_xlnet.py:194] Better speed can be achieved with apex installed from https://www.github.com/nvidia/apex .\n",
      "2019-10-17 16:12:38,422:INFO: hello\n",
      "2019-10-17 16:12:38,422:INFO: Namespace(backend='nccl', batch_size=4, bert_type='bert-base-uncased', epochs=1, global_rank=None, gradient_accumulation=8, is_distributed=True, local_rank=-1, lr=2e-05, master_node='40.74.233.84', master_port=29500, model_type='mul', nprocs=2, per_gpu_batch_size=32, start_rank=0, val_batch_size=64, world_size=4)\n",
      "I1017 16:12:40.518666 139933673015040 file_utils.py:39] PyTorch version 1.2.0 available.\n",
      "I1017 16:12:40.528207 139739789072128 file_utils.py:39] PyTorch version 1.2.0 available.\n",
      "I1017 16:12:40.871731 139739789072128 modeling_xlnet.py:194] Better speed can be achieved with apex installed from https://www.github.com/nvidia/apex .\n",
      "2019-10-17 16:12:40,875:INFO: hello\n",
      "I1017 16:12:40.875800 139933673015040 modeling_xlnet.py:194] Better speed can be achieved with apex installed from https://www.github.com/nvidia/apex .\n",
      "2019-10-17 16:12:40,876:INFO: inside spawn method . Rank = 0\n",
      "Ranks 0: 2019-10-17 16:12:40,876:INFO: Namespace(backend='nccl', batch_size=4, bert_type='bert-base-uncased', epochs=1, global_rank=0, gradient_accumulation=8, is_distributed=True, local_rank=0, lr=2e-05, master_node='40.74.233.84', master_port=29500, model_type='mul', nprocs=2, per_gpu_batch_size=32, start_rank=0, val_batch_size=64, world_size=4)\n",
      "Ranks 0: 2019-10-17 16:12:40,876:INFO: Setting up DDP\n",
      "2019-10-17 16:12:40,880:INFO: hello\n",
      "2019-10-17 16:12:40,881:INFO: inside spawn method . Rank = 1\n",
      "Ranks 1: 2019-10-17 16:12:40,881:INFO: Namespace(backend='nccl', batch_size=4, bert_type='bert-base-uncased', epochs=1, global_rank=1, gradient_accumulation=8, is_distributed=True, local_rank=1, lr=2e-05, master_node='40.74.233.84', master_port=29500, model_type='mul', nprocs=2, per_gpu_batch_size=32, start_rank=0, val_batch_size=64, world_size=4)\n",
      "Ranks 1: 2019-10-17 16:12:40,881:INFO: Setting up DDP\n",
      "Ranks 1: 2019-10-17 16:12:40,884:INFO: device = cuda:1\n",
      "Ranks 1: 2019-10-17 16:12:41,130:INFO: loading file https://s3.amazonaws.com/models.huggingface.co/bert/bert-base-uncased-vocab.txt from cache at /home/krishan/.cache/torch/transformers/26bc1ad6c0ac742e9b52263248f6d0f00068293b33709fae12320c0e35ccfbbb.542ce4285a40d23a559526243235df47c5f75c197f04f37d1a0c124c32c9a084\n",
      "Ranks 0: 2019-10-17 16:12:41,748:INFO: device = cuda:0\n",
      "Ranks 0: 2019-10-17 16:12:41,936:INFO: loading file https://s3.amazonaws.com/models.huggingface.co/bert/bert-base-uncased-vocab.txt from cache at /home/krishan/.cache/torch/transformers/26bc1ad6c0ac742e9b52263248f6d0f00068293b33709fae12320c0e35ccfbbb.542ce4285a40d23a559526243235df47c5f75c197f04f37d1a0c124c32c9a084\n",
      "Ranks 1: 2019-10-17 16:12:42,250:INFO: loading file https://s3.amazonaws.com/models.huggingface.co/bert/bert-base-uncased-vocab.txt from cache at /home/krishan/.cache/torch/transformers/26bc1ad6c0ac742e9b52263248f6d0f00068293b33709fae12320c0e35ccfbbb.542ce4285a40d23a559526243235df47c5f75c197f04f37d1a0c124c32c9a084\n",
      "Ranks 1: 2019-10-17 16:12:42,635:INFO: loading configuration file https://s3.amazonaws.com/models.huggingface.co/bert/bert-base-uncased-config.json from cache at /home/krishan/.cache/torch/transformers/4dad0251492946e18ac39290fcfe91b89d370fee250efe9521476438fe8ca185.bf3b9ea126d8c0001ee8a1e8b92229871d06d36d8808208cc2449280da87785c\n",
      "Ranks 1: 2019-10-17 16:12:42,635:INFO: Model config {\n",
      "  \"attention_probs_dropout_prob\": 0.1,\n",
      "  \"finetuning_task\": null,\n",
      "  \"hidden_act\": \"gelu\",\n",
      "  \"hidden_dropout_prob\": 0.1,\n",
      "  \"hidden_size\": 768,\n",
      "  \"initializer_range\": 0.02,\n",
      "  \"intermediate_size\": 3072,\n",
      "  \"layer_norm_eps\": 1e-12,\n",
      "  \"max_position_embeddings\": 512,\n",
      "  \"num_attention_heads\": 12,\n",
      "  \"num_hidden_layers\": 12,\n",
      "  \"num_labels\": 2,\n",
      "  \"output_attentions\": false,\n",
      "  \"output_hidden_states\": false,\n",
      "  \"output_past\": true,\n",
      "  \"pruned_heads\": {},\n",
      "  \"torchscript\": false,\n",
      "  \"type_vocab_size\": 2,\n",
      "  \"use_bfloat16\": false,\n",
      "  \"vocab_size\": 30522\n",
      "}\n",
      "\n",
      "Ranks 1: 2019-10-17 16:12:42,812:INFO: loading weights file https://s3.amazonaws.com/models.huggingface.co/bert/bert-base-uncased-pytorch_model.bin from cache at /home/krishan/.cache/torch/transformers/aa1ef1aede4482d0dbcd4d52baad8ae300e60902e88fcb0bebdec09afd232066.36ca03ab34a1a5d5fa7bc3d03d55c4fa650fed07220e2eeebc06ce58d0e9a157\n",
      "Ranks 0: 2019-10-17 16:12:43,050:INFO: loading file https://s3.amazonaws.com/models.huggingface.co/bert/bert-base-uncased-vocab.txt from cache at /home/krishan/.cache/torch/transformers/26bc1ad6c0ac742e9b52263248f6d0f00068293b33709fae12320c0e35ccfbbb.542ce4285a40d23a559526243235df47c5f75c197f04f37d1a0c124c32c9a084\n",
      "Ranks 0: 2019-10-17 16:12:43,469:INFO: loading configuration file https://s3.amazonaws.com/models.huggingface.co/bert/bert-base-uncased-config.json from cache at /home/krishan/.cache/torch/transformers/4dad0251492946e18ac39290fcfe91b89d370fee250efe9521476438fe8ca185.bf3b9ea126d8c0001ee8a1e8b92229871d06d36d8808208cc2449280da87785c\n",
      "Ranks 0: 2019-10-17 16:12:43,469:INFO: Model config {\n",
      "  \"attention_probs_dropout_prob\": 0.1,\n",
      "  \"finetuning_task\": null,\n",
      "  \"hidden_act\": \"gelu\",\n",
      "  \"hidden_dropout_prob\": 0.1,\n",
      "  \"hidden_size\": 768,\n",
      "  \"initializer_range\": 0.02,\n",
      "  \"intermediate_size\": 3072,\n",
      "  \"layer_norm_eps\": 1e-12,\n",
      "  \"max_position_embeddings\": 512,\n",
      "  \"num_attention_heads\": 12,\n",
      "  \"num_hidden_layers\": 12,\n",
      "  \"num_labels\": 2,\n",
      "  \"output_attentions\": false,\n",
      "  \"output_hidden_states\": false,\n",
      "  \"output_past\": true,\n",
      "  \"pruned_heads\": {},\n",
      "  \"torchscript\": false,\n",
      "  \"type_vocab_size\": 2,\n",
      "  \"use_bfloat16\": false,\n",
      "  \"vocab_size\": 30522\n",
      "}\n",
      "\n",
      "Ranks 0: 2019-10-17 16:12:43,638:INFO: loading weights file https://s3.amazonaws.com/models.huggingface.co/bert/bert-base-uncased-pytorch_model.bin from cache at /home/krishan/.cache/torch/transformers/aa1ef1aede4482d0dbcd4d52baad8ae300e60902e88fcb0bebdec09afd232066.36ca03ab34a1a5d5fa7bc3d03d55c4fa650fed07220e2eeebc06ce58d0e9a157\n",
      "Ranks 1: 2019-10-17 16:12:45,703:INFO: Weights of BertForPronounResolution_Mul not initialized from pretrained model: ['neither_params']\n",
      "Ranks 1: 2019-10-17 16:12:45,703:INFO: Weights from pretrained model not used in BertForPronounResolution_Mul: ['cls.predictions.bias', 'cls.predictions.transform.dense.weight', 'cls.predictions.transform.dense.bias', 'cls.predictions.decoder.weight', 'cls.seq_relationship.weight', 'cls.seq_relationship.bias', 'cls.predictions.transform.LayerNorm.weight', 'cls.predictions.transform.LayerNorm.bias']\n",
      "Ranks 1: 2019-10-17 16:12:45,704:INFO: Model used = <class 'BertModels.BertForPronounResolution_Mul'>\n",
      "Ranks 0: 2019-10-17 16:12:46,566:INFO: Weights of BertForPronounResolution_Mul not initialized from pretrained model: ['neither_params']\n",
      "Ranks 0: 2019-10-17 16:12:46,566:INFO: Weights from pretrained model not used in BertForPronounResolution_Mul: ['cls.predictions.bias', 'cls.predictions.transform.dense.weight', 'cls.predictions.transform.dense.bias', 'cls.predictions.decoder.weight', 'cls.seq_relationship.weight', 'cls.seq_relationship.bias', 'cls.predictions.transform.LayerNorm.weight', 'cls.predictions.transform.LayerNorm.bias']\n",
      "Ranks 0: 2019-10-17 16:12:46,567:INFO: Model used = <class 'BertModels.BertForPronounResolution_Mul'>\n",
      "Ranks 0: 2019-10-17 16:12:48,910:INFO: Training epoch 0\n",
      "Ranks 1: 2019-10-17 16:12:48,910:INFO: Training epoch 0\n",
      "batch_iterator: 100%|█████████████| 125/125 [04:15<00:00,  2.05s/it, loss=0.472]\n",
      "Ranks 1: 2019-10-17 16:17:04,378:INFO: Time taken for epoch 1 is = 255.4674949645996\n",
      "batch_iterator: 100%|█████████████| 125/125 [04:15<00:00,  2.05s/it, loss=0.477]\n",
      "Ranks 0: 2019-10-17 16:17:04,380:INFO: Time taken for epoch 1 is = 255.47018694877625\n",
      "100%|█████████████████████████████████████████████| 8/8 [00:31<00:00,  3.21s/it]\n",
      "Ranks 0: 2019-10-17 16:17:35,619:INFO: Epoch = 1, Val loss = 0.5387476570904255, val_acc = 0.801762114537445\n",
      "100%|█████████████████████████████████████████████| 8/8 [00:31<00:00,  3.25s/it]\n",
      "Ranks 1: 2019-10-17 16:17:36,094:INFO: Epoch = 1, Val loss = 0.5387476570904255, val_acc = 0.801762114537445\n"
     ]
    }
   ],
   "source": [
    "!python TrainGAP.py \\\n",
    "        --is_distributed \\\n",
    "        --world_size 4 \\\n",
    "        --nprocs 2 \\\n",
    "        --start_rank 0\\\n",
    "        --backend nccl \\\n",
    "        --master_node '40.74.233.84' \\\n",
    "        --master_port 29500"
   ]
  },
  {
   "cell_type": "markdown",
   "metadata": {},
   "source": [
    "### Node 2"
   ]
  },
  {
   "cell_type": "code",
   "execution_count": null,
   "metadata": {},
   "outputs": [],
   "source": [
    "# !python TrainGAP.py \\\n",
    "#         --is_distributed \\\n",
    "#         --world_size 4 \\\n",
    "#         --nprocs 2 \\\n",
    "#         --start_rank 2\\\n",
    "#         --backend nccl \\\n",
    "#         --master_node '40.74.233.84' \\\n",
    "#         --master_port 29500"
   ]
  }
 ],
 "metadata": {
  "kernelspec": {
   "display_name": "Python 3.6 - AzureML",
   "language": "python",
   "name": "python3-azureml"
  },
  "language_info": {
   "codemirror_mode": {
    "name": "ipython",
    "version": 3
   },
   "file_extension": ".py",
   "mimetype": "text/x-python",
   "name": "python",
   "nbconvert_exporter": "python",
   "pygments_lexer": "ipython3",
   "version": "3.6.8"
  }
 },
 "nbformat": 4,
 "nbformat_minor": 2
}
