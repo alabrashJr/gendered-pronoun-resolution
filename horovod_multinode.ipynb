{
 "cells": [
  {
   "cell_type": "markdown",
   "metadata": {},
   "source": [
    "# 1 node 2 process"
   ]
  },
  {
   "cell_type": "code",
   "execution_count": null,
   "metadata": {},
   "outputs": [],
   "source": [
    "!horovodrun -np 2 \\\n",
    "-H localhost:2 \\\n",
    "        python TrainGAP.py \\\n",
    "        --use_horovod \\\n",
    "        --is_distributed \\\n",
    "        --per_gpu_batch_size 16 \\\n",
    "        --gradient_accumulation 4"
   ]
  },
  {
   "cell_type": "markdown",
   "metadata": {},
   "source": [
    "# 2 node 2 processes"
   ]
  },
  {
   "cell_type": "code",
   "execution_count": null,
   "metadata": {},
   "outputs": [],
   "source": [
    "!horovodrun -np 2 \\\n",
    "-H 40.74.233.84:1,13.84.41.106:1 \\\n",
    "        python TrainGAP.py \\\n",
    "        --use_horovod \\\n",
    "        --is_distributed \\\n",
    "        --per_gpu_batch_size 16 \\\n",
    "        --gradient_accumulation 4"
   ]
  },
  {
   "cell_type": "markdown",
   "metadata": {},
   "source": [
    "# 2 node 4 processes"
   ]
  },
  {
   "cell_type": "code",
   "execution_count": null,
   "metadata": {},
   "outputs": [],
   "source": [
    "!horovodrun -np 4 \\\n",
    "-H 40.74.233.84:2,13.84.41.106:2 \\\n",
    "        python TrainGAP.py \\\n",
    "        --use_horovod \\\n",
    "        --is_distributed \\\n",
    "        --per_gpu_batch_size 8 \\\n",
    "        --gradient_accumulation 2"
   ]
  },
  {
   "cell_type": "code",
   "execution_count": null,
   "metadata": {},
   "outputs": [],
   "source": [
    "# from horovod.run.run import check_build\n",
    "# check_build(True)"
   ]
  },
  {
   "cell_type": "code",
   "execution_count": null,
   "metadata": {},
   "outputs": [],
   "source": []
  }
 ],
 "metadata": {
  "kernelspec": {
   "display_name": "Python 3.6 - AzureML",
   "language": "python",
   "name": "python3-azureml"
  },
  "language_info": {
   "codemirror_mode": {
    "name": "ipython",
    "version": 3
   },
   "file_extension": ".py",
   "mimetype": "text/x-python",
   "name": "python",
   "nbconvert_exporter": "python",
   "pygments_lexer": "ipython3",
   "version": "3.6.8"
  }
 },
 "nbformat": 4,
 "nbformat_minor": 2
}
