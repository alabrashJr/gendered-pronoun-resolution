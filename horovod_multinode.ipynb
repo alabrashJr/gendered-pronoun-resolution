{
 "cells": [
  {
   "cell_type": "markdown",
   "metadata": {},
   "source": [
    "# Single node single process"
   ]
  },
  {
   "cell_type": "code",
   "execution_count": null,
   "metadata": {
    "scrolled": false
   },
   "outputs": [
    {
     "name": "stdout",
     "output_type": "stream",
     "text": [
      "[1,0]<stderr>:I1025 14:13:52.247396 140087255811840 file_utils.py:39] PyTorch version 1.2.0 available.\n",
      "[1,0]<stderr>:I1025 14:13:52.596768 140087255811840 modeling_xlnet.py:194] Better speed can be achieved with apex installed from https://www.github.com/nvidia/apex .\n",
      "[1,0]<stdout>:2019-10-25 14:13:52,603:INFO: hello\n",
      "[1,0]<stdout>:2019-10-25 14:13:52,603:INFO: hello\n",
      "[1,0]<stdout>:2019-10-25 14:13:52,603:INFO: Namespace(backend='gloo', batch_size=4, bert_type='bert-base-uncased', epochs=1, global_rank=None, gradient_accumulation=8, is_distributed=True, local_rank=-1, lr=2e-05, master_node='localhost', master_port=12533, model_type='mul', nprocs=1, per_gpu_batch_size=32, start_rank=0, use_horovod=True, val_batch_size=64, world_size=None)\n",
      "[1,1]<stderr>:I1025 14:13:52.657141 140557347378944 file_utils.py:39] PyTorch version 1.2.0 available.\n",
      "[1,1]<stderr>:I1025 14:13:52.989370 140557347378944 modeling_xlnet.py:194] Better speed can be achieved with apex installed from https://www.github.com/nvidia/apex .\n",
      "[1,1]<stdout>:2019-10-25 14:13:52,993:INFO: hello\n",
      "[1,1]<stdout>:2019-10-25 14:13:52,994:INFO: hello\n",
      "[1,1]<stdout>:2019-10-25 14:13:52,994:INFO: Namespace(backend='gloo', batch_size=4, bert_type='bert-base-uncased', epochs=1, global_rank=None, gradient_accumulation=8, is_distributed=True, local_rank=-1, lr=2e-05, master_node='localhost', master_port=12533, model_type='mul', nprocs=1, per_gpu_batch_size=32, start_rank=0, use_horovod=True, val_batch_size=64, world_size=None)\n",
      "[1,0]<stdout>:hvd.local_rank() 0\n",
      "[1,0]<stdout>:Ranks 0: 2019-10-25 14:13:53,021:INFO: Using horovod for distributed training\n",
      "[1,1]<stdout>:hvd.local_rank() 1\n",
      "[1,1]<stdout>:Ranks 1: 2019-10-25 14:13:53,022:INFO: Using horovod for distributed training\n",
      "[1,1]<stdout>:Ranks 1: 2019-10-25 14:13:53,232:INFO: loading file https://s3.amazonaws.com/models.huggingface.co/bert/bert-base-uncased-vocab.txt from cache at /home/krishan/.cache/torch/transformers/26bc1ad6c0ac742e9b52263248f6d0f00068293b33709fae12320c0e35ccfbbb.542ce4285a40d23a559526243235df47c5f75c197f04f37d1a0c124c32c9a084\n",
      "[1,0]<stdout>:Ranks 0: 2019-10-25 14:13:53,248:INFO: loading file https://s3.amazonaws.com/models.huggingface.co/bert/bert-base-uncased-vocab.txt from cache at /home/krishan/.cache/torch/transformers/26bc1ad6c0ac742e9b52263248f6d0f00068293b33709fae12320c0e35ccfbbb.542ce4285a40d23a559526243235df47c5f75c197f04f37d1a0c124c32c9a084\n",
      "[1,1]<stdout>:Ranks 1: 2019-10-25 14:13:54,348:INFO: loading file https://s3.amazonaws.com/models.huggingface.co/bert/bert-base-uncased-vocab.txt from cache at /home/krishan/.cache/torch/transformers/26bc1ad6c0ac742e9b52263248f6d0f00068293b33709fae12320c0e35ccfbbb.542ce4285a40d23a559526243235df47c5f75c197f04f37d1a0c124c32c9a084\n",
      "[1,0]<stdout>:Ranks 0: 2019-10-25 14:13:54,376:INFO: loading file https://s3.amazonaws.com/models.huggingface.co/bert/bert-base-uncased-vocab.txt from cache at /home/krishan/.cache/torch/transformers/26bc1ad6c0ac742e9b52263248f6d0f00068293b33709fae12320c0e35ccfbbb.542ce4285a40d23a559526243235df47c5f75c197f04f37d1a0c124c32c9a084\n",
      "[1,1]<stdout>:Ranks 1: 2019-10-25 14:13:54,752:INFO: loading configuration file https://s3.amazonaws.com/models.huggingface.co/bert/bert-base-uncased-config.json from cache at /home/krishan/.cache/torch/transformers/4dad0251492946e18ac39290fcfe91b89d370fee250efe9521476438fe8ca185.bf3b9ea126d8c0001ee8a1e8b92229871d06d36d8808208cc2449280da87785c\n",
      "[1,1]<stdout>:Ranks 1: 2019-10-25 14:13:54,752:INFO: Model config {\n",
      "[1,1]<stdout>:  \"attention_probs_dropout_prob\": 0.1,\n",
      "[1,1]<stdout>:  \"finetuning_task\": null,\n",
      "[1,1]<stdout>:  \"hidden_act\": \"gelu\",\n",
      "[1,1]<stdout>:  \"hidden_dropout_prob\": 0.1,\n",
      "[1,1]<stdout>:  \"hidden_size\": 768,\n",
      "[1,1]<stdout>:  \"initializer_range\": 0.02,\n",
      "[1,1]<stdout>:  \"intermediate_size\": 3072,\n",
      "[1,1]<stdout>:  \"layer_norm_eps\": 1e-12,\n",
      "[1,1]<stdout>:  \"max_position_embeddings\": 512,\n",
      "[1,1]<stdout>:  \"num_attention_heads\": 12,\n",
      "[1,1]<stdout>:  \"num_hidden_layers\": 12,\n",
      "[1,1]<stdout>:  \"num_labels\": 2,\n",
      "[1,1]<stdout>:  \"output_attentions\": false,\n",
      "[1,1]<stdout>:  \"output_hidden_states\": false,\n",
      "[1,1]<stdout>:  \"output_past\": true,\n",
      "[1,1]<stdout>:  \"pruned_heads\": {},\n",
      "[1,1]<stdout>:  \"torchscript\": false,\n",
      "[1,1]<stdout>:  \"type_vocab_size\": 2,\n",
      "[1,1]<stdout>:  \"use_bfloat16\": false,\n",
      "[1,1]<stdout>:  \"vocab_size\": 30522\n",
      "[1,1]<stdout>:}\n",
      "[1,1]<stdout>:\n",
      "[1,0]<stdout>:Ranks 0: 2019-10-25 14:13:54,771:INFO: loading configuration file https://s3.amazonaws.com/models.huggingface.co/bert/bert-base-uncased-config.json from cache at /home/krishan/.cache/torch/transformers/4dad0251492946e18ac39290fcfe91b89d370fee250efe9521476438fe8ca185.bf3b9ea126d8c0001ee8a1e8b92229871d06d36d8808208cc2449280da87785c\n",
      "[1,0]<stdout>:Ranks 0: 2019-10-25 14:13:54,771:INFO: Model config {\n",
      "[1,0]<stdout>:  \"attention_probs_dropout_prob\": 0.1,\n",
      "[1,0]<stdout>:  \"finetuning_task\": null,\n",
      "[1,0]<stdout>:  \"hidden_act\": \"gelu\",\n",
      "[1,0]<stdout>:  \"hidden_dropout_prob\": 0.1,\n",
      "[1,0]<stdout>:  \"hidden_size\": 768,\n",
      "[1,0]<stdout>:  \"initializer_range\": 0.02,\n",
      "[1,0]<stdout>:  \"intermediate_size\": 3072,\n",
      "[1,0]<stdout>:  \"layer_norm_eps\": 1e-12,\n",
      "[1,0]<stdout>:  \"max_position_embeddings\": 512,\n",
      "[1,0]<stdout>:  \"num_attention_heads\": 12,\n",
      "[1,0]<stdout>:  \"num_hidden_layers\": 12,\n",
      "[1,0]<stdout>:  \"num_labels\": 2,\n",
      "[1,0]<stdout>:  \"output_attentions\": false,\n",
      "[1,0]<stdout>:  \"output_hidden_states\": false,\n",
      "[1,0]<stdout>:  \"output_past\": true,\n",
      "[1,0]<stdout>:  \"pruned_heads\": {},\n",
      "[1,0]<stdout>:  \"torchscript\": false,\n",
      "[1,0]<stdout>:  \"type_vocab_size\": 2,\n",
      "[1,0]<stdout>:  \"use_bfloat16\": false,\n",
      "[1,0]<stdout>:  \"vocab_size\": 30522\n",
      "[1,0]<stdout>:}\n",
      "[1,0]<stdout>:\n",
      "[1,1]<stdout>:Ranks 1: 2019-10-25 14:13:54,918:INFO: loading weights file https://s3.amazonaws.com/models.huggingface.co/bert/bert-base-uncased-pytorch_model.bin from cache at /home/krishan/.cache/torch/transformers/aa1ef1aede4482d0dbcd4d52baad8ae300e60902e88fcb0bebdec09afd232066.36ca03ab34a1a5d5fa7bc3d03d55c4fa650fed07220e2eeebc06ce58d0e9a157\n",
      "[1,0]<stdout>:Ranks 0: 2019-10-25 14:13:54,924:INFO: loading weights file https://s3.amazonaws.com/models.huggingface.co/bert/bert-base-uncased-pytorch_model.bin from cache at /home/krishan/.cache/torch/transformers/aa1ef1aede4482d0dbcd4d52baad8ae300e60902e88fcb0bebdec09afd232066.36ca03ab34a1a5d5fa7bc3d03d55c4fa650fed07220e2eeebc06ce58d0e9a157\n",
      "[1,0]<stdout>:Ranks 0: 2019-10-25 14:13:57,852:INFO: Weights of BertForPronounResolution_Mul not initialized from pretrained model: ['neither_params']\n",
      "[1,0]<stdout>:Ranks 0: 2019-10-25 14:13:57,853:INFO: Weights from pretrained model not used in BertForPronounResolution_Mul: ['cls.predictions.bias', 'cls.predictions.transform.dense.weight', 'cls.predictions.transform.dense.bias', 'cls.predictions.decoder.weight', 'cls.seq_relationship.weight', 'cls.seq_relationship.bias', 'cls.predictions.transform.LayerNorm.weight', 'cls.predictions.transform.LayerNorm.bias']\n",
      "[1,0]<stdout>:Ranks 0: 2019-10-25 14:13:57,854:INFO: Model used = <class 'BertModels.BertForPronounResolution_Mul'>\n",
      "[1,1]<stdout>:Ranks 1: 2019-10-25 14:13:57,858:INFO: Weights of BertForPronounResolution_Mul not initialized from pretrained model: ['neither_params']\n",
      "[1,1]<stdout>:Ranks 1: 2019-10-25 14:13:57,858:INFO: Weights from pretrained model not used in BertForPronounResolution_Mul: ['cls.predictions.bias', 'cls.predictions.transform.dense.weight', 'cls.predictions.transform.dense.bias', 'cls.predictions.decoder.weight', 'cls.seq_relationship.weight', 'cls.seq_relationship.bias', 'cls.predictions.transform.LayerNorm.weight', 'cls.predictions.transform.LayerNorm.bias']\n",
      "[1,1]<stdout>:Ranks 1: 2019-10-25 14:13:57,860:INFO: Model used = <class 'BertModels.BertForPronounResolution_Mul'>\n",
      "[1,0]<stdout>:Ranks 0: 2019-10-25 14:14:00,646:INFO: Training epoch 0\n",
      "[1,1]<stdout>:Ranks 1: 2019-10-25 14:14:00,646:INFO: Training epoch 0\n"
     ]
    },
    {
     "name": "stdout",
     "output_type": "stream",
     "text": [
      "batch_iterator:  91%|█████████ | 227/250 [03:00<00:18,  1.25it/s, loss=0.432][1,1]<stderr>:derr>:[1,0]<stderr>:[1,1]<stderr>:[1,1]<stderr>:[1,0]<stderr>:[1,0]<stderr>:[1,1]<stderr>:[1,0]<stderr>:[1,1]<stderr>:[1,0]<stderr>:[1,0]<stderr>:[1,0]<stderr>:[1,0]<stderr>:[1,0]<stderr>:[1,1]<stderr>:[1,0]<stderr>:[1,1]<stderr>:[1,0]<stderr>:[1,1]<stderr>:[1,0]<stderr>:[1,1]<stderr>:[1,1]<stderr>:[1,0]<stderr>:[1,1]<stderr>:[1,0]<stderr>:[1,0]<stderr>:[1,1]<stderr>:[1,0]<stderr>:[1,1]<stderr>:[1,0]<stderr>:[1,1]<stderr>:[1,0]<stderr>:[1,1]<stderr>:[1,0]<stderr>:[1,0]<stderr>:[1,0]<stderr>:[1,1]<stderr>:[1,0]<stderr>:[1,0]<stderr>:[1,0]<stderr>:[1,0]<stderr>:[1,1]<stderr>:[1,0]<stderr>:[1,1]<stderr>:[1,0]<stderr>:[1,0]<stderr>:[1,0]<stderr>:[1,0]<stderr>:[1,1]<stderr>:[1,0]<stderr>:[1,1]<stderr>:[1,0]<stderr>:[1,1]<stderr>:[1,0]<stderr>:[1,1]<stderr>:[1,0]<stderr>:[1,1]<stderr>:[1,0]<stderr>:[1,1]<stderr>:[1,0]<stderr>:[1,0]<stderr>:[1,0]<stderr>:[1,0]<stderr>:[1,0]<stderr>:[1,1]<stderr>:[1,0]<stderr>:[1,1]<stderr>:[1,0]<stderr>:[1,0]<stderr>:[1,0]<stderr>:[1,0]<stderr>:[1,1]<stderr>:[1,0]<stderr>:[1,1]<stderr>:[1,0]<stderr>:[1,1]<stderr>:[1,0]<stderr>:[1,1]<stderr>:[1,0]<stderr>:[1,1]<stderr>:[1,0]<stderr>:[1,0]<stderr>:[1,0]<stderr>:[1,0]<stderr>:[1,0]<stderr>:[1,0]<stderr>:[1,1]<stderr>:[1,0]<stderr>:[1,1]<stderr>:[1,0]<stderr>:[1,1]<stderr>:[1,0]<stderr>:[1,0]<stderr>:[1,0]<stderr>:[1,0]<stderr>:[1,1]<stderr>:[1,0]<stderr>:[1,1]<stderr>:[1,0]<stderr>:[1,1]<stderr>:[1,0]<stderr>:[1,1]<stderr>:[1,0]<stderr>:[1,1]<stderr>:[1,0]<stderr>:[1,1]<stderr>:[1,0]<stderr>:[1,0]<stderr>:[1,0]<stderr>:[1,0]<stderr>:[1,1]<stderr>:[1,0]<stderr>:[1,1]<stderr>:[1,0]<stderr>:[1,1]<stderr>:[1,0]<stderr>:[1,1]<stderr>:[1,1]<stderr>:[1,0]<stderr>:[1,0]<stderr>:[1,1]<stderr>:[1,0]<stderr>:[1,1]<stderr>:[1,0]<stderr>:[1,1]<stderr>:[1,0]<stderr>:[1,1]<stderr>:[1,0]<stderr>:[1,1]<stderr>:[1,0]<stderr>:[1,1]<stderr>:[1,0]<stderr>:[1,0]<stderr>:[1,0]<stderr>:[1,1]<stderr>:[1,0]<stderr>:[1,1]<stderr>:[1,0]<stderr>:[1,1]<stderr>:[1,0]<stderr>:[1,1]<stderr>:[1,0]<stderr>:[1,1]<stderr>:[1,0]<stderr>:[1,1]<stderr>:[1,0]<stderr>:[1,0]<stderr>:[1,0]<stderr>:[1,0]<stderr>:[1,1]<stderr>:[1,0]<stderr>:[1,1]<stderr>:[1,0]<stderr>:[1,1]<stderr>:[1,0]<stderr>:[1,1]<stderr>:[1,0]<stderr>:[1,1]<stderr>:[1,0]<stderr>:[1,0]<stderr>:[1,0]<stderr>:[1,0]<stderr>:[1,1]<stderr>:[1,0]<stderr>:[1,1]<stderr>:[1,0]<stderr>:[1,1]<stderr>:[1,0]<stderr>:[1,1]<stderr>:[1,0]<stderr>:[1,1]<stderr>:[1,0]<stderr>:[1,1]<stderr>:[1,0]<stderr>:[1,0]<stderr>:[1,0]<stderr>:[1,0]<stderr>:[1,1]<stderr>:[1,0]<stderr>:[1,1]<stderr>:[1,0]<stderr>:[1,1]<stderr>:[1,0]<stderr>:[1,1]<stderr>:[1,0]<stderr>:[1,0]<stderr>:[1,1]<stderr>:[1,0]<stderr>:[1,1]<stderr>:[1,0]<stderr>:[1,1]<stderr>:[1,0]<stderr>:[1,1]<stderr>:[1,0]<stderr>:[1,1]<stderr>:[1,0]<stderr>:[1,1]<stderr>:[1,0]<stderr>:[1,1]<stderr>:[1,1]<stderr>:[1,1]<stderr>:[1,1]<stderr>:[1,1]<stderr>:[1,0]<stderr>:[1,0]<stderr>:[1,0]<stderr>:[1,1]<stderr>:[1,0]<stderr>:[1,1]<stderr>:[1,0]<stderr>:[1,0]<stderr>:[1,1]<stderr>:[1,0]<stderr>:[1,1]<stderr>:[1,0]<stderr>:[1,1]<stderr>:[1,0]<stderr>:[1,1]<stderr>:[1,0]<stderr>:[1,1]<stderr>:[1,0]<stderr>:[1,1]<stderr>:[1,0]<stderr>:[1,1]<stderr>:[1,0]<stderr>:[1,0]<stderr>:[1,0]<stderr>:[1,0]<stderr>:[1,1]<stderr>:[1,0]<stderr>:[1,1]<stderr>:[1,0]<stderr>:[1,1]<stderr>:[1,0]<stderr>:[1,1]<stderr>:[1,0]<stderr>:[1,1]<stderr>:[1,1]<stderr>:[1,0]<stderr>:[1,0]<stderr>:[1,0]<stderr>:[1,0]<stderr>:[1,1]<stderr>:[1,0]<stderr>:[1,1]<stderr>:[1,0]<stderr>:[1,1]<stderr>:[1,0]<stderr>:[1,1]<stderr>:[1,0]<stderr>:[1,0]<stderr>:[1,0]<stderr>:[1,1]<stderr>:[1,0]<stderr>:[1,1]<stderr>:[1,0]<stderr>:[1,1]<stderr>:[1,0]<stderr>:[1,1]<stderr>:[1,0]<stderr>:[1,1]<stderr>:[1,0]<stderr>:[1,1]<stderr>:[1,0]<stderr>:[1,0]<stderr>:[1,0]<stderr>:[1,0]<stderr>:[1,0]<stderr>:[1,1]<stderr>:[1,0]<stderr>:[1,1]<stderr>:[1,0]<stderr>:[1,1]<stderr>:[1,0]<stderr>:[1,1]<stderr>:[1,0]<stderr>:[1,1]<stderr>:[1,0]<stderr>:[1,0]<stderr>:[1,0]<stderr>:[1,1]<stderr>:[1,0]<stderr>:[1,1]<stderr>:[1,0]<stderr>:[1,1]<stderr>:[1,0]<stderr>:[1,1]<stderr>:[1,0]<stderr>:[1,1]<stderr>:[1,0]<stderr>:[1,1]<stderr>:[1,0]<stderr>:[1,1]<stderr>:[1,0]<stderr>:[1,1]<stderr>:[1,0]<stderr>:[1,1]<stderr>:[1,0]<stderr>:[1,1]<stderr>:[1,0]<stderr>:[1,1]<stderr>:[1,0]<stderr>:[1,1]<stderr>:[1,0]<stderr>:[1,0]<stderr>:[1,0]<stderr>:[1,0]<stderr>:[1,0]<stderr>:[1,1]<stderr>:[1,0]<stderr>:[1,1]<stderr>:[1,0]<stderr>:[1,1]<stderr>:[1,0]<stderr>:[1,1]<stderr>:[1,1]<stderr>:[1,0]<stderr>:[1,0]<stderr>:[1,1]<stderr>:[1,0]<stderr>:[1,1]<stderr>:[1,0]<stderr>:[1,1]<stderr>:[1,0]<stderr>:[1,1]<stderr>:[1,0]<stderr>:[1,1]<stderr>:[1,0]<stderr>:[1,1]<stderr>:[1,0]<stderr>:[1,0]<stderr>:[1,1]<stderr>:[1,0]<stderr>:[1,1]<stderr>:[1,0]<stderr>:[1,1]<stderr>:[1,0]<stderr>:[1,1]<stderr>:[1,0]<stderr>:[1,1]<stderr>:[1,0]<stderr>:[1,1]<stderr>:[1,0]<stderr>:[1,1]<stderr>:[1,0]<stderr>:[1,0]<stderr>:[1,0]<stderr>:[1,1]<stderr>:[1,0]<stderr>:[1,1]<stderr>:[1,0]<stderr>:[1,1]<stderr>:[1,0]<stderr>:[1,1]<stderr>:[1,0]<stderr>:[1,1]<stderr>:[1,0]<stderr>:[1,1]<stderr>:[1,0]<stderr>:[1,0]<stderr>:[1,0]<stderr>:[1,1]<stderr>:[1,0]<stderr>:[1,1]<stderr>:"
     ]
    }
   ],
   "source": [
    "!HOROVOD_LOG_LEVEL=EROOR && \\\n",
    "horovodrun -np 2 -H localhost:2 python TrainGAP.py --use_horovod --is_distributed"
   ]
  },
  {
   "cell_type": "code",
   "execution_count": null,
   "metadata": {},
   "outputs": [],
   "source": []
  }
 ],
 "metadata": {
  "kernelspec": {
   "display_name": "Python 3.6 - AzureML",
   "language": "python",
   "name": "python3-azureml"
  },
  "language_info": {
   "codemirror_mode": {
    "name": "ipython",
    "version": 3
   },
   "file_extension": ".py",
   "mimetype": "text/x-python",
   "name": "python",
   "nbconvert_exporter": "python",
   "pygments_lexer": "ipython3",
   "version": "3.6.8"
  }
 },
 "nbformat": 4,
 "nbformat_minor": 2
}
