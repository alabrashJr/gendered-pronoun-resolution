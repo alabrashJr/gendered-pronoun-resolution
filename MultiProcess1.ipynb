{
 "cells": [
  {
   "cell_type": "markdown",
   "metadata": {},
   "source": [
    "## GLOO"
   ]
  },
  {
   "cell_type": "code",
   "execution_count": 8,
   "metadata": {},
   "outputs": [
    {
     "name": "stdout",
     "output_type": "stream",
     "text": [
      "I1013 16:27:11.533740 140242978567936 file_utils.py:39] PyTorch version 1.1.0 available.\n",
      "I1013 16:27:11.837392 140242978567936 modeling_xlnet.py:194] Better speed can be achieved with apex installed from https://www.github.com/nvidia/apex .\n",
      "2019-10-13 16:27:11,844:INFO: hello\n",
      "2019-10-13 16:27:11,844:INFO: Namespace(backend='gloo', batch_size=4, bert_type='bert-base-uncased', epochs=1, global_rank=0, gradient_accumulation=4, is_distributed=True, local_rank=0, lr=2e-05, master_node='localhost', master_port=12533, model_type='mul', per_gpu_batch_size=16, val_batch_size=64, world_size=2)\n",
      "2019-10-13 16:27:11,844:INFO: Namespace(backend='gloo', batch_size=4, bert_type='bert-base-uncased', epochs=1, global_rank=0, gradient_accumulation=4, is_distributed=True, local_rank=0, lr=2e-05, master_node='localhost', master_port=12533, model_type='mul', per_gpu_batch_size=16, val_batch_size=64, world_size=2)\n",
      "2019-10-13 16:27:14,880:INFO: device = cuda:0\n",
      "2019-10-13 16:27:15,011:INFO: loading file https://s3.amazonaws.com/models.huggingface.co/bert/bert-base-uncased-vocab.txt from cache at /home/krishan/.cache/torch/transformers/26bc1ad6c0ac742e9b52263248f6d0f00068293b33709fae12320c0e35ccfbbb.542ce4285a40d23a559526243235df47c5f75c197f04f37d1a0c124c32c9a084\n",
      "2019-10-13 16:27:16,051:INFO: loading file https://s3.amazonaws.com/models.huggingface.co/bert/bert-base-uncased-vocab.txt from cache at /home/krishan/.cache/torch/transformers/26bc1ad6c0ac742e9b52263248f6d0f00068293b33709fae12320c0e35ccfbbb.542ce4285a40d23a559526243235df47c5f75c197f04f37d1a0c124c32c9a084\n",
      "2019-10-13 16:27:17,036:INFO: loading configuration file https://s3.amazonaws.com/models.huggingface.co/bert/bert-base-uncased-config.json from cache at /home/krishan/.cache/torch/transformers/4dad0251492946e18ac39290fcfe91b89d370fee250efe9521476438fe8ca185.bf3b9ea126d8c0001ee8a1e8b92229871d06d36d8808208cc2449280da87785c\n",
      "2019-10-13 16:27:17,037:INFO: Model config {\n",
      "  \"attention_probs_dropout_prob\": 0.1,\n",
      "  \"finetuning_task\": null,\n",
      "  \"hidden_act\": \"gelu\",\n",
      "  \"hidden_dropout_prob\": 0.1,\n",
      "  \"hidden_size\": 768,\n",
      "  \"initializer_range\": 0.02,\n",
      "  \"intermediate_size\": 3072,\n",
      "  \"layer_norm_eps\": 1e-12,\n",
      "  \"max_position_embeddings\": 512,\n",
      "  \"num_attention_heads\": 12,\n",
      "  \"num_hidden_layers\": 12,\n",
      "  \"num_labels\": 2,\n",
      "  \"output_attentions\": false,\n",
      "  \"output_hidden_states\": false,\n",
      "  \"output_past\": true,\n",
      "  \"pruned_heads\": {},\n",
      "  \"torchscript\": false,\n",
      "  \"type_vocab_size\": 2,\n",
      "  \"use_bfloat16\": false,\n",
      "  \"vocab_size\": 30522\n",
      "}\n",
      "\n",
      "2019-10-13 16:27:17,088:INFO: loading weights file https://s3.amazonaws.com/models.huggingface.co/bert/bert-base-uncased-pytorch_model.bin from cache at /home/krishan/.cache/torch/transformers/aa1ef1aede4482d0dbcd4d52baad8ae300e60902e88fcb0bebdec09afd232066.36ca03ab34a1a5d5fa7bc3d03d55c4fa650fed07220e2eeebc06ce58d0e9a157\n",
      "2019-10-13 16:27:20,714:INFO: Weights of BertForPronounResolution_Mul not initialized from pretrained model: ['neither_params']\n",
      "2019-10-13 16:27:20,714:INFO: Weights from pretrained model not used in BertForPronounResolution_Mul: ['cls.predictions.bias', 'cls.predictions.transform.dense.weight', 'cls.predictions.transform.dense.bias', 'cls.predictions.decoder.weight', 'cls.seq_relationship.weight', 'cls.seq_relationship.bias', 'cls.predictions.transform.LayerNorm.weight', 'cls.predictions.transform.LayerNorm.bias']\n",
      "2019-10-13 16:27:20,715:INFO: Model used = <class 'BertModels.BertForPronounResolution_Mul'>\n",
      "2019-10-13 16:27:25,544:INFO: Training epoch 0\n",
      "batch_iterator: 100%|█████████████| 250/250 [03:38<00:00,  1.16it/s, loss=0.441]\n",
      "2019-10-13 16:31:03,583:INFO: Time taken for epoch 1 is = 218.03858065605164\n",
      "100%|███████████████████████████████████████████| 32/32 [01:49<00:00,  2.70s/it]\n",
      "2019-10-13 16:32:52,858:INFO: Epoch = 1, Val loss = 0.1587683348916471, val_acc = 0.9495\n"
     ]
    }
   ],
   "source": [
    "!python TrainGAP.py --is_distributed --local_rank 0 --global_rank 0 --world_size 2 --per_gpu_batch_size 16 --gradient_accumulation 4"
   ]
  },
  {
   "cell_type": "markdown",
   "metadata": {},
   "source": [
    "## NCCL"
   ]
  },
  {
   "cell_type": "code",
   "execution_count": 10,
   "metadata": {},
   "outputs": [
    {
     "name": "stdout",
     "output_type": "stream",
     "text": [
      "I1013 16:33:47.508043 139776915175168 file_utils.py:39] PyTorch version 1.1.0 available.\n",
      "I1013 16:33:47.810052 139776915175168 modeling_xlnet.py:194] Better speed can be achieved with apex installed from https://www.github.com/nvidia/apex .\n",
      "2019-10-13 16:33:47,817:INFO: hello\n",
      "2019-10-13 16:33:47,817:INFO: Namespace(backend='nccl', batch_size=4, bert_type='bert-base-uncased', epochs=1, global_rank=0, gradient_accumulation=4, is_distributed=True, local_rank=0, lr=2e-05, master_node='localhost', master_port=12533, model_type='mul', per_gpu_batch_size=16, val_batch_size=64, world_size=2)\n",
      "2019-10-13 16:33:47,817:INFO: Namespace(backend='nccl', batch_size=4, bert_type='bert-base-uncased', epochs=1, global_rank=0, gradient_accumulation=4, is_distributed=True, local_rank=0, lr=2e-05, master_node='localhost', master_port=12533, model_type='mul', per_gpu_batch_size=16, val_batch_size=64, world_size=2)\n",
      "2019-10-13 16:34:00,801:INFO: device = cuda:0\n",
      "2019-10-13 16:34:00,924:INFO: loading file https://s3.amazonaws.com/models.huggingface.co/bert/bert-base-uncased-vocab.txt from cache at /home/krishan/.cache/torch/transformers/26bc1ad6c0ac742e9b52263248f6d0f00068293b33709fae12320c0e35ccfbbb.542ce4285a40d23a559526243235df47c5f75c197f04f37d1a0c124c32c9a084\n",
      "2019-10-13 16:34:01,942:INFO: loading file https://s3.amazonaws.com/models.huggingface.co/bert/bert-base-uncased-vocab.txt from cache at /home/krishan/.cache/torch/transformers/26bc1ad6c0ac742e9b52263248f6d0f00068293b33709fae12320c0e35ccfbbb.542ce4285a40d23a559526243235df47c5f75c197f04f37d1a0c124c32c9a084\n",
      "2019-10-13 16:34:02,976:INFO: loading configuration file https://s3.amazonaws.com/models.huggingface.co/bert/bert-base-uncased-config.json from cache at /home/krishan/.cache/torch/transformers/4dad0251492946e18ac39290fcfe91b89d370fee250efe9521476438fe8ca185.bf3b9ea126d8c0001ee8a1e8b92229871d06d36d8808208cc2449280da87785c\n",
      "2019-10-13 16:34:02,976:INFO: Model config {\n",
      "  \"attention_probs_dropout_prob\": 0.1,\n",
      "  \"finetuning_task\": null,\n",
      "  \"hidden_act\": \"gelu\",\n",
      "  \"hidden_dropout_prob\": 0.1,\n",
      "  \"hidden_size\": 768,\n",
      "  \"initializer_range\": 0.02,\n",
      "  \"intermediate_size\": 3072,\n",
      "  \"layer_norm_eps\": 1e-12,\n",
      "  \"max_position_embeddings\": 512,\n",
      "  \"num_attention_heads\": 12,\n",
      "  \"num_hidden_layers\": 12,\n",
      "  \"num_labels\": 2,\n",
      "  \"output_attentions\": false,\n",
      "  \"output_hidden_states\": false,\n",
      "  \"output_past\": true,\n",
      "  \"pruned_heads\": {},\n",
      "  \"torchscript\": false,\n",
      "  \"type_vocab_size\": 2,\n",
      "  \"use_bfloat16\": false,\n",
      "  \"vocab_size\": 30522\n",
      "}\n",
      "\n",
      "2019-10-13 16:34:03,034:INFO: loading weights file https://s3.amazonaws.com/models.huggingface.co/bert/bert-base-uncased-pytorch_model.bin from cache at /home/krishan/.cache/torch/transformers/aa1ef1aede4482d0dbcd4d52baad8ae300e60902e88fcb0bebdec09afd232066.36ca03ab34a1a5d5fa7bc3d03d55c4fa650fed07220e2eeebc06ce58d0e9a157\n",
      "2019-10-13 16:34:06,664:INFO: Weights of BertForPronounResolution_Mul not initialized from pretrained model: ['neither_params']\n",
      "2019-10-13 16:34:06,664:INFO: Weights from pretrained model not used in BertForPronounResolution_Mul: ['cls.predictions.bias', 'cls.predictions.transform.dense.weight', 'cls.predictions.transform.dense.bias', 'cls.predictions.decoder.weight', 'cls.seq_relationship.weight', 'cls.seq_relationship.bias', 'cls.predictions.transform.LayerNorm.weight', 'cls.predictions.transform.LayerNorm.bias']\n",
      "2019-10-13 16:34:06,665:INFO: Model used = <class 'BertModels.BertForPronounResolution_Mul'>\n",
      "2019-10-13 16:34:09,267:INFO: Training epoch 0\n",
      "batch_iterator: 100%|█████████████| 250/250 [02:59<00:00,  1.40it/s, loss=0.549]\n",
      "2019-10-13 16:37:08,285:INFO: Time taken for epoch 1 is = 179.0185034275055\n",
      "100%|███████████████████████████████████████████| 32/32 [01:49<00:00,  2.71s/it]\n",
      "2019-10-13 16:38:57,738:INFO: Epoch = 1, Val loss = 0.18303526216186583, val_acc = 0.945\n"
     ]
    }
   ],
   "source": [
    "!python TrainGAP.py \\\n",
    "        --is_distributed \\\n",
    "        --local_rank 0 \\\n",
    "        --global_rank 0 \\\n",
    "        --world_size 2 \\\n",
    "        --per_gpu_batch_size 16 \\\n",
    "        --gradient_accumulation 4 \\\n",
    "        --backen nccl"
   ]
  },
  {
   "cell_type": "code",
   "execution_count": null,
   "metadata": {},
   "outputs": [],
   "source": []
  }
 ],
 "metadata": {
  "kernelspec": {
   "display_name": "Python 3.6 - AzureML",
   "language": "python",
   "name": "python3-azureml"
  },
  "language_info": {
   "codemirror_mode": {
    "name": "ipython",
    "version": 3
   },
   "file_extension": ".py",
   "mimetype": "text/x-python",
   "name": "python",
   "nbconvert_exporter": "python",
   "pygments_lexer": "ipython3",
   "version": "3.6.8"
  }
 },
 "nbformat": 4,
 "nbformat_minor": 2
}
