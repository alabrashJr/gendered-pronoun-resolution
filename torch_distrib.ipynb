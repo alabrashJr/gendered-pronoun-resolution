{
 "cells": [
  {
   "cell_type": "markdown",
   "metadata": {},
   "source": [
    "# Single node 2 processes\n",
    "\n",
    "More details here:\n",
    "    \n",
    "https://github.com/pytorch/pytorch/blob/master/torch/distributed/launch.py"
   ]
  },
  {
   "cell_type": "code",
   "execution_count": 4,
   "metadata": {},
   "outputs": [
    {
     "name": "stdout",
     "output_type": "stream",
     "text": [
      "*****************************************\n",
      "Setting OMP_NUM_THREADS environment variable for each process to be 1 in default, to avoid your system being overloaded, please further tune the variable for optimal performance in your application as needed. \n",
      "*****************************************\n",
      "I1018 14:46:31.470918 139948574418688 file_utils.py:39] PyTorch version 1.2.0 available.\n",
      "I1018 14:46:31.471258 139821057812224 file_utils.py:39] PyTorch version 1.2.0 available.\n",
      "I1018 14:46:31.818513 139948574418688 modeling_xlnet.py:194] Better speed can be achieved with apex installed from https://www.github.com/nvidia/apex .\n",
      "I1018 14:46:31.819287 139821057812224 modeling_xlnet.py:194] Better speed can be achieved with apex installed from https://www.github.com/nvidia/apex .\n",
      "2019-10-18 14:46:31,823:INFO: hello\n",
      "2019-10-18 14:46:31,823:INFO: hello\n",
      "2019-10-18 14:46:31,823:INFO: Namespace(backend='nccl', batch_size=4, bert_type='bert-base-uncased', epochs=1, global_rank=None, gradient_accumulation=4, is_distributed=True, local_rank=1, lr=2e-05, master_node='localhost', master_port=12533, model_type='mul', nprocs=1, per_gpu_batch_size=16, start_rank=0, val_batch_size=64, world_size=None)\n",
      "2019-10-18 14:46:31,824:INFO: Updating args from environment variable. Rank = 1\n",
      "Current environment =  environ({'SPARK_HOME': '/dsvm/tools/spark/current', 'TERM': 'xterm-color', 'SHELL': '/bin/bash', 'CLICOLOR': '1', 'JPY_API_TOKEN': '2990fc0289fe4bfda4b5cd6c755625b1', 'CONDA_SHLVL': '2', 'LIBRARY_PATH': '/opt/intel/compilers_and_libraries_2018.1.163/linux/tbb/lib/intel64_lin/gcc4.7:/opt/intel/compilers_and_libraries_2018.1.163/linux/compiler/lib/intel64_lin:/opt/intel/compilers_and_libraries_2018.1.163/linux/mkl/lib/intel64_lin:/usr/local/cuda/lib64:/usr/local/cuda/extras/CUPTI/lib64/:', 'CONDA_PROMPT_MODIFIER': '(py36) ', 'USER': 'krishan', 'JUPYTERHUB_BASE_URL': '/', 'JUPYTERHUB_CLIENT_ID': 'jupyterhub-user-krishan', 'LD_LIBRARY_PATH': '/opt/intel/compilers_and_libraries_2018.1.163/linux/tbb/lib/intel64_lin/gcc4.7:/opt/intel/compilers_and_libraries_2018.1.163/linux/compiler/lib/intel64_lin:/opt/intel/compilers_and_libraries_2018.1.163/linux/mkl/lib/intel64_lin::/usr/local/cuda/lib64:/usr/local/cuda/extras/CUPTI/lib64/', 'CONDA_EXE': '/data/anaconda/bin/conda', 'PYSPARK_PYTHON': '/anaconda/bin/python', 'CPATH': '/opt/intel/compilers_and_libraries_2018.1.163/linux/mkl/include:', 'JUPYTERHUB_API_TOKEN': '2990fc0289fe4bfda4b5cd6c755625b1', 'JPY_PARENT_PID': '3697', 'PAGER': 'cat', '_CE_CONDA': '', 'CUPIT_LIB_PATH': '/usr/local/cuda/extras/CUPTI/lib64/', 'NLSPATH': '/opt/intel/compilers_and_libraries_2018.1.163/linux/mkl/lib/intel64_lin/locale/%l_%t/%N', 'CONDA_PREFIX_1': '/data/anaconda/envs/py35', 'PATH': '/data/anaconda/envs/py36/bin:/data/anaconda/condabin:/usr/local/sbin:/usr/local/bin:/usr/sbin:/usr/bin:/sbin:/bin:/snap/bin:/opt/caffe/build/install/bin:/usr/local/cuda/bin:/dsvm/tools/cntk/cntk/bin:/dsvm/tools/spark/current/bin:/opt/mssql-tools/bin', '_': '/data/anaconda/envs/py36/bin/python', 'CONDA_PREFIX': '/data/anaconda/envs/py36', 'PWD': '/data/home/krishan/notebooks/gendered-pronoun-resolution', 'JAVA_HOME': '/usr/lib/jvm/java-1.8.0-openjdk-amd64', 'MPLBACKEND': 'module://ipykernel.pylab.backend_inline', 'LANG': 'en_US.UTF-8', 'NODE_PATH': '/usr/lib/node_modules', 'JUPYTERHUB_API_URL': 'http://127.0.0.1:8081/hub/api', '_CE_M': '', 'HOME': '/home/krishan', 'SHLVL': '2', 'JUPYTERHUB_USER': 'krishan', 'MXNET_HOME': '/data/mxnet', 'PYTHONPATH': '/opt/caffe/python:/opt/caffe2/build:', 'CONDA_PYTHON_EXE': '/data/anaconda/bin/python', 'XDG_DATA_DIRS': '/usr/local/share:/usr/share:/var/lib/snapd/desktop', 'AZURE_EXTENSION_DIR': '/opt/az/extensions', 'CONDA_DEFAULT_ENV': 'py36', 'PKG_CONFIG_PATH': '/opt/intel/compilers_and_libraries_2018.1.163/linux/mkl/bin/pkgconfig:', 'JUPYTERHUB_OAUTH_CALLBACK_URL': '/user/krishan/oauth_callback', 'SCALA_HOME': '/usr/share/scala', 'GIT_PAGER': 'cat', 'CAFFE_ROOT': '/opt/caffe', 'CUDA_ROOT': '/usr/local/cuda', 'JUPYTERHUB_HOST': '', 'JUPYTERHUB_SERVICE_PREFIX': '/user/krishan/', 'MASTER_ADDR': '127.0.0.1', 'MASTER_PORT': '29500', 'WORLD_SIZE': '2', 'OMP_NUM_THREADS': '1', 'RANK': '1', 'LOCAL_RANK': '1'})\n",
      "2019-10-18 14:46:31,824:INFO: Namespace(backend='nccl', batch_size=4, bert_type='bert-base-uncased', epochs=1, global_rank=None, gradient_accumulation=4, is_distributed=True, local_rank=0, lr=2e-05, master_node='localhost', master_port=12533, model_type='mul', nprocs=1, per_gpu_batch_size=16, start_rank=0, val_batch_size=64, world_size=None)\n",
      "2019-10-18 14:46:31,824:INFO: Updating args from environment variable. Rank = 0\n",
      "Ranks 1: 2019-10-18 14:46:31,824:INFO: Namespace(backend='nccl', batch_size=4, bert_type='bert-base-uncased', epochs=1, global_rank=1, gradient_accumulation=4, is_distributed=True, local_rank=1, lr=2e-05, master_node='127.0.0.1', master_port=29500, model_type='mul', nprocs=1, per_gpu_batch_size=16, start_rank=0, val_batch_size=64, world_size=2)\n",
      "Ranks 1: 2019-10-18 14:46:31,824:INFO: Setting up DDP\n",
      "Current environment =  environ({'SPARK_HOME': '/dsvm/tools/spark/current', 'TERM': 'xterm-color', 'SHELL': '/bin/bash', 'CLICOLOR': '1', 'JPY_API_TOKEN': '2990fc0289fe4bfda4b5cd6c755625b1', 'CONDA_SHLVL': '2', 'LIBRARY_PATH': '/opt/intel/compilers_and_libraries_2018.1.163/linux/tbb/lib/intel64_lin/gcc4.7:/opt/intel/compilers_and_libraries_2018.1.163/linux/compiler/lib/intel64_lin:/opt/intel/compilers_and_libraries_2018.1.163/linux/mkl/lib/intel64_lin:/usr/local/cuda/lib64:/usr/local/cuda/extras/CUPTI/lib64/:', 'CONDA_PROMPT_MODIFIER': '(py36) ', 'USER': 'krishan', 'JUPYTERHUB_BASE_URL': '/', 'JUPYTERHUB_CLIENT_ID': 'jupyterhub-user-krishan', 'LD_LIBRARY_PATH': '/opt/intel/compilers_and_libraries_2018.1.163/linux/tbb/lib/intel64_lin/gcc4.7:/opt/intel/compilers_and_libraries_2018.1.163/linux/compiler/lib/intel64_lin:/opt/intel/compilers_and_libraries_2018.1.163/linux/mkl/lib/intel64_lin::/usr/local/cuda/lib64:/usr/local/cuda/extras/CUPTI/lib64/', 'CONDA_EXE': '/data/anaconda/bin/conda', 'PYSPARK_PYTHON': '/anaconda/bin/python', 'CPATH': '/opt/intel/compilers_and_libraries_2018.1.163/linux/mkl/include:', 'JUPYTERHUB_API_TOKEN': '2990fc0289fe4bfda4b5cd6c755625b1', 'JPY_PARENT_PID': '3697', 'PAGER': 'cat', '_CE_CONDA': '', 'CUPIT_LIB_PATH': '/usr/local/cuda/extras/CUPTI/lib64/', 'NLSPATH': '/opt/intel/compilers_and_libraries_2018.1.163/linux/mkl/lib/intel64_lin/locale/%l_%t/%N', 'CONDA_PREFIX_1': '/data/anaconda/envs/py35', 'PATH': '/data/anaconda/envs/py36/bin:/data/anaconda/condabin:/usr/local/sbin:/usr/local/bin:/usr/sbin:/usr/bin:/sbin:/bin:/snap/bin:/opt/caffe/build/install/bin:/usr/local/cuda/bin:/dsvm/tools/cntk/cntk/bin:/dsvm/tools/spark/current/bin:/opt/mssql-tools/bin', '_': '/data/anaconda/envs/py36/bin/python', 'CONDA_PREFIX': '/data/anaconda/envs/py36', 'PWD': '/data/home/krishan/notebooks/gendered-pronoun-resolution', 'JAVA_HOME': '/usr/lib/jvm/java-1.8.0-openjdk-amd64', 'MPLBACKEND': 'module://ipykernel.pylab.backend_inline', 'LANG': 'en_US.UTF-8', 'NODE_PATH': '/usr/lib/node_modules', 'JUPYTERHUB_API_URL': 'http://127.0.0.1:8081/hub/api', '_CE_M': '', 'HOME': '/home/krishan', 'SHLVL': '2', 'JUPYTERHUB_USER': 'krishan', 'MXNET_HOME': '/data/mxnet', 'PYTHONPATH': '/opt/caffe/python:/opt/caffe2/build:', 'CONDA_PYTHON_EXE': '/data/anaconda/bin/python', 'XDG_DATA_DIRS': '/usr/local/share:/usr/share:/var/lib/snapd/desktop', 'AZURE_EXTENSION_DIR': '/opt/az/extensions', 'CONDA_DEFAULT_ENV': 'py36', 'PKG_CONFIG_PATH': '/opt/intel/compilers_and_libraries_2018.1.163/linux/mkl/bin/pkgconfig:', 'JUPYTERHUB_OAUTH_CALLBACK_URL': '/user/krishan/oauth_callback', 'SCALA_HOME': '/usr/share/scala', 'GIT_PAGER': 'cat', 'CAFFE_ROOT': '/opt/caffe', 'CUDA_ROOT': '/usr/local/cuda', 'JUPYTERHUB_HOST': '', 'JUPYTERHUB_SERVICE_PREFIX': '/user/krishan/', 'MASTER_ADDR': '127.0.0.1', 'MASTER_PORT': '29500', 'WORLD_SIZE': '2', 'OMP_NUM_THREADS': '1', 'RANK': '0', 'LOCAL_RANK': '0'})\n",
      "Ranks 0: 2019-10-18 14:46:31,824:INFO: Namespace(backend='nccl', batch_size=4, bert_type='bert-base-uncased', epochs=1, global_rank=0, gradient_accumulation=4, is_distributed=True, local_rank=0, lr=2e-05, master_node='127.0.0.1', master_port=29500, model_type='mul', nprocs=1, per_gpu_batch_size=16, start_rank=0, val_batch_size=64, world_size=2)\n",
      "Ranks 0: 2019-10-18 14:46:31,824:INFO: Setting up DDP\n"
     ]
    },
    {
     "name": "stdout",
     "output_type": "stream",
     "text": [
      "Ranks 1: 2019-10-18 14:46:32,825:INFO: device = cuda:1\n",
      "Ranks 0: 2019-10-18 14:46:32,832:INFO: device = cuda:0\n",
      "Ranks 1: 2019-10-18 14:46:33,032:INFO: loading file https://s3.amazonaws.com/models.huggingface.co/bert/bert-base-uncased-vocab.txt from cache at /home/krishan/.cache/torch/transformers/26bc1ad6c0ac742e9b52263248f6d0f00068293b33709fae12320c0e35ccfbbb.542ce4285a40d23a559526243235df47c5f75c197f04f37d1a0c124c32c9a084\n",
      "Ranks 0: 2019-10-18 14:46:33,035:INFO: loading file https://s3.amazonaws.com/models.huggingface.co/bert/bert-base-uncased-vocab.txt from cache at /home/krishan/.cache/torch/transformers/26bc1ad6c0ac742e9b52263248f6d0f00068293b33709fae12320c0e35ccfbbb.542ce4285a40d23a559526243235df47c5f75c197f04f37d1a0c124c32c9a084\n",
      "Ranks 1: 2019-10-18 14:46:34,125:INFO: loading file https://s3.amazonaws.com/models.huggingface.co/bert/bert-base-uncased-vocab.txt from cache at /home/krishan/.cache/torch/transformers/26bc1ad6c0ac742e9b52263248f6d0f00068293b33709fae12320c0e35ccfbbb.542ce4285a40d23a559526243235df47c5f75c197f04f37d1a0c124c32c9a084\n",
      "Ranks 0: 2019-10-18 14:46:34,144:INFO: loading file https://s3.amazonaws.com/models.huggingface.co/bert/bert-base-uncased-vocab.txt from cache at /home/krishan/.cache/torch/transformers/26bc1ad6c0ac742e9b52263248f6d0f00068293b33709fae12320c0e35ccfbbb.542ce4285a40d23a559526243235df47c5f75c197f04f37d1a0c124c32c9a084\n",
      "Ranks 1: 2019-10-18 14:46:34,516:INFO: loading configuration file https://s3.amazonaws.com/models.huggingface.co/bert/bert-base-uncased-config.json from cache at /home/krishan/.cache/torch/transformers/4dad0251492946e18ac39290fcfe91b89d370fee250efe9521476438fe8ca185.bf3b9ea126d8c0001ee8a1e8b92229871d06d36d8808208cc2449280da87785c\n",
      "Ranks 1: 2019-10-18 14:46:34,517:INFO: Model config {\n",
      "  \"attention_probs_dropout_prob\": 0.1,\n",
      "  \"finetuning_task\": null,\n",
      "  \"hidden_act\": \"gelu\",\n",
      "  \"hidden_dropout_prob\": 0.1,\n",
      "  \"hidden_size\": 768,\n",
      "  \"initializer_range\": 0.02,\n",
      "  \"intermediate_size\": 3072,\n",
      "  \"layer_norm_eps\": 1e-12,\n",
      "  \"max_position_embeddings\": 512,\n",
      "  \"num_attention_heads\": 12,\n",
      "  \"num_hidden_layers\": 12,\n",
      "  \"num_labels\": 2,\n",
      "  \"output_attentions\": false,\n",
      "  \"output_hidden_states\": false,\n",
      "  \"output_past\": true,\n",
      "  \"pruned_heads\": {},\n",
      "  \"torchscript\": false,\n",
      "  \"type_vocab_size\": 2,\n",
      "  \"use_bfloat16\": false,\n",
      "  \"vocab_size\": 30522\n",
      "}\n",
      "\n",
      "Ranks 0: 2019-10-18 14:46:34,590:INFO: loading configuration file https://s3.amazonaws.com/models.huggingface.co/bert/bert-base-uncased-config.json from cache at /home/krishan/.cache/torch/transformers/4dad0251492946e18ac39290fcfe91b89d370fee250efe9521476438fe8ca185.bf3b9ea126d8c0001ee8a1e8b92229871d06d36d8808208cc2449280da87785c\n",
      "Ranks 0: 2019-10-18 14:46:34,590:INFO: Model config {\n",
      "  \"attention_probs_dropout_prob\": 0.1,\n",
      "  \"finetuning_task\": null,\n",
      "  \"hidden_act\": \"gelu\",\n",
      "  \"hidden_dropout_prob\": 0.1,\n",
      "  \"hidden_size\": 768,\n",
      "  \"initializer_range\": 0.02,\n",
      "  \"intermediate_size\": 3072,\n",
      "  \"layer_norm_eps\": 1e-12,\n",
      "  \"max_position_embeddings\": 512,\n",
      "  \"num_attention_heads\": 12,\n",
      "  \"num_hidden_layers\": 12,\n",
      "  \"num_labels\": 2,\n",
      "  \"output_attentions\": false,\n",
      "  \"output_hidden_states\": false,\n",
      "  \"output_past\": true,\n",
      "  \"pruned_heads\": {},\n",
      "  \"torchscript\": false,\n",
      "  \"type_vocab_size\": 2,\n",
      "  \"use_bfloat16\": false,\n",
      "  \"vocab_size\": 30522\n",
      "}\n",
      "\n",
      "Ranks 1: 2019-10-18 14:46:34,683:INFO: loading weights file https://s3.amazonaws.com/models.huggingface.co/bert/bert-base-uncased-pytorch_model.bin from cache at /home/krishan/.cache/torch/transformers/aa1ef1aede4482d0dbcd4d52baad8ae300e60902e88fcb0bebdec09afd232066.36ca03ab34a1a5d5fa7bc3d03d55c4fa650fed07220e2eeebc06ce58d0e9a157\n",
      "Ranks 0: 2019-10-18 14:46:34,760:INFO: loading weights file https://s3.amazonaws.com/models.huggingface.co/bert/bert-base-uncased-pytorch_model.bin from cache at /home/krishan/.cache/torch/transformers/aa1ef1aede4482d0dbcd4d52baad8ae300e60902e88fcb0bebdec09afd232066.36ca03ab34a1a5d5fa7bc3d03d55c4fa650fed07220e2eeebc06ce58d0e9a157\n",
      "Ranks 1: 2019-10-18 14:46:37,626:INFO: Weights of BertForPronounResolution_Mul not initialized from pretrained model: ['neither_params']\n",
      "Ranks 1: 2019-10-18 14:46:37,626:INFO: Weights from pretrained model not used in BertForPronounResolution_Mul: ['cls.predictions.bias', 'cls.predictions.transform.dense.weight', 'cls.predictions.transform.dense.bias', 'cls.predictions.decoder.weight', 'cls.seq_relationship.weight', 'cls.seq_relationship.bias', 'cls.predictions.transform.LayerNorm.weight', 'cls.predictions.transform.LayerNorm.bias']\n",
      "Ranks 1: 2019-10-18 14:46:37,627:INFO: Model used = <class 'BertModels.BertForPronounResolution_Mul'>\n",
      "Ranks 0: 2019-10-18 14:46:37,703:INFO: Weights of BertForPronounResolution_Mul not initialized from pretrained model: ['neither_params']\n",
      "Ranks 0: 2019-10-18 14:46:37,703:INFO: Weights from pretrained model not used in BertForPronounResolution_Mul: ['cls.predictions.bias', 'cls.predictions.transform.dense.weight', 'cls.predictions.transform.dense.bias', 'cls.predictions.decoder.weight', 'cls.seq_relationship.weight', 'cls.seq_relationship.bias', 'cls.predictions.transform.LayerNorm.weight', 'cls.predictions.transform.LayerNorm.bias']\n",
      "Ranks 0: 2019-10-18 14:46:37,704:INFO: Model used = <class 'BertModels.BertForPronounResolution_Mul'>\n",
      "Ranks 0: 2019-10-18 14:46:40,024:INFO: Training epoch 0\n",
      "Ranks 1: 2019-10-18 14:46:40,025:INFO: Training epoch 0\n",
      "batch_iterator: 100%|██████████████| 250/250 [03:30<00:00,  1.18it/s, loss=0.43]\n",
      "\n",
      "Ranks 0: 2019-10-18 14:50:10,345:INFO: Time taken for epoch 1 is = 210.32185792922974\n",
      "Ranks 1: 2019-10-18 14:50:10,345:INFO: Time taken for epoch 1 is = 210.320618391037\n",
      "100%|█████████████████████████████████████████████| 8/8 [00:31<00:00,  3.19s/it]\n",
      "Ranks 0: 2019-10-18 14:50:41,353:INFO: Epoch = 1, Val loss = 0.4160666801035404, val_acc = 0.8414096916299559\n",
      "100%|█████████████████████████████████████████████| 8/8 [00:31<00:00,  3.25s/it]\n",
      "Ranks 1: 2019-10-18 14:50:42,071:INFO: Epoch = 1, Val loss = 0.4160666801035404, val_acc = 0.8414096916299559\n"
     ]
    }
   ],
   "source": [
    "!python -m torch.distributed.launch \\\n",
    "    --nproc_per_node=2 \\\n",
    "    TrainGAP.py \\\n",
    "        --is_distributed \\\n",
    "        --per_gpu_batch_size 16 \\\n",
    "        --gradient_accumulation 4 \\\n",
    "        --backend nccl"
   ]
  },
  {
   "cell_type": "markdown",
   "metadata": {},
   "source": [
    "# Multi node multi process\n",
    "\n",
    "Refer MultiNode notebook"
   ]
  }
 ],
 "metadata": {
  "kernelspec": {
   "display_name": "Python 3.6 - AzureML",
   "language": "python",
   "name": "python3-azureml"
  },
  "language_info": {
   "codemirror_mode": {
    "name": "ipython",
    "version": 3
   },
   "file_extension": ".py",
   "mimetype": "text/x-python",
   "name": "python",
   "nbconvert_exporter": "python",
   "pygments_lexer": "ipython3",
   "version": "3.6.8"
  }
 },
 "nbformat": 4,
 "nbformat_minor": 2
}
