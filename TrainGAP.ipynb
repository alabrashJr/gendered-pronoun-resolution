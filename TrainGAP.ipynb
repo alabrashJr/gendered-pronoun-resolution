{
 "cells": [
  {
   "cell_type": "code",
   "execution_count": 1,
   "metadata": {},
   "outputs": [],
   "source": [
    "#!pip install transformers"
   ]
  },
  {
   "cell_type": "code",
   "execution_count": 1,
   "metadata": {},
   "outputs": [
    {
     "name": "stderr",
     "output_type": "stream",
     "text": [
      "I1007 15:50:10.152489 139749386131200 file_utils.py:39] PyTorch version 1.1.0 available.\n",
      "I1007 15:50:10.400380 139749386131200 modeling_xlnet.py:194] Better speed can be achieved with apex installed from https://www.github.com/nvidia/apex .\n",
      "I1007 15:50:10.577105 139749386131200 tokenization_utils.py:373] loading file https://s3.amazonaws.com/models.huggingface.co/bert/bert-base-uncased-vocab.txt from cache at /home/enlr/.cache/torch/transformers/26bc1ad6c0ac742e9b52263248f6d0f00068293b33709fae12320c0e35ccfbbb.542ce4285a40d23a559526243235df47c5f75c197f04f37d1a0c124c32c9a084\n"
     ]
    },
    {
     "data": {
      "text/plain": [
       "0"
      ]
     },
     "execution_count": 1,
     "metadata": {},
     "output_type": "execute_result"
    }
   ],
   "source": [
    "import pandas as pd\n",
    "import numpy as np\n",
    "import transformers\n",
    "from transformers import BertPreTrainedModel, BertTokenizer, BertModel, BertConfig\n",
    "import torch\n",
    "from torch.utils.data import DataLoader,TensorDataset, RandomSampler, SequentialSampler\n",
    "\n",
    "from tqdm import trange\n",
    "from tqdm import tqdm_notebook as tqdm\n",
    "\n",
    "tokenizer = transformers.BertTokenizer.from_pretrained('bert-base-uncased')\n",
    "device = torch.device(0)\n",
    "torch.cuda.memory_allocated(device)"
   ]
  },
  {
   "cell_type": "code",
   "execution_count": 2,
   "metadata": {},
   "outputs": [],
   "source": [
    "cls_id = tokenizer.convert_tokens_to_ids(tokenizer._cls_token)\n",
    "sep_id = tokenizer.convert_tokens_to_ids(tokenizer._sep_token)\n",
    "\n",
    "\n",
    "max_length = 512\n",
    "\n",
    "def get_features_from_example(ex):\n",
    "    input = ex.input.copy()\n",
    "    pab = ex.pab_pos.copy()\n",
    "\n",
    "    #add special tokens [CLS at beginning], [SEP at end], [optional SEP before pos]\n",
    "    input = [cls_id]+input.tolist()+[sep_id]\n",
    "    pab += 1\n",
    "    \n",
    "    #attention masking and padding\n",
    "    mask = [1] * len(input)\n",
    "    pad_length = max_length -len(input)\n",
    "    #padding tokens and mask with 0\n",
    "    input = input + [0]*pad_length\n",
    "    mask = mask + [0]*pad_length\n",
    "\n",
    "    assert len(input) == max_length\n",
    "    assert len(mask) == max_length\n",
    "    \n",
    "    return input, mask, pab, int(ex.label)"
   ]
  },
  {
   "cell_type": "code",
   "execution_count": 3,
   "metadata": {},
   "outputs": [],
   "source": [
    "def create_dataset(df):\n",
    "    features = [get_features_from_example(df.iloc[i]) for i in range(len(df))]\n",
    "\n",
    "    ids = torch.tensor([feature[0] for feature in features])\n",
    "    masks = torch.tensor([feature[1] for feature in features])\n",
    "    pabs = torch.tensor([feature[2] for feature in features])\n",
    "    labels = torch.tensor([feature[3] for feature in features])\n",
    "\n",
    "    print(ids.size(), masks.size(), pabs.size(), labels.size())\n",
    "\n",
    "    return TensorDataset(ids, masks, pabs, labels)\n"
   ]
  },
  {
   "cell_type": "markdown",
   "metadata": {},
   "source": [
    "## Cancat Model architecture"
   ]
  },
  {
   "cell_type": "code",
   "execution_count": 4,
   "metadata": {},
   "outputs": [],
   "source": [
    "r\"\"\"\n",
    "Outputs: `Tuple` comprising various elements depending on the configuration (config) and inputs:\n",
    "    **loss**: (`optional`, returned when ``labels`` is provided) ``torch.FloatTensor`` of shape ``(1,)``:\n",
    "        Classification (or regression if config.num_labels==1) loss.\n",
    "    **logits**: ``torch.FloatTensor`` of shape ``(batch_size, config.num_labels)``\n",
    "        Classification (or regression if config.num_labels==1) scores (before SoftMax).\n",
    "    **hidden_states**: (`optional`, returned when ``config.output_hidden_states=True``)\n",
    "        list of ``torch.FloatTensor`` (one for the output of each layer + the output of the embeddings)\n",
    "        of shape ``(batch_size, sequence_length, hidden_size)``:\n",
    "        Hidden-states of the model at the output of each layer plus the initial embedding outputs.\n",
    "    **attentions**: (`optional`, returned when ``config.output_attentions=True``)\n",
    "        list of ``torch.FloatTensor`` (one for each layer) of shape ``(batch_size, num_heads, sequence_length, sequence_length)``:\n",
    "        Attentions weights after the attention softmax, used to compute the weighted average in the self-attention heads.\n",
    "\"\"\"\n",
    "class BertForPronounResolutionConcat(BertPreTrainedModel):\n",
    "    def __init__(self, config : BertConfig):\n",
    "        super(BertForPronounResolutionConcat, self).__init__(config)\n",
    "        \n",
    "        self.bert = BertModel(config)\n",
    "        \n",
    "        #[P][A][B] classification layer\n",
    "        self.classification = torch.nn.Linear(config.hidden_size * 3 , 3)\n",
    "        \n",
    "        self.init_weights()\n",
    "    \n",
    "    def forward(self, input_ids, attention_mask, pab, labels = None, token_type_ids = None ):\n",
    "   \n",
    "        #print(f'input shape = {input_ids.size()}')\n",
    "        output = self.bert(input_ids, attention_mask, token_type_ids, None, None)\n",
    "        last_hidden_states = output[0]\n",
    "        \n",
    "        batches = last_hidden_states.size()[0]\n",
    "        row_indexes = torch.arange(batches).unsqueeze(1) # row numbers in a column matrix\n",
    "        pab_hidden_states = last_hidden_states[row_indexes, pab] #batch size x 3 x hidden size\n",
    "        \n",
    "        concatenated_states = pab_hidden_states.view(batches,-1)\n",
    "        \n",
    "        #print(concatenated_states)\n",
    "        logits = self.classification(concatenated_states)\n",
    "        \n",
    "        output = (logits,) + output[2:] #hidden states and attention if present\n",
    "        \n",
    "        if labels is not None:\n",
    "            loss_fun = torch.nn.CrossEntropyLoss()\n",
    "            loss = loss_fun(logits, labels)\n",
    "            \n",
    "            output = (loss,) + output\n",
    "            \n",
    "        return output"
   ]
  },
  {
   "cell_type": "code",
   "execution_count": 6,
   "metadata": {},
   "outputs": [],
   "source": [
    "class BertForPronounResolutionMul(BertPreTrainedModel):\n",
    "    def __init__(self, config : BertConfig):\n",
    "        super(BertForPronounResolutionMul, self).__init__(config)\n",
    "        \n",
    "        self.bert = BertModel(config)  \n",
    "        \n",
    "        \n",
    "        self.init_weights()\n",
    "        \n",
    "        #TODO: use a trainable tensor instead of CLS\n",
    "        #self.trainable_tensor = torch.nn.\n",
    "    \n",
    "    def forward(self, input_ids, attention_mask, pab, labels = None, token_type_ids = None ):\n",
    "   \n",
    "        pabc = torch.cat(( pab, torch.zeros_like(pab[:,0:1])), dim =1)[:,[0,3,1,2]]\n",
    "        \n",
    "        #print(f'input shape = {input_ids.size()}')\n",
    "        output = self.bert(input_ids, attention_mask, token_type_ids, None, None)\n",
    "        last_hidden_states = output[0]\n",
    "        \n",
    "        batches = last_hidden_states.size()[0]\n",
    "        row_indexes = torch.arange(batches).unsqueeze(1) # row numbers in a column matrix\n",
    "        \n",
    "        pab_hidden_states = last_hidden_states[row_indexes, pabc] #batch size x 4 x hidden size\n",
    "        #print(pab_hidden_states)\n",
    "        \n",
    "        attentions = pab_hidden_states[:,1:] * pab_hidden_states[:,0:1]#batch size x 3 x hidden size\n",
    "        \n",
    "        #print(attentions)\n",
    "        logits = torch.sum(attentions, dim = 2)#batch size x 3\n",
    "\n",
    "        #print(logits)\n",
    "        \n",
    "        output = (logits,) + output[2:] #hidden states and attention if present\n",
    "        \n",
    "        if labels is not None:\n",
    "            loss_fun = torch.nn.CrossEntropyLoss()\n",
    "            loss = loss_fun(logits, labels)\n",
    "            \n",
    "            output = (loss,) + output\n",
    "            \n",
    "        return output\n",
    "\n",
    "#m = BertForPronounResolutionMul.from_pretrained('bert-base-uncased')\n",
    "# a = torch.randint(high = 100,size = (2,5))\n",
    "# pab = torch.randint(low = 1, high = 5, size = (2,3))\n",
    "# m(a,None,pab)\n"
   ]
  },
  {
   "cell_type": "markdown",
   "metadata": {},
   "source": [
    "## Segment ID model architecture"
   ]
  },
  {
   "cell_type": "code",
   "execution_count": 17,
   "metadata": {},
   "outputs": [],
   "source": [
    "class BertForPronounResolution_Segment(BertPreTrainedModel):\n",
    "    def __init__(self, config : BertConfig):\n",
    "        \n",
    "        config.type_vocab_size = 4\n",
    "        print(config)\n",
    "        super(BertForPronounResolution_Segment, self).__init__(config)\n",
    "        \n",
    "        self.bert = BertModel(config)   \n",
    "        \n",
    "        self.classification = torch.nn.Linear(config.hidden_size , 3)\n",
    "        \n",
    "        self.init_weights()\n",
    "        \n",
    "\n",
    "    def get_token_type_ids(inp,p):\n",
    "        tokentypes = torch.zeros_like(inp)\n",
    "        tokentypes[p[0]]=1\n",
    "        tokentypes[p[1]]=2\n",
    "        tokentypes[p[2]]=3    \n",
    "        return tokentypes\n",
    "        \n",
    "    def forward(self, input_ids, attention_mask, pab, labels = None, token_type_ids = None ):\n",
    "   \n",
    "        token_type_ids = torch.tensor([ get_token_type_ids(inp,p)  for inp,p in zip(input_ids, pab) ])\n",
    "        \n",
    "        print(f'token types = {token_type_ids}')\n",
    "        \n",
    "        output = self.bert(input_ids, attention_mask, token_type_ids, None, None)\n",
    "        \n",
    "        pooler_output = output[1]\n",
    "\n",
    "        #print(attentions)\n",
    "        logits = self.classification(pooler_output)\n",
    "        torch.sum(attentions, dim = 2)#batch size x 3\n",
    "\n",
    "        #print(logits)\n",
    "        \n",
    "        output = (logits,) + output[2:] #hidden states and attention if present\n",
    "        \n",
    "        if labels is not None:\n",
    "            loss_fun = torch.nn.CrossEntropyLoss()\n",
    "            loss = loss_fun(logits, labels)\n",
    "            \n",
    "            output = (loss,) + output\n",
    "            \n",
    "        return output\n",
    "\n",
    "# m = BertForPronounResolution_Segment.from_pretrained('bert-base-uncased')\n",
    "# a = torch.randint(high = 100,size = (2,5))\n",
    "# pab = torch.randint(low = 1, high = 5, size = (2,3))\n",
    "# m(a,None,pab)\n"
   ]
  },
  {
   "cell_type": "markdown",
   "metadata": {},
   "source": [
    "## Create datasets"
   ]
  },
  {
   "cell_type": "code",
   "execution_count": 7,
   "metadata": {},
   "outputs": [
    {
     "name": "stdout",
     "output_type": "stream",
     "text": [
      "torch.Size([2000, 512]) torch.Size([2000, 512]) torch.Size([2000, 3]) torch.Size([2000])\n",
      "torch.Size([454, 512]) torch.Size([454, 512]) torch.Size([454, 3]) torch.Size([454])\n"
     ]
    }
   ],
   "source": [
    "train_df =  pd.read_pickle('train_processed.pkl')\n",
    "val_df =  pd.read_pickle('val_processed.pkl')\n",
    "\n",
    "train_dataset = create_dataset(train_df)\n",
    "val_dataset = create_dataset(val_df)\n",
    "\n",
    "#test_data = train_dataset[0:2]\n",
    "#test_data = (t.to(device) for t in test_data)\n",
    "#%time model(*test_data)"
   ]
  },
  {
   "cell_type": "markdown",
   "metadata": {},
   "source": [
    "### args"
   ]
  },
  {
   "cell_type": "code",
   "execution_count": 8,
   "metadata": {},
   "outputs": [
    {
     "data": {
      "text/plain": [
       "0"
      ]
     },
     "execution_count": 8,
     "metadata": {},
     "output_type": "execute_result"
    }
   ],
   "source": [
    "import argparse\n",
    "args = argparse.Namespace(\n",
    "    epochs = 3,\n",
    "    lr = 2E-5,\n",
    "    per_step_batch_size = 64,\n",
    "    gradient_acc = 16\n",
    "    )\n",
    "\n",
    "batch_size = args.per_step_batch_size//args.gradient_acc\n",
    "args.batch_size = batch_size\n",
    "\n",
    "\n",
    "torch.cuda.memory_allocated(device)"
   ]
  },
  {
   "cell_type": "markdown",
   "metadata": {},
   "source": [
    "## Train and evaluate"
   ]
  },
  {
   "cell_type": "code",
   "execution_count": 9,
   "metadata": {},
   "outputs": [],
   "source": [
    "def evaluate(val_dataset,model):\n",
    "    val_sampler = SequentialSampler(val_dataset)\n",
    "    val_dataloader = DataLoader(val_dataset,batch_size= 64, sampler = val_sampler)\n",
    "\n",
    "    all_labels = []\n",
    "    all_preds = []\n",
    "    total_loss = 0\n",
    "    acc = 0\n",
    "    model.eval()\n",
    "    steps = 0\n",
    "    with torch.no_grad():\n",
    "        for batch in tqdm(val_dataloader):\n",
    "            labels = batch[-1]\n",
    "            batch = tuple(t.to(device) for t in batch)\n",
    "            loss,logits = model(*batch)\n",
    "            preds = torch.argmax(logits, dim = 1)\n",
    "\n",
    "            total_loss+=loss.item()\n",
    "            all_labels.extend(labels.tolist())\n",
    "            all_preds.extend(preds.tolist())\n",
    "            steps += 1\n",
    "\n",
    "\n",
    "    acc = np.sum(np.array(all_preds) == np.array(all_labels))/ len(all_preds)\n",
    "    loss = total_loss/steps\n",
    "    return loss,acc"
   ]
  },
  {
   "cell_type": "code",
   "execution_count": 10,
   "metadata": {},
   "outputs": [],
   "source": [
    "import matplotlib.pyplot as plt\n",
    "\n",
    "def train(train_dataset, val_dataset, model, args):\n",
    "    \n",
    "    optimizer = torch.optim.Adam(model.parameters(),lr = args.lr) #change it to AdamW later\n",
    "    sampler = RandomSampler(train_dataset)\n",
    "    dataloader = DataLoader(train_dataset,batch_size= args.batch_size, sampler = sampler)\n",
    "\n",
    "    losses = []\n",
    "    total_loss = 0\n",
    "    \n",
    "\n",
    "    \n",
    "    for epoch in tqdm(range(args.epochs),position=1, total=args.epochs):\n",
    "        \n",
    "        model.train()\n",
    "        batch_iterator = tqdm(dataloader, desc='batch_iterator')\n",
    "        \n",
    "        for step, batch in enumerate(batch_iterator):\n",
    "            batch = (t.to(device) for t in batch)\n",
    "            loss,logits = model(*batch)\n",
    "\n",
    "            #print(f'step = {step}, loss = {losses[-1]}')\n",
    "\n",
    "            loss = loss/args.gradient_acc\n",
    "            loss.backward()\n",
    "\n",
    "            total_loss+=loss.item()\n",
    "\n",
    "            if (step+1) % args.gradient_acc == 0:\n",
    "                optimizer.step()\n",
    "                optimizer.zero_grad()\n",
    "                losses.append(total_loss)\n",
    "                batch_iterator.set_postfix({'loss':losses[-1]}, refresh=True)\n",
    "                batch_iterator.write(f'step = {step}, loss = {total_loss}')\n",
    "                total_loss=0\n",
    "        val_loss , val_acc = evaluate(val_dataset, model)\n",
    "        batch_iterator.write(f'Epoch = {epoch}, Val loss = {val_loss}, val_acc = {val_acc}')\n",
    "        \n",
    "    return losses\n",
    "\n",
    "    "
   ]
  },
  {
   "cell_type": "code",
   "execution_count": 11,
   "metadata": {},
   "outputs": [
    {
     "name": "stderr",
     "output_type": "stream",
     "text": [
      "I1007 15:50:29.574311 139749386131200 configuration_utils.py:151] loading configuration file https://s3.amazonaws.com/models.huggingface.co/bert/bert-base-uncased-config.json from cache at /home/enlr/.cache/torch/transformers/4dad0251492946e18ac39290fcfe91b89d370fee250efe9521476438fe8ca185.bf3b9ea126d8c0001ee8a1e8b92229871d06d36d8808208cc2449280da87785c\n",
      "I1007 15:50:29.575519 139749386131200 configuration_utils.py:168] Model config {\n",
      "  \"attention_probs_dropout_prob\": 0.1,\n",
      "  \"finetuning_task\": null,\n",
      "  \"hidden_act\": \"gelu\",\n",
      "  \"hidden_dropout_prob\": 0.1,\n",
      "  \"hidden_size\": 768,\n",
      "  \"initializer_range\": 0.02,\n",
      "  \"intermediate_size\": 3072,\n",
      "  \"layer_norm_eps\": 1e-12,\n",
      "  \"max_position_embeddings\": 512,\n",
      "  \"num_attention_heads\": 12,\n",
      "  \"num_hidden_layers\": 12,\n",
      "  \"num_labels\": 2,\n",
      "  \"output_attentions\": false,\n",
      "  \"output_hidden_states\": false,\n",
      "  \"pruned_heads\": {},\n",
      "  \"torchscript\": false,\n",
      "  \"type_vocab_size\": 2,\n",
      "  \"use_bfloat16\": false,\n",
      "  \"vocab_size\": 30522\n",
      "}\n",
      "\n",
      "I1007 15:50:29.783313 139749386131200 modeling_utils.py:337] loading weights file https://s3.amazonaws.com/models.huggingface.co/bert/bert-base-uncased-pytorch_model.bin from cache at /home/enlr/.cache/torch/transformers/aa1ef1aede4482d0dbcd4d52baad8ae300e60902e88fcb0bebdec09afd232066.36ca03ab34a1a5d5fa7bc3d03d55c4fa650fed07220e2eeebc06ce58d0e9a157\n",
      "I1007 15:50:33.157950 139749386131200 modeling_utils.py:408] Weights from pretrained model not used in BertForPronounResolutionMul: ['cls.predictions.bias', 'cls.predictions.transform.dense.weight', 'cls.predictions.transform.dense.bias', 'cls.predictions.decoder.weight', 'cls.seq_relationship.weight', 'cls.seq_relationship.bias', 'cls.predictions.transform.LayerNorm.weight', 'cls.predictions.transform.LayerNorm.bias']\n"
     ]
    },
    {
     "data": {
      "text/plain": [
       "439061504"
      ]
     },
     "execution_count": 11,
     "metadata": {},
     "output_type": "execute_result"
    }
   ],
   "source": []
  },
  {
   "cell_type": "markdown",
   "metadata": {},
   "source": [
    "# concat model"
   ]
  },
  {
   "cell_type": "code",
   "execution_count": null,
   "metadata": {},
   "outputs": [],
   "source": [
    "model = BertForPronounResolution.from_pretrained('bert-base-uncased')\n",
    "#model = BertForPronounResolutionMul.from_pretrained('bert-base-uncased')\n",
    "model = model.to(device)\n",
    "torch.cuda.memory_allocated(device)"
   ]
  },
  {
   "cell_type": "code",
   "execution_count": 15,
   "metadata": {
    "scrolled": true
   },
   "outputs": [
    {
     "data": {
      "application/vnd.jupyter.widget-view+json": {
       "model_id": "a3ba3387f33a4f77b62af3f6cd7026cf",
       "version_major": 2,
       "version_minor": 0
      },
      "text/plain": [
       "HBox(children=(IntProgress(value=0, max=3), HTML(value='')))"
      ]
     },
     "metadata": {},
     "output_type": "display_data"
    },
    {
     "data": {
      "application/vnd.jupyter.widget-view+json": {
       "model_id": "dcdb3abab9cb415b9366d67398c84997",
       "version_major": 2,
       "version_minor": 0
      },
      "text/plain": [
       "HBox(children=(IntProgress(value=0, description='batch_iterator', max=500, style=ProgressStyle(description_wid…"
      ]
     },
     "metadata": {},
     "output_type": "display_data"
    },
    {
     "name": "stdout",
     "output_type": "stream",
     "text": [
      "step = 15, loss = 0.7916645500808954\n",
      "step = 31, loss = 0.8542960379272699\n",
      "step = 47, loss = 0.7391661424189806\n",
      "step = 63, loss = 0.8919378258287907\n",
      "step = 79, loss = 0.6966466996818781\n",
      "step = 95, loss = 0.6980650341138244\n",
      "step = 111, loss = 0.6372258681803942\n",
      "step = 127, loss = 0.9714848287403584\n",
      "step = 143, loss = 0.6788178961724043\n",
      "step = 159, loss = 0.7591176014393568\n",
      "step = 175, loss = 0.6106825340539217\n",
      "step = 191, loss = 0.8301067799329758\n",
      "step = 207, loss = 0.6880113892257214\n",
      "step = 223, loss = 0.7641087900847197\n",
      "step = 239, loss = 0.68553501740098\n",
      "step = 255, loss = 0.7796583138406277\n",
      "step = 271, loss = 0.7523402441293001\n",
      "step = 287, loss = 0.7021260187029839\n",
      "step = 303, loss = 0.6611818894743919\n",
      "step = 319, loss = 0.7043791748583317\n",
      "step = 335, loss = 0.8052687589079142\n",
      "step = 351, loss = 0.738133005797863\n",
      "step = 367, loss = 0.6436194004490972\n",
      "step = 383, loss = 0.6682134866714478\n",
      "step = 399, loss = 0.6792800165712833\n",
      "step = 415, loss = 0.6080848537385464\n",
      "step = 431, loss = 0.6919648554176092\n",
      "step = 447, loss = 0.6695107398554683\n",
      "step = 463, loss = 0.565120242536068\n",
      "step = 479, loss = 0.5433525731787086\n",
      "step = 495, loss = 0.5863746497780085\n"
     ]
    },
    {
     "data": {
      "application/vnd.jupyter.widget-view+json": {
       "model_id": "f570c31e9a394b3992740ff8884d7114",
       "version_major": 2,
       "version_minor": 0
      },
      "text/plain": [
       "HBox(children=(IntProgress(value=0, max=8), HTML(value='')))"
      ]
     },
     "metadata": {},
     "output_type": "display_data"
    },
    {
     "name": "stdout",
     "output_type": "stream",
     "text": [
      "\r",
      "\r",
      "\r",
      "Epoch = 0, Val loss = 0.49564917758107185, val_acc = 0.7929515418502202\n"
     ]
    },
    {
     "data": {
      "application/vnd.jupyter.widget-view+json": {
       "model_id": "c9767fd956534dff8a77b052e9f84c83",
       "version_major": 2,
       "version_minor": 0
      },
      "text/plain": [
       "HBox(children=(IntProgress(value=0, description='batch_iterator', max=500, style=ProgressStyle(description_wid…"
      ]
     },
     "metadata": {},
     "output_type": "display_data"
    },
    {
     "name": "stdout",
     "output_type": "stream",
     "text": [
      "step = 15, loss = 0.6228451933711767\n",
      "step = 31, loss = 0.4655329929664731\n",
      "step = 47, loss = 0.5008675018325448\n",
      "step = 63, loss = 0.34701877273619175\n",
      "step = 79, loss = 0.44370400719344616\n",
      "step = 95, loss = 0.5771556589752436\n",
      "step = 111, loss = 0.47939705196768045\n",
      "step = 127, loss = 0.3433717451989651\n",
      "step = 143, loss = 0.5675789136439562\n",
      "step = 159, loss = 0.39136450085788965\n",
      "step = 175, loss = 0.47145484015345573\n",
      "step = 191, loss = 0.3569950070232153\n",
      "step = 207, loss = 0.3976039830595255\n",
      "step = 223, loss = 0.36215207166969776\n",
      "step = 239, loss = 0.38615697249770164\n",
      "step = 255, loss = 0.37201882246881723\n",
      "step = 271, loss = 0.40857172943651676\n",
      "step = 287, loss = 0.43873067665845156\n",
      "step = 303, loss = 0.44335668347775936\n",
      "step = 319, loss = 0.39296042639762163\n",
      "step = 335, loss = 0.26948321517556906\n",
      "step = 351, loss = 0.3930641310289502\n",
      "step = 367, loss = 0.432115875184536\n",
      "step = 383, loss = 0.42352257668972015\n",
      "step = 399, loss = 0.2838566116988659\n",
      "step = 415, loss = 0.38573249988257885\n",
      "step = 431, loss = 0.47394388541579247\n",
      "step = 447, loss = 0.438934457488358\n",
      "step = 463, loss = 0.3490017466247082\n",
      "step = 479, loss = 0.39808341301977634\n",
      "step = 495, loss = 0.27504802867770195\n"
     ]
    },
    {
     "data": {
      "application/vnd.jupyter.widget-view+json": {
       "model_id": "2f62e422942446eba661f2f9ea39d29f",
       "version_major": 2,
       "version_minor": 0
      },
      "text/plain": [
       "HBox(children=(IntProgress(value=0, max=8), HTML(value='')))"
      ]
     },
     "metadata": {},
     "output_type": "display_data"
    },
    {
     "name": "stdout",
     "output_type": "stream",
     "text": [
      "\r",
      "\r",
      "\r",
      "Epoch = 1, Val loss = 0.416640754789114, val_acc = 0.8325991189427313\n"
     ]
    },
    {
     "data": {
      "application/vnd.jupyter.widget-view+json": {
       "model_id": "818283dcdfe3410b8d54d5b273ae99bf",
       "version_major": 2,
       "version_minor": 0
      },
      "text/plain": [
       "HBox(children=(IntProgress(value=0, description='batch_iterator', max=500, style=ProgressStyle(description_wid…"
      ]
     },
     "metadata": {},
     "output_type": "display_data"
    },
    {
     "name": "stdout",
     "output_type": "stream",
     "text": [
      "step = 15, loss = 0.3458228353410959\n",
      "step = 31, loss = 0.33714070823043585\n",
      "step = 47, loss = 0.20951562002301216\n",
      "step = 63, loss = 0.3329116925597191\n",
      "step = 79, loss = 0.3702168669551611\n",
      "step = 95, loss = 0.2774099875241518\n",
      "step = 111, loss = 0.21796184964478016\n",
      "step = 127, loss = 0.2852888163179159\n",
      "step = 143, loss = 0.2067358186468482\n",
      "step = 159, loss = 0.2641458287835121\n",
      "step = 175, loss = 0.25581724662333727\n",
      "step = 191, loss = 0.24645336624234915\n",
      "step = 207, loss = 0.19164441525936127\n",
      "step = 223, loss = 0.27024228125810623\n",
      "step = 239, loss = 0.23963692225515842\n",
      "step = 255, loss = 0.13564254716038704\n",
      "step = 271, loss = 0.2846699636429548\n",
      "step = 287, loss = 0.18161071464419365\n",
      "step = 303, loss = 0.18326221499592066\n",
      "step = 319, loss = 0.15270341653376818\n",
      "step = 335, loss = 0.18352807871997356\n",
      "step = 351, loss = 0.19014545902609825\n",
      "step = 367, loss = 0.19209754839539528\n",
      "step = 383, loss = 0.35177184641361237\n",
      "step = 399, loss = 0.2523478362709284\n",
      "step = 415, loss = 0.15428109280765057\n",
      "step = 431, loss = 0.2559850150719285\n",
      "step = 447, loss = 0.2225537020713091\n",
      "step = 463, loss = 0.20103058405220509\n",
      "step = 479, loss = 0.15222844202071428\n",
      "step = 495, loss = 0.14837784692645073\n"
     ]
    },
    {
     "data": {
      "application/vnd.jupyter.widget-view+json": {
       "model_id": "632c29fdef75487bb1f5b3cad89f25a1",
       "version_major": 2,
       "version_minor": 0
      },
      "text/plain": [
       "HBox(children=(IntProgress(value=0, max=8), HTML(value='')))"
      ]
     },
     "metadata": {},
     "output_type": "display_data"
    },
    {
     "name": "stdout",
     "output_type": "stream",
     "text": [
      "\r",
      "\r",
      "\r",
      "Epoch = 2, Val loss = 0.33714463002979755, val_acc = 0.8590308370044053\n"
     ]
    },
    {
     "data": {
      "text/plain": [
       "[<matplotlib.lines.Line2D at 0x7fb6958a19e8>]"
      ]
     },
     "execution_count": 15,
     "metadata": {},
     "output_type": "execute_result"
    },
    {
     "data": {
      "image/png": "[encoded data removed]",
      "text/plain": [
       "<Figure size 432x288 with 1 Axes>"
      ]
     },
     "metadata": {
      "needs_background": "light"
     },
     "output_type": "display_data"
    }
   ],
   "source": [
    "losses = train(train_dataset, val_dataset, model, args)\n",
    "plt.plot(losses)"
   ]
  },
  {
   "cell_type": "markdown",
   "metadata": {},
   "source": [
    "## Multiplication model"
   ]
  },
  {
   "cell_type": "code",
   "execution_count": null,
   "metadata": {},
   "outputs": [],
   "source": [
    "#model = BertForPronounResolution.from_pretrained('bert-base-uncased')\n",
    "model = BertForPronounResolutionMul.from_pretrained('bert-base-uncased')\n",
    "model = model.to(device)\n",
    "torch.cuda.memory_allocated(device)"
   ]
  },
  {
   "cell_type": "code",
   "execution_count": 12,
   "metadata": {},
   "outputs": [
    {
     "data": {
      "application/vnd.jupyter.widget-view+json": {
       "model_id": "ef55bcd50f6e48a682013ea84c812415",
       "version_major": 2,
       "version_minor": 0
      },
      "text/plain": [
       "HBox(children=(IntProgress(value=0, max=3), HTML(value='')))"
      ]
     },
     "metadata": {},
     "output_type": "display_data"
    },
    {
     "data": {
      "application/vnd.jupyter.widget-view+json": {
       "model_id": "cd741629cd5b407a9f18b64a3891f181",
       "version_major": 2,
       "version_minor": 0
      },
      "text/plain": [
       "HBox(children=(IntProgress(value=0, description='batch_iterator', max=500, style=ProgressStyle(description_wid…"
      ]
     },
     "metadata": {},
     "output_type": "display_data"
    },
    {
     "name": "stdout",
     "output_type": "stream",
     "text": [
      "step = 15, loss = 9.602057158946991\n",
      "step = 31, loss = 5.8985395431518555\n",
      "step = 47, loss = 6.245501458644867\n",
      "step = 63, loss = 4.642662525177002\n",
      "step = 79, loss = 3.8698235750198364\n",
      "step = 95, loss = 4.022881209850311\n",
      "step = 111, loss = 3.0187883973121643\n",
      "step = 127, loss = 2.4068474769592285\n",
      "step = 143, loss = 3.1808049082756042\n",
      "step = 159, loss = 4.886632978916168\n",
      "step = 175, loss = 2.4015565514564514\n",
      "step = 191, loss = 2.5935561060905457\n",
      "step = 207, loss = 3.23126083612442\n",
      "step = 223, loss = 1.6209517121315002\n",
      "step = 239, loss = 1.183289885520935\n",
      "step = 255, loss = 1.7556816935539246\n",
      "step = 271, loss = 0.7006791830062866\n",
      "step = 287, loss = 1.4791873693466187\n",
      "step = 303, loss = 0.6754513382911682\n",
      "step = 319, loss = 1.0017993450164795\n",
      "step = 335, loss = 0.848925769329071\n",
      "step = 351, loss = 1.0498071908950806\n",
      "step = 367, loss = 1.2652817964553833\n",
      "step = 383, loss = 1.0171902179718018\n",
      "step = 399, loss = 1.4061124920845032\n",
      "step = 415, loss = 1.1766276359558105\n",
      "step = 431, loss = 0.7309699654579163\n",
      "step = 447, loss = 0.8326042890548706\n",
      "step = 463, loss = 0.748066782951355\n",
      "step = 479, loss = 0.7860024571418762\n",
      "step = 495, loss = 0.5748045444488525\n"
     ]
    },
    {
     "data": {
      "application/vnd.jupyter.widget-view+json": {
       "model_id": "9c8b07b233b74969b42eefa793772300",
       "version_major": 2,
       "version_minor": 0
      },
      "text/plain": [
       "HBox(children=(IntProgress(value=0, max=8), HTML(value='')))"
      ]
     },
     "metadata": {},
     "output_type": "display_data"
    },
    {
     "name": "stdout",
     "output_type": "stream",
     "text": [
      "\r",
      "Epoch = 0, Val loss = 0.768327996134758, val_acc = 0.7841409691629956\n"
     ]
    },
    {
     "data": {
      "application/vnd.jupyter.widget-view+json": {
       "model_id": "ddfc6be1f5bc457d95a71b0ecd425817",
       "version_major": 2,
       "version_minor": 0
      },
      "text/plain": [
       "HBox(children=(IntProgress(value=0, description='batch_iterator', max=500, style=ProgressStyle(description_wid…"
      ]
     },
     "metadata": {},
     "output_type": "display_data"
    },
    {
     "name": "stdout",
     "output_type": "stream",
     "text": [
      "step = 15, loss = 0.22824722528457642\n",
      "step = 31, loss = 0.2920791506767273\n",
      "step = 47, loss = 0.613080620765686\n",
      "step = 63, loss = 0.2873234152793884\n",
      "step = 79, loss = 0.4530527591705322\n",
      "step = 95, loss = 0.423633873462677\n",
      "step = 111, loss = 0.5904667973518372\n",
      "step = 127, loss = 0.3023343086242676\n",
      "step = 143, loss = 0.34669268131256104\n",
      "step = 159, loss = 0.5939683318138123\n",
      "step = 175, loss = 0.42190420627593994\n",
      "step = 191, loss = 0.5465742349624634\n",
      "step = 207, loss = 0.3423260450363159\n",
      "step = 223, loss = 0.40914386510849\n",
      "step = 239, loss = 0.4017993211746216\n",
      "step = 255, loss = 0.5142531394958496\n",
      "step = 271, loss = 0.2859504222869873\n",
      "step = 287, loss = 0.23487335443496704\n",
      "step = 303, loss = 0.31894975900650024\n",
      "step = 319, loss = 0.3466665744781494\n",
      "step = 335, loss = 0.322227418422699\n",
      "step = 351, loss = 0.40607964992523193\n",
      "step = 367, loss = 0.44556599855422974\n",
      "step = 383, loss = 0.33188897371292114\n",
      "step = 399, loss = 0.5686752200126648\n",
      "step = 415, loss = 0.5598810911178589\n",
      "step = 431, loss = 0.5367322564125061\n",
      "step = 447, loss = 0.3092197775840759\n",
      "step = 463, loss = 0.35876715183258057\n",
      "step = 479, loss = 0.42531317472457886\n",
      "step = 495, loss = 0.2908618450164795\n"
     ]
    },
    {
     "data": {
      "application/vnd.jupyter.widget-view+json": {
       "model_id": "ff9e59b2532a4cac9d4328a9d6e0cb20",
       "version_major": 2,
       "version_minor": 0
      },
      "text/plain": [
       "HBox(children=(IntProgress(value=0, max=8), HTML(value='')))"
      ]
     },
     "metadata": {},
     "output_type": "display_data"
    },
    {
     "name": "stdout",
     "output_type": "stream",
     "text": [
      "\r",
      "Epoch = 1, Val loss = 0.65932247787714, val_acc = 0.7819383259911894\n"
     ]
    },
    {
     "data": {
      "application/vnd.jupyter.widget-view+json": {
       "model_id": "f5dd54e88d1b4421b0b6ca44346e3f46",
       "version_major": 2,
       "version_minor": 0
      },
      "text/plain": [
       "HBox(children=(IntProgress(value=0, description='batch_iterator', max=500, style=ProgressStyle(description_wid…"
      ]
     },
     "metadata": {},
     "output_type": "display_data"
    },
    {
     "name": "stdout",
     "output_type": "stream",
     "text": [
      "step = 15, loss = 0.3962147831916809\n",
      "step = 31, loss = 0.3509036898612976\n",
      "step = 47, loss = 0.225655198097229\n",
      "step = 63, loss = 0.5309136509895325\n",
      "step = 79, loss = 0.3235270380973816\n",
      "step = 95, loss = 0.40063923597335815\n",
      "step = 111, loss = 0.36100244522094727\n",
      "step = 127, loss = 0.3395654559135437\n",
      "step = 143, loss = 0.19231075048446655\n",
      "step = 159, loss = 0.22550725936889648\n",
      "step = 175, loss = 0.352172315120697\n",
      "step = 191, loss = 0.27384793758392334\n",
      "step = 207, loss = 0.2530386447906494\n",
      "step = 223, loss = 0.3379824161529541\n",
      "step = 239, loss = 0.46887052059173584\n",
      "step = 255, loss = 0.26213711500167847\n",
      "step = 271, loss = 0.23440998792648315\n",
      "step = 287, loss = 0.24604129791259766\n",
      "step = 303, loss = 0.21807140111923218\n",
      "step = 319, loss = 0.2608690857887268\n",
      "step = 335, loss = 0.22893309593200684\n",
      "step = 351, loss = 0.20094460248947144\n",
      "step = 367, loss = 0.29955703020095825\n",
      "step = 383, loss = 0.34174615144729614\n",
      "step = 399, loss = 0.16451328992843628\n",
      "step = 415, loss = 0.2614430785179138\n",
      "step = 431, loss = 0.3006935119628906\n",
      "step = 447, loss = 0.26846498250961304\n",
      "step = 463, loss = 0.27004754543304443\n",
      "step = 479, loss = 0.15364766120910645\n",
      "step = 495, loss = 0.219262957572937\n"
     ]
    },
    {
     "data": {
      "application/vnd.jupyter.widget-view+json": {
       "model_id": "5914141b3a354f488d249dba20476b8f",
       "version_major": 2,
       "version_minor": 0
      },
      "text/plain": [
       "HBox(children=(IntProgress(value=0, max=8), HTML(value='')))"
      ]
     },
     "metadata": {},
     "output_type": "display_data"
    },
    {
     "name": "stdout",
     "output_type": "stream",
     "text": [
      "\r",
      "Epoch = 2, Val loss = 0.5983525142073631, val_acc = 0.7929515418502202\n"
     ]
    },
    {
     "data": {
      "text/plain": [
       "[<matplotlib.lines.Line2D at 0x7f1913ce1390>]"
      ]
     },
     "execution_count": 12,
     "metadata": {},
     "output_type": "execute_result"
    },
    {
     "data": {
      "image/png": "[encoded data removed]",
      "text/plain": [
       "<Figure size 432x288 with 1 Axes>"
      ]
     },
     "metadata": {
      "needs_background": "light"
     },
     "output_type": "display_data"
    }
   ],
   "source": [
    "losses = train(train_dataset, val_dataset, model, args)\n",
    "plt.plot(losses)"
   ]
  }
 ],
 "metadata": {
  "kernelspec": {
   "display_name": "Python 3.6 - AzureML",
   "language": "python",
   "name": "python3-azureml"
  },
  "language_info": {
   "codemirror_mode": {
    "name": "ipython",
    "version": 3
   },
   "file_extension": ".py",
   "mimetype": "text/x-python",
   "name": "python",
   "nbconvert_exporter": "python",
   "pygments_lexer": "ipython3",
   "version": "3.6.8"
  }
 },
 "nbformat": 4,
 "nbformat_minor": 2
}
