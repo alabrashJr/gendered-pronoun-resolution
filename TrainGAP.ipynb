{
 "cells": [
  {
   "cell_type": "code",
   "execution_count": 1,
   "metadata": {},
   "outputs": [],
   "source": [
    "#!pip install transformers"
   ]
  },
  {
   "cell_type": "code",
   "execution_count": 2,
   "metadata": {},
   "outputs": [
    {
     "name": "stderr",
     "output_type": "stream",
     "text": [
      "I1008 21:07:19.976666 140055077836544 file_utils.py:39] PyTorch version 1.1.0 available.\n",
      "I1008 21:07:20.215218 140055077836544 modeling_xlnet.py:194] Better speed can be achieved with apex installed from https://www.github.com/nvidia/apex .\n",
      "I1008 21:07:20.395566 140055077836544 tokenization_utils.py:373] loading file https://s3.amazonaws.com/models.huggingface.co/bert/bert-base-uncased-vocab.txt from cache at /home/enlr/.cache/torch/transformers/26bc1ad6c0ac742e9b52263248f6d0f00068293b33709fae12320c0e35ccfbbb.542ce4285a40d23a559526243235df47c5f75c197f04f37d1a0c124c32c9a084\n"
     ]
    },
    {
     "data": {
      "text/plain": [
       "0"
      ]
     },
     "execution_count": 2,
     "metadata": {},
     "output_type": "execute_result"
    }
   ],
   "source": [
    "import pandas as pd\n",
    "import numpy as np\n",
    "import transformers\n",
    "from transformers import BertPreTrainedModel, BertTokenizer, BertModel, BertConfig\n",
    "import torch\n",
    "from torch.utils.data import DataLoader,TensorDataset, RandomSampler, SequentialSampler\n",
    "import math\n",
    "from tqdm import trange\n",
    "from tqdm import tqdm_notebook as tqdm\n",
    "\n",
    "tokenizer = transformers.BertTokenizer.from_pretrained('bert-base-uncased')\n",
    "device = torch.device(0)\n",
    "torch.cuda.memory_allocated(device)"
   ]
  },
  {
   "cell_type": "code",
   "execution_count": 3,
   "metadata": {},
   "outputs": [],
   "source": [
    "cls_id = tokenizer.convert_tokens_to_ids(tokenizer._cls_token)\n",
    "sep_id = tokenizer.convert_tokens_to_ids(tokenizer._sep_token)\n",
    "\n",
    "\n",
    "max_length = 512\n",
    "\n",
    "def get_features_from_example(ex):\n",
    "    input = ex.input.copy()\n",
    "    pab = ex.pab_pos.copy()\n",
    "\n",
    "    #add special tokens [CLS at beginning], [SEP at end], [optional SEP before pos]\n",
    "    input = [cls_id]+input.tolist()+[sep_id]\n",
    "    pab += 1\n",
    "    \n",
    "    #attention masking and padding\n",
    "    mask = [1] * len(input)\n",
    "    pad_length = max_length -len(input)\n",
    "    #padding tokens and mask with 0\n",
    "    input = input + [0]*pad_length\n",
    "    mask = mask + [0]*pad_length\n",
    "\n",
    "    assert len(input) == max_length\n",
    "    assert len(mask) == max_length\n",
    "    \n",
    "    return input, mask, pab, int(ex.label)"
   ]
  },
  {
   "cell_type": "code",
   "execution_count": 4,
   "metadata": {},
   "outputs": [],
   "source": [
    "def create_dataset(df):\n",
    "    features = [get_features_from_example(df.iloc[i]) for i in range(len(df))]\n",
    "\n",
    "    ids = torch.tensor([feature[0] for feature in features])\n",
    "    masks = torch.tensor([feature[1] for feature in features])\n",
    "    pabs = torch.tensor([feature[2] for feature in features])\n",
    "    labels = torch.tensor([feature[3] for feature in features])\n",
    "\n",
    "    print(ids.size(), masks.size(), pabs.size(), labels.size())\n",
    "\n",
    "    return TensorDataset(ids, masks, pabs, labels)\n"
   ]
  },
  {
   "cell_type": "markdown",
   "metadata": {},
   "source": [
    "## Cancat Model architecture"
   ]
  },
  {
   "cell_type": "code",
   "execution_count": 5,
   "metadata": {},
   "outputs": [],
   "source": [
    "'''\n",
    "logits = concat(P_hidden, A_hidden, B_hidden)\n",
    "'''\n",
    "\n",
    "class BertForPronounResolution_Concat(BertPreTrainedModel):\n",
    "    def __init__(self, config : BertConfig):\n",
    "        super(BertForPronounResolution_Concat, self).__init__(config)\n",
    "        \n",
    "        self.bert = BertModel(config)\n",
    "        \n",
    "        #[P][A][B] classification layer\n",
    "        self.classification = torch.nn.Linear(config.hidden_size * 3 , 3)\n",
    "        \n",
    "        self.init_weights()\n",
    "    \n",
    "    def forward(self, input_ids, attention_mask, pab, labels = None, token_type_ids = None ):\n",
    "   \n",
    "        #print(f'input shape = {input_ids.size()}')\n",
    "        output = self.bert(input_ids, attention_mask, token_type_ids, None, None)\n",
    "        last_hidden_states = output[0]\n",
    "        \n",
    "        batches = last_hidden_states.size()[0]\n",
    "        row_indexes = torch.arange(batches).unsqueeze(1) # row numbers in a column matrix\n",
    "        pab_hidden_states = last_hidden_states[row_indexes, pab] #batch size x 3 x hidden size\n",
    "        \n",
    "        concatenated_states = pab_hidden_states.view(batches,-1)\n",
    "        \n",
    "        #print(concatenated_states)\n",
    "        logits = self.classification(concatenated_states)\n",
    "        \n",
    "        output = (logits,) + output[2:] #hidden states and attention if present\n",
    "        \n",
    "        if labels is not None:\n",
    "            loss_fun = torch.nn.CrossEntropyLoss()\n",
    "            loss = loss_fun(logits, labels)\n",
    "            \n",
    "            output = (loss,) + output\n",
    "            \n",
    "        return output"
   ]
  },
  {
   "cell_type": "markdown",
   "metadata": {},
   "source": [
    "## Mul Model Architecture"
   ]
  },
  {
   "cell_type": "code",
   "execution_count": 6,
   "metadata": {},
   "outputs": [],
   "source": [
    "'''\n",
    "A_att, B_att = Attention of P wrt A and B/sqrt(hiddensize)\n",
    "Neither_att = Attention of P wrt random tranable tensor/sqrt(hiddensize)\n",
    "\n",
    "logits = A_att, B_att, Neither_att\n",
    "'''\n",
    "class BertForPronounResolution_Mul(BertPreTrainedModel):\n",
    "    def __init__(self, config : BertConfig):\n",
    "        super(BertForPronounResolution_Mul, self).__init__(config)\n",
    "        \n",
    "        self.bert = BertModel(config)  \n",
    "        self.init_weights()\n",
    "        \n",
    "        self.neither_params = torch.nn.Parameter(data = torch.randn(config.hidden_size,))\n",
    "        #TODO: use a trainable tensor instead of CLS\n",
    "        #self.trainable_tensor = torch.nn.\n",
    "    \n",
    "    def forward(self, input_ids, attention_mask, pab, labels = None, token_type_ids = None ):\n",
    "   \n",
    "        #pabc = torch.cat(( pab, torch.zeros_like(pab[:,0:1])), dim =1)[:,[0,3,1,2]]\n",
    "        \n",
    "        #print(f'input shape = {input_ids.size()}')\n",
    "        output = self.bert(input_ids, attention_mask, token_type_ids, None, None)\n",
    "        last_hidden_states = output[0]\n",
    "        \n",
    "        batches = last_hidden_states.size()[0]\n",
    "        row_indexes = torch.arange(batches).unsqueeze(1) # row numbers in a column matrix\n",
    "        \n",
    "        pab_hidden_states = last_hidden_states[row_indexes, pab] #batch size x 3 x hidden size\n",
    "        #print(pab_hidden_states)\n",
    "        \n",
    "        p_state = pab_hidden_states[:,0:1]\n",
    "        attentions = pab_hidden_states[:,1:] * p_state#batch size x 2 x hidden size\n",
    "        \n",
    "        neither_att = p_state * self.neither_params\n",
    "        \n",
    "        attentions = torch.cat((neither_att, attentions), dim = 1)\n",
    "        #print(attentions.size())\n",
    "        #dividing sum with hidden size length to avoid high values. Done in Bert paper too\n",
    "        logits = torch.sum(attentions, dim = 2)/math.sqrt(self.config.hidden_size) #batch size x 3 \n",
    "\n",
    "        #print(logits)\n",
    "        \n",
    "        output = (logits,) + output[2:] #hidden states and attention if present\n",
    "        \n",
    "        if labels is not None:\n",
    "            loss_fun = torch.nn.CrossEntropyLoss()\n",
    "            loss = loss_fun(logits, labels)\n",
    "            \n",
    "            output = (loss,) + output\n",
    "            \n",
    "        return output\n",
    "\n",
    "# m = BertForPronounResolution_Mul.from_pretrained('bert-base-uncased')\n",
    "# a = torch.randint(high = 100,size = (2,5))\n",
    "# pab = torch.randint(low = 1, high = 5, size = (2,3))\n",
    "# m(a,None,pab)\n"
   ]
  },
  {
   "cell_type": "markdown",
   "metadata": {},
   "source": [
    "## Segment ID model architecture"
   ]
  },
  {
   "cell_type": "code",
   "execution_count": 7,
   "metadata": {},
   "outputs": [],
   "source": [
    "'''\n",
    "input = same as bert\n",
    "input embedding ids = 1 for P, 2 For A, 3 for B, 0 for rest. A,B and P are only first tokens of their respective words\n",
    "logits = CLS_hidden\n",
    "'''\n",
    "\n",
    "class BertForPronounResolution_Segment(BertPreTrainedModel):\n",
    "    def __init__(self, config):\n",
    "        super(BertForPronounResolution_Segment, self).__init__(config)\n",
    "        self.bert = BertModel(config)\n",
    "        self.config.type_vocab_size = 4\n",
    "        \n",
    "        self.classification = torch.nn.Linear(config.hidden_size , 3)\n",
    "        self.token_type_embeddings = torch.nn.Embedding(config.type_vocab_size, config.hidden_size)\n",
    "        \n",
    "        self.init_weights()\n",
    "        \n",
    "\n",
    "    def post_init(self):\n",
    "        #print(self.bert.embeddings.token_type_embeddings.weight)\n",
    "        self.bert.embeddings.token_type_embeddings = self.token_type_embeddings\n",
    "        #print(self.bert.embeddings.token_type_embeddings.weight)\n",
    "\n",
    "    def get_token_type_ids(self,inp,p):\n",
    "        tokentypes = torch.zeros_like(inp)\n",
    "        tokentypes[p[0]]=1\n",
    "        tokentypes[p[1]]=2\n",
    "        tokentypes[p[2]]=3    \n",
    "        return tokentypes\n",
    "        \n",
    "    def forward(self, input_ids, attention_mask, pab, labels = None, token_type_ids = None ):\n",
    "   \n",
    "        #print([ self.get_token_type_ids(inp,p)  for inp,p in zip(input_ids, pab) ])\n",
    "        token_type_ids = torch.cat([ self.get_token_type_ids(inp,p).unsqueeze(0)  for inp,p in zip(input_ids, pab) ], dim =0)\n",
    "        \n",
    "        #print(f'token types = {token_type_ids}')\n",
    "        \n",
    "        output = self.bert(input_ids, attention_mask, token_type_ids, None, None)\n",
    "        \n",
    "        pooler_output = output[1]\n",
    "\n",
    "        logits = self.classification(pooler_output)\n",
    "        #print(logits)\n",
    "        \n",
    "        output = (logits,) + output[2:] #hidden states and attention if present\n",
    "        \n",
    "        if labels is not None:\n",
    "            loss_fun = torch.nn.CrossEntropyLoss()\n",
    "            loss = loss_fun(logits, labels)\n",
    "            \n",
    "            output = (loss,) + output\n",
    "            \n",
    "        return output\n",
    "\n",
    "# m = BertForPronounResolution_Segment.from_pretrained('bert-base-uncased')\n",
    "# m.post_init()\n",
    "        \n",
    "# a = torch.randint(high = 100,size = (2,5))\n",
    "# pab = torch.randint(low = 1, high = 5, size = (2,3))\n",
    "# m(a,None,pab)\n"
   ]
  },
  {
   "cell_type": "markdown",
   "metadata": {},
   "source": [
    "## Create datasets"
   ]
  },
  {
   "cell_type": "code",
   "execution_count": 8,
   "metadata": {},
   "outputs": [
    {
     "name": "stdout",
     "output_type": "stream",
     "text": [
      "torch.Size([2000, 512]) torch.Size([2000, 512]) torch.Size([2000, 3]) torch.Size([2000])\n",
      "torch.Size([454, 512]) torch.Size([454, 512]) torch.Size([454, 3]) torch.Size([454])\n"
     ]
    }
   ],
   "source": [
    "train_df =  pd.read_pickle('train_processed.pkl')\n",
    "val_df =  pd.read_pickle('val_processed.pkl')\n",
    "\n",
    "train_dataset = create_dataset(train_df)\n",
    "val_dataset = create_dataset(val_df)\n",
    "\n",
    "#test_data = train_dataset[0:2]\n",
    "#test_data = (t.to(device) for t in test_data)\n",
    "#%time model(*test_data)"
   ]
  },
  {
   "cell_type": "markdown",
   "metadata": {},
   "source": [
    "### args"
   ]
  },
  {
   "cell_type": "code",
   "execution_count": 10,
   "metadata": {},
   "outputs": [],
   "source": [
    "import argparse\n",
    "args = argparse.Namespace(\n",
    "    epochs = 2,\n",
    "    lr = 2E-5,\n",
    "    per_step_batch_size = 64,\n",
    "    gradient_acc = 16\n",
    "    )\n",
    "\n",
    "batch_size = args.per_step_batch_size//args.gradient_acc\n",
    "args.batch_size = batch_size\n"
   ]
  },
  {
   "cell_type": "markdown",
   "metadata": {},
   "source": [
    "## Train and evaluate"
   ]
  },
  {
   "cell_type": "code",
   "execution_count": 11,
   "metadata": {},
   "outputs": [],
   "source": [
    "def evaluate(val_dataset,model):\n",
    "    val_sampler = SequentialSampler(val_dataset)\n",
    "    val_dataloader = DataLoader(val_dataset,batch_size= 64, sampler = val_sampler)\n",
    "\n",
    "    all_labels = []\n",
    "    all_preds = []\n",
    "    total_loss = 0\n",
    "    acc = 0\n",
    "    model.eval()\n",
    "    steps = 0\n",
    "    with torch.no_grad():\n",
    "        for batch in tqdm(val_dataloader):\n",
    "            labels = batch[-1]\n",
    "            batch = tuple(t.to(device) for t in batch)\n",
    "            loss,logits = model(*batch)\n",
    "            preds = torch.argmax(logits, dim = 1)\n",
    "\n",
    "            total_loss+=loss.item()\n",
    "            all_labels.extend(labels.tolist())\n",
    "            all_preds.extend(preds.tolist())\n",
    "            steps += 1\n",
    "\n",
    "\n",
    "    acc = np.sum(np.array(all_preds) == np.array(all_labels))/ len(all_preds)\n",
    "    loss = total_loss/steps\n",
    "    return loss,acc"
   ]
  },
  {
   "cell_type": "code",
   "execution_count": 12,
   "metadata": {},
   "outputs": [],
   "source": [
    "import matplotlib.pyplot as plt\n",
    "\n",
    "def train(train_dataset, val_dataset, model, args):\n",
    "    \n",
    "    optimizer = torch.optim.Adam(model.parameters(),lr = args.lr) #change it to AdamW later\n",
    "    sampler = RandomSampler(train_dataset)\n",
    "    dataloader = DataLoader(train_dataset,batch_size= args.batch_size, sampler = sampler)\n",
    "\n",
    "    losses = []\n",
    "    total_loss = 0\n",
    "    \n",
    "\n",
    "    \n",
    "    for epoch in tqdm(range(args.epochs),position=1, total=args.epochs):\n",
    "        \n",
    "        model.train()\n",
    "        batch_iterator = tqdm(dataloader, desc='batch_iterator')\n",
    "        \n",
    "        for step, batch in enumerate(batch_iterator):\n",
    "            batch = (t.to(device) for t in batch)\n",
    "            loss,logits = model(*batch)\n",
    "\n",
    "            #print(f'step = {step}, loss = {losses[-1]}')\n",
    "\n",
    "            loss = loss/args.gradient_acc\n",
    "            loss.backward()\n",
    "\n",
    "            total_loss+=loss.item()\n",
    "\n",
    "            if (step+1) % args.gradient_acc == 0:\n",
    "                optimizer.step()\n",
    "                optimizer.zero_grad()\n",
    "                losses.append(total_loss)\n",
    "                batch_iterator.set_postfix({'loss':losses[-1]}, refresh=True)\n",
    "                batch_iterator.write(f'step = {step}, loss = {total_loss}')\n",
    "                total_loss=0\n",
    "        val_loss , val_acc = evaluate(val_dataset, model)\n",
    "        batch_iterator.write(f'Epoch = {epoch}, Val loss = {val_loss}, val_acc = {val_acc}')\n",
    "        \n",
    "    return losses\n",
    "\n",
    "    "
   ]
  },
  {
   "cell_type": "markdown",
   "metadata": {},
   "source": [
    "# 1. concat model"
   ]
  },
  {
   "cell_type": "code",
   "execution_count": 14,
   "metadata": {
    "collapsed": true
   },
   "outputs": [
    {
     "name": "stderr",
     "output_type": "stream",
     "text": [
      "I1008 21:07:58.572713 140055077836544 configuration_utils.py:151] loading configuration file https://s3.amazonaws.com/models.huggingface.co/bert/bert-base-uncased-config.json from cache at /home/enlr/.cache/torch/transformers/4dad0251492946e18ac39290fcfe91b89d370fee250efe9521476438fe8ca185.bf3b9ea126d8c0001ee8a1e8b92229871d06d36d8808208cc2449280da87785c\n",
      "I1008 21:07:58.573921 140055077836544 configuration_utils.py:168] Model config {\n",
      "  \"attention_probs_dropout_prob\": 0.1,\n",
      "  \"finetuning_task\": null,\n",
      "  \"hidden_act\": \"gelu\",\n",
      "  \"hidden_dropout_prob\": 0.1,\n",
      "  \"hidden_size\": 768,\n",
      "  \"initializer_range\": 0.02,\n",
      "  \"intermediate_size\": 3072,\n",
      "  \"layer_norm_eps\": 1e-12,\n",
      "  \"max_position_embeddings\": 512,\n",
      "  \"num_attention_heads\": 12,\n",
      "  \"num_hidden_layers\": 12,\n",
      "  \"num_labels\": 2,\n",
      "  \"output_attentions\": false,\n",
      "  \"output_hidden_states\": false,\n",
      "  \"pruned_heads\": {},\n",
      "  \"torchscript\": false,\n",
      "  \"type_vocab_size\": 2,\n",
      "  \"use_bfloat16\": false,\n",
      "  \"vocab_size\": 30522\n",
      "}\n",
      "\n",
      "I1008 21:07:58.735274 140055077836544 modeling_utils.py:337] loading weights file https://s3.amazonaws.com/models.huggingface.co/bert/bert-base-uncased-pytorch_model.bin from cache at /home/enlr/.cache/torch/transformers/aa1ef1aede4482d0dbcd4d52baad8ae300e60902e88fcb0bebdec09afd232066.36ca03ab34a1a5d5fa7bc3d03d55c4fa650fed07220e2eeebc06ce58d0e9a157\n",
      "I1008 21:08:02.117287 140055077836544 modeling_utils.py:405] Weights of BertForPronounResolution_Concat not initialized from pretrained model: ['classification.weight', 'classification.bias']\n",
      "I1008 21:08:02.118264 140055077836544 modeling_utils.py:408] Weights from pretrained model not used in BertForPronounResolution_Concat: ['cls.predictions.bias', 'cls.predictions.transform.dense.weight', 'cls.predictions.transform.dense.bias', 'cls.predictions.decoder.weight', 'cls.seq_relationship.weight', 'cls.seq_relationship.bias', 'cls.predictions.transform.LayerNorm.weight', 'cls.predictions.transform.LayerNorm.bias']\n"
     ]
    },
    {
     "data": {
      "text/plain": [
       "439089664"
      ]
     },
     "execution_count": 14,
     "metadata": {},
     "output_type": "execute_result"
    }
   ],
   "source": [
    "model = BertForPronounResolution_Concat.from_pretrained('bert-base-uncased')\n",
    "#model = BertForPronounResolutionMul.from_pretrained('bert-base-uncased')\n",
    "model = model.to(device)\n",
    "torch.cuda.memory_allocated(device)"
   ]
  },
  {
   "cell_type": "code",
   "execution_count": 15,
   "metadata": {
    "scrolled": false
   },
   "outputs": [
    {
     "data": {
      "application/vnd.jupyter.widget-view+json": {
       "model_id": "48f84a1114db44e282e7d3c745ab79d0",
       "version_major": 2,
       "version_minor": 0
      },
      "text/plain": [
       "HBox(children=(IntProgress(value=0, max=2), HTML(value='')))"
      ]
     },
     "metadata": {},
     "output_type": "display_data"
    },
    {
     "data": {
      "application/vnd.jupyter.widget-view+json": {
       "model_id": "046bdb3052184a15837503558a06e63e",
       "version_major": 2,
       "version_minor": 0
      },
      "text/plain": [
       "HBox(children=(IntProgress(value=0, description='batch_iterator', max=500, style=ProgressStyle(description_wid…"
      ]
     },
     "metadata": {},
     "output_type": "display_data"
    },
    {
     "name": "stdout",
     "output_type": "stream",
     "text": [
      "step = 15, loss = 1.1485895328223705\n",
      "step = 31, loss = 0.9655069299042225\n",
      "step = 47, loss = 0.9469248987734318\n",
      "step = 63, loss = 1.0834374725818634\n",
      "step = 79, loss = 0.9512680061161518\n",
      "step = 95, loss = 0.914986377581954\n",
      "step = 111, loss = 0.9080746918916702\n",
      "step = 127, loss = 0.7752458080649376\n",
      "step = 143, loss = 0.8725780099630356\n",
      "step = 159, loss = 0.7762089371681213\n",
      "step = 175, loss = 0.8876235000789165\n",
      "step = 191, loss = 0.8008579201996326\n",
      "step = 207, loss = 0.6995056588202715\n",
      "step = 223, loss = 0.7249683924019337\n",
      "step = 239, loss = 0.7509226743131876\n",
      "step = 255, loss = 0.8455681372433901\n",
      "step = 271, loss = 0.8005466796457767\n",
      "step = 287, loss = 0.8135981354862452\n",
      "step = 303, loss = 0.7824943475425243\n",
      "step = 319, loss = 0.6589502636343241\n",
      "step = 335, loss = 0.6913174111396074\n",
      "step = 351, loss = 0.7488800175487995\n",
      "step = 367, loss = 0.7973267715424299\n",
      "step = 383, loss = 0.7245789766311646\n",
      "step = 399, loss = 0.7510859575122595\n",
      "step = 415, loss = 0.7517631314694881\n",
      "step = 431, loss = 0.7851345967501402\n",
      "step = 447, loss = 0.811368640512228\n",
      "step = 463, loss = 0.608209615573287\n",
      "step = 479, loss = 0.6897346265614033\n",
      "step = 495, loss = 0.7795721609145403\n"
     ]
    },
    {
     "data": {
      "application/vnd.jupyter.widget-view+json": {
       "model_id": "cbab8b2905684cc28766a711af5167b3",
       "version_major": 2,
       "version_minor": 0
      },
      "text/plain": [
       "HBox(children=(IntProgress(value=0, max=8), HTML(value='')))"
      ]
     },
     "metadata": {},
     "output_type": "display_data"
    },
    {
     "name": "stdout",
     "output_type": "stream",
     "text": [
      "\r",
      "Epoch = 0, Val loss = 0.7746969312429428, val_acc = 0.6740088105726872\n"
     ]
    },
    {
     "data": {
      "application/vnd.jupyter.widget-view+json": {
       "model_id": "fcfce4ad5b394a40953be62d468f16de",
       "version_major": 2,
       "version_minor": 0
      },
      "text/plain": [
       "HBox(children=(IntProgress(value=0, description='batch_iterator', max=500, style=ProgressStyle(description_wid…"
      ]
     },
     "metadata": {},
     "output_type": "display_data"
    },
    {
     "name": "stdout",
     "output_type": "stream",
     "text": [
      "step = 15, loss = 0.7802764642983675\n",
      "step = 31, loss = 0.5636083036661148\n",
      "step = 47, loss = 0.5140633638948202\n",
      "step = 63, loss = 0.6108039803802967\n",
      "step = 79, loss = 0.5273195058107376\n",
      "step = 95, loss = 0.6455754078924656\n",
      "step = 111, loss = 0.535988662391901\n",
      "step = 127, loss = 0.5601743068546057\n",
      "step = 143, loss = 0.7393139312043786\n",
      "step = 159, loss = 0.4899218659847975\n",
      "step = 175, loss = 0.5093967393040657\n",
      "step = 191, loss = 0.47866042517125607\n",
      "step = 207, loss = 0.4324350506067276\n",
      "step = 223, loss = 0.4023373406380415\n",
      "step = 239, loss = 0.5818480271846056\n",
      "step = 255, loss = 0.419376777485013\n",
      "step = 271, loss = 0.4139788821339607\n",
      "step = 287, loss = 0.498704781755805\n",
      "step = 303, loss = 0.44979036785662174\n",
      "step = 319, loss = 0.3919243449345231\n",
      "step = 335, loss = 0.4841308146715164\n",
      "step = 351, loss = 0.491360186599195\n",
      "step = 367, loss = 0.4630994535982609\n",
      "step = 383, loss = 0.4671268127858639\n",
      "step = 399, loss = 0.4911157824099064\n",
      "step = 415, loss = 0.4507456822320819\n",
      "step = 431, loss = 0.4115444961935282\n",
      "step = 447, loss = 0.3828594647347927\n",
      "step = 463, loss = 0.3722565174102783\n",
      "step = 479, loss = 0.4291665982455015\n",
      "step = 495, loss = 0.4722449630498886\n"
     ]
    },
    {
     "data": {
      "application/vnd.jupyter.widget-view+json": {
       "model_id": "1d58df8c9d854a6cbe3fba112457089b",
       "version_major": 2,
       "version_minor": 0
      },
      "text/plain": [
       "HBox(children=(IntProgress(value=0, max=8), HTML(value='')))"
      ]
     },
     "metadata": {},
     "output_type": "display_data"
    },
    {
     "name": "stdout",
     "output_type": "stream",
     "text": [
      "\r",
      "Epoch = 1, Val loss = 0.6115955822169781, val_acc = 0.751101321585903\n"
     ]
    },
    {
     "data": {
      "text/plain": [
       "[<matplotlib.lines.Line2D at 0x7f604032b978>]"
      ]
     },
     "execution_count": 15,
     "metadata": {},
     "output_type": "execute_result"
    },
    {
     "data": {
      "image/png": "[encoded data removed]",
      "text/plain": [
       "<Figure size 432x288 with 1 Axes>"
      ]
     },
     "metadata": {
      "needs_background": "light"
     },
     "output_type": "display_data"
    }
   ],
   "source": [
    "losses = train(train_dataset, val_dataset, model, args)\n",
    "plt.plot(losses)"
   ]
  },
  {
   "cell_type": "markdown",
   "metadata": {},
   "source": [
    "## 2.  Mul model with random tensor"
   ]
  },
  {
   "cell_type": "code",
   "execution_count": 17,
   "metadata": {
    "collapsed": true
   },
   "outputs": [
    {
     "name": "stderr",
     "output_type": "stream",
     "text": [
      "I1008 21:30:17.400502 140055077836544 configuration_utils.py:151] loading configuration file https://s3.amazonaws.com/models.huggingface.co/bert/bert-base-uncased-config.json from cache at /home/enlr/.cache/torch/transformers/4dad0251492946e18ac39290fcfe91b89d370fee250efe9521476438fe8ca185.bf3b9ea126d8c0001ee8a1e8b92229871d06d36d8808208cc2449280da87785c\n",
      "I1008 21:30:17.401946 140055077836544 configuration_utils.py:168] Model config {\n",
      "  \"attention_probs_dropout_prob\": 0.1,\n",
      "  \"finetuning_task\": null,\n",
      "  \"hidden_act\": \"gelu\",\n",
      "  \"hidden_dropout_prob\": 0.1,\n",
      "  \"hidden_size\": 768,\n",
      "  \"initializer_range\": 0.02,\n",
      "  \"intermediate_size\": 3072,\n",
      "  \"layer_norm_eps\": 1e-12,\n",
      "  \"max_position_embeddings\": 512,\n",
      "  \"num_attention_heads\": 12,\n",
      "  \"num_hidden_layers\": 12,\n",
      "  \"num_labels\": 2,\n",
      "  \"output_attentions\": false,\n",
      "  \"output_hidden_states\": false,\n",
      "  \"pruned_heads\": {},\n",
      "  \"torchscript\": false,\n",
      "  \"type_vocab_size\": 2,\n",
      "  \"use_bfloat16\": false,\n",
      "  \"vocab_size\": 30522\n",
      "}\n",
      "\n",
      "I1008 21:30:17.593640 140055077836544 modeling_utils.py:337] loading weights file https://s3.amazonaws.com/models.huggingface.co/bert/bert-base-uncased-pytorch_model.bin from cache at /home/enlr/.cache/torch/transformers/aa1ef1aede4482d0dbcd4d52baad8ae300e60902e88fcb0bebdec09afd232066.36ca03ab34a1a5d5fa7bc3d03d55c4fa650fed07220e2eeebc06ce58d0e9a157\n",
      "I1008 21:30:20.958312 140055077836544 modeling_utils.py:405] Weights of BertForPronounResolution_Mul not initialized from pretrained model: ['neither_params']\n",
      "I1008 21:30:20.959891 140055077836544 modeling_utils.py:408] Weights from pretrained model not used in BertForPronounResolution_Mul: ['cls.predictions.bias', 'cls.predictions.transform.dense.weight', 'cls.predictions.transform.dense.bias', 'cls.predictions.decoder.weight', 'cls.seq_relationship.weight', 'cls.seq_relationship.bias', 'cls.predictions.transform.LayerNorm.weight', 'cls.predictions.transform.LayerNorm.bias']\n"
     ]
    },
    {
     "data": {
      "text/plain": [
       "451988480"
      ]
     },
     "execution_count": 17,
     "metadata": {},
     "output_type": "execute_result"
    }
   ],
   "source": [
    "model = BertForPronounResolution_Mul.from_pretrained('bert-base-uncased')\n",
    "model = model.to(device)\n",
    "torch.cuda.memory_allocated(device)"
   ]
  },
  {
   "cell_type": "code",
   "execution_count": 18,
   "metadata": {},
   "outputs": [
    {
     "data": {
      "application/vnd.jupyter.widget-view+json": {
       "model_id": "962a5e37b4b44df9a482d8c4c6921e95",
       "version_major": 2,
       "version_minor": 0
      },
      "text/plain": [
       "HBox(children=(IntProgress(value=0, max=2), HTML(value='')))"
      ]
     },
     "metadata": {},
     "output_type": "display_data"
    },
    {
     "data": {
      "application/vnd.jupyter.widget-view+json": {
       "model_id": "0576f54a48d44770a171540509c0ba04",
       "version_major": 2,
       "version_minor": 0
      },
      "text/plain": [
       "HBox(children=(IntProgress(value=0, description='batch_iterator', max=500, style=ProgressStyle(description_wid…"
      ]
     },
     "metadata": {},
     "output_type": "display_data"
    },
    {
     "name": "stdout",
     "output_type": "stream",
     "text": [
      "step = 15, loss = 1.1237005218863487\n",
      "step = 31, loss = 0.920777965337038\n",
      "step = 47, loss = 0.8826075829565525\n",
      "step = 63, loss = 0.8184746690094471\n",
      "step = 79, loss = 0.7940855547785759\n",
      "step = 95, loss = 0.6327568273991346\n",
      "step = 111, loss = 0.7751007415354252\n",
      "step = 127, loss = 0.5732534155249596\n",
      "step = 143, loss = 0.7225133664906025\n",
      "step = 159, loss = 0.4964753855019808\n",
      "step = 175, loss = 0.6715438682585955\n",
      "step = 191, loss = 0.6709572002291679\n",
      "step = 207, loss = 0.6221309211105108\n",
      "step = 223, loss = 0.5072571467608213\n",
      "step = 239, loss = 0.4861067458987236\n",
      "step = 255, loss = 0.4401726797223091\n",
      "step = 271, loss = 0.4897484555840492\n",
      "step = 287, loss = 0.3311552908271551\n",
      "step = 303, loss = 0.4447301961481571\n",
      "step = 319, loss = 0.3829392045736313\n",
      "step = 335, loss = 0.525713250041008\n",
      "step = 351, loss = 0.6564468964934349\n",
      "step = 367, loss = 0.38021850772202015\n",
      "step = 383, loss = 0.4503299258649349\n",
      "step = 399, loss = 0.33012208715081215\n",
      "step = 415, loss = 0.42606940120458603\n",
      "step = 431, loss = 0.3799739759415388\n",
      "step = 447, loss = 0.43048522248864174\n",
      "step = 463, loss = 0.27304916456341743\n",
      "step = 479, loss = 0.4511591624468565\n",
      "step = 495, loss = 0.4387901537120342\n"
     ]
    },
    {
     "data": {
      "application/vnd.jupyter.widget-view+json": {
       "model_id": "934c5e52b17346e9970b7c4432e06cf0",
       "version_major": 2,
       "version_minor": 0
      },
      "text/plain": [
       "HBox(children=(IntProgress(value=0, max=8), HTML(value='')))"
      ]
     },
     "metadata": {},
     "output_type": "display_data"
    },
    {
     "name": "stdout",
     "output_type": "stream",
     "text": [
      "\r",
      "Epoch = 0, Val loss = 0.44244087114930153, val_acc = 0.8392070484581498\n"
     ]
    },
    {
     "data": {
      "application/vnd.jupyter.widget-view+json": {
       "model_id": "e07d1b2c1a714cda9f36369cd142b4dc",
       "version_major": 2,
       "version_minor": 0
      },
      "text/plain": [
       "HBox(children=(IntProgress(value=0, description='batch_iterator', max=500, style=ProgressStyle(description_wid…"
      ]
     },
     "metadata": {},
     "output_type": "display_data"
    },
    {
     "name": "stdout",
     "output_type": "stream",
     "text": [
      "step = 15, loss = 0.4028972238302231\n",
      "step = 31, loss = 0.2863678149878979\n",
      "step = 47, loss = 0.2936580739915371\n",
      "step = 63, loss = 0.3006706051528454\n",
      "step = 79, loss = 0.24156417325139046\n",
      "step = 95, loss = 0.21456894278526306\n",
      "step = 111, loss = 0.24160129204392433\n",
      "step = 127, loss = 0.31364665925502777\n",
      "step = 143, loss = 0.30859645642340183\n",
      "step = 159, loss = 0.19833000376820564\n",
      "step = 175, loss = 0.2422710843384266\n",
      "step = 191, loss = 0.24770914018154144\n",
      "step = 207, loss = 0.2825203016400337\n",
      "step = 223, loss = 0.2604907155036926\n",
      "step = 239, loss = 0.22405599057674408\n",
      "step = 255, loss = 0.32405778393149376\n",
      "step = 271, loss = 0.3167865686118603\n",
      "step = 287, loss = 0.20104120671749115\n",
      "step = 303, loss = 0.19454556331038475\n",
      "step = 319, loss = 0.3186203334480524\n",
      "step = 335, loss = 0.2658783681690693\n",
      "step = 351, loss = 0.14997411146759987\n",
      "step = 367, loss = 0.19376012310385704\n",
      "step = 383, loss = 0.20909087732434273\n",
      "step = 399, loss = 0.3035687543451786\n",
      "step = 415, loss = 0.18859010562300682\n",
      "step = 431, loss = 0.1867472194135189\n",
      "step = 447, loss = 0.19985634461045265\n",
      "step = 463, loss = 0.23156290128827095\n",
      "step = 479, loss = 0.15111568570137024\n",
      "step = 495, loss = 0.332747507840395\n"
     ]
    },
    {
     "data": {
      "application/vnd.jupyter.widget-view+json": {
       "model_id": "c0643ea67efb4571a544f7a78f57049e",
       "version_major": 2,
       "version_minor": 0
      },
      "text/plain": [
       "HBox(children=(IntProgress(value=0, max=8), HTML(value='')))"
      ]
     },
     "metadata": {},
     "output_type": "display_data"
    },
    {
     "name": "stdout",
     "output_type": "stream",
     "text": [
      "\r",
      "Epoch = 1, Val loss = 0.4117751605808735, val_acc = 0.8568281938325991\n"
     ]
    },
    {
     "data": {
      "text/plain": [
       "[<matplotlib.lines.Line2D at 0x7f604024bda0>]"
      ]
     },
     "execution_count": 18,
     "metadata": {},
     "output_type": "execute_result"
    },
    {
     "data": {
      "image/png": "[encoded data removed]",
      "text/plain": [
       "<Figure size 432x288 with 1 Axes>"
      ]
     },
     "metadata": {
      "needs_background": "light"
     },
     "output_type": "display_data"
    }
   ],
   "source": [
    "losses = train(train_dataset, val_dataset, model, args)\n",
    "plt.plot(losses)"
   ]
  },
  {
   "cell_type": "markdown",
   "metadata": {},
   "source": [
    "## 3.Segment Id model"
   ]
  },
  {
   "cell_type": "code",
   "execution_count": 19,
   "metadata": {
    "collapsed": true
   },
   "outputs": [
    {
     "name": "stderr",
     "output_type": "stream",
     "text": [
      "I1008 21:41:05.119105 140055077836544 configuration_utils.py:151] loading configuration file https://s3.amazonaws.com/models.huggingface.co/bert/bert-base-uncased-config.json from cache at /home/enlr/.cache/torch/transformers/4dad0251492946e18ac39290fcfe91b89d370fee250efe9521476438fe8ca185.bf3b9ea126d8c0001ee8a1e8b92229871d06d36d8808208cc2449280da87785c\n",
      "I1008 21:41:05.120400 140055077836544 configuration_utils.py:168] Model config {\n",
      "  \"attention_probs_dropout_prob\": 0.1,\n",
      "  \"finetuning_task\": null,\n",
      "  \"hidden_act\": \"gelu\",\n",
      "  \"hidden_dropout_prob\": 0.1,\n",
      "  \"hidden_size\": 768,\n",
      "  \"initializer_range\": 0.02,\n",
      "  \"intermediate_size\": 3072,\n",
      "  \"layer_norm_eps\": 1e-12,\n",
      "  \"max_position_embeddings\": 512,\n",
      "  \"num_attention_heads\": 12,\n",
      "  \"num_hidden_layers\": 12,\n",
      "  \"num_labels\": 2,\n",
      "  \"output_attentions\": false,\n",
      "  \"output_hidden_states\": false,\n",
      "  \"pruned_heads\": {},\n",
      "  \"torchscript\": false,\n",
      "  \"type_vocab_size\": 2,\n",
      "  \"use_bfloat16\": false,\n",
      "  \"vocab_size\": 30522\n",
      "}\n",
      "\n",
      "I1008 21:41:05.288268 140055077836544 modeling_utils.py:337] loading weights file https://s3.amazonaws.com/models.huggingface.co/bert/bert-base-uncased-pytorch_model.bin from cache at /home/enlr/.cache/torch/transformers/aa1ef1aede4482d0dbcd4d52baad8ae300e60902e88fcb0bebdec09afd232066.36ca03ab34a1a5d5fa7bc3d03d55c4fa650fed07220e2eeebc06ce58d0e9a157\n",
      "I1008 21:41:08.494121 140055077836544 modeling_utils.py:405] Weights of BertForPronounResolution_Segment not initialized from pretrained model: ['classification.weight', 'classification.bias', 'token_type_embeddings.weight']\n",
      "I1008 21:41:08.494934 140055077836544 modeling_utils.py:408] Weights from pretrained model not used in BertForPronounResolution_Segment: ['cls.predictions.bias', 'cls.predictions.transform.dense.weight', 'cls.predictions.transform.dense.bias', 'cls.predictions.decoder.weight', 'cls.seq_relationship.weight', 'cls.seq_relationship.bias', 'cls.predictions.transform.LayerNorm.weight', 'cls.predictions.transform.LayerNorm.bias']\n"
     ]
    },
    {
     "data": {
      "text/plain": [
       "452001280"
      ]
     },
     "execution_count": 19,
     "metadata": {},
     "output_type": "execute_result"
    }
   ],
   "source": [
    "model = BertForPronounResolution_Segment.from_pretrained('bert-base-uncased')\n",
    "model.post_init()\n",
    "model = model.to(device)\n",
    "torch.cuda.memory_allocated(device)"
   ]
  },
  {
   "cell_type": "code",
   "execution_count": 20,
   "metadata": {},
   "outputs": [
    {
     "data": {
      "application/vnd.jupyter.widget-view+json": {
       "model_id": "264d018e70b3414fb2d799c341bc2a31",
       "version_major": 2,
       "version_minor": 0
      },
      "text/plain": [
       "HBox(children=(IntProgress(value=0, max=2), HTML(value='')))"
      ]
     },
     "metadata": {},
     "output_type": "display_data"
    },
    {
     "data": {
      "application/vnd.jupyter.widget-view+json": {
       "model_id": "a36c9a12375c45619fa1151c6890fcd6",
       "version_major": 2,
       "version_minor": 0
      },
      "text/plain": [
       "HBox(children=(IntProgress(value=0, description='batch_iterator', max=500, style=ProgressStyle(description_wid…"
      ]
     },
     "metadata": {},
     "output_type": "display_data"
    },
    {
     "name": "stdout",
     "output_type": "stream",
     "text": [
      "step = 15, loss = 1.192443486303091\n",
      "step = 31, loss = 1.111688058823347\n",
      "step = 47, loss = 1.1073453016579151\n",
      "step = 63, loss = 1.1092772148549557\n",
      "step = 79, loss = 1.043979711830616\n",
      "step = 95, loss = 1.0459546260535717\n",
      "step = 111, loss = 0.9978457242250443\n",
      "step = 127, loss = 1.0003958940505981\n",
      "step = 143, loss = 0.9567553885281086\n",
      "step = 159, loss = 0.9407192729413509\n",
      "step = 175, loss = 0.9791903123259544\n",
      "step = 191, loss = 0.9368719160556793\n",
      "step = 207, loss = 0.9314477033913136\n",
      "step = 223, loss = 0.9579681642353535\n",
      "step = 239, loss = 0.8496727831661701\n",
      "step = 255, loss = 1.0228974185883999\n",
      "step = 271, loss = 1.0319791845977306\n",
      "step = 287, loss = 0.8281169533729553\n",
      "step = 303, loss = 0.959046084433794\n",
      "step = 319, loss = 0.8543483428657055\n",
      "step = 335, loss = 0.9448858611285686\n",
      "step = 351, loss = 0.9603137001395226\n",
      "step = 367, loss = 0.9265043511986732\n",
      "step = 383, loss = 1.0628062300384045\n",
      "step = 399, loss = 0.9613110460340977\n",
      "step = 415, loss = 0.9757391922175884\n",
      "step = 431, loss = 0.9535913318395615\n",
      "step = 447, loss = 0.9895261339843273\n",
      "step = 463, loss = 0.8922144398093224\n",
      "step = 479, loss = 0.9107908047735691\n",
      "step = 495, loss = 0.8933064825832844\n"
     ]
    },
    {
     "data": {
      "application/vnd.jupyter.widget-view+json": {
       "model_id": "278eb9395af24448a711cdda0404d376",
       "version_major": 2,
       "version_minor": 0
      },
      "text/plain": [
       "HBox(children=(IntProgress(value=0, max=8), HTML(value='')))"
      ]
     },
     "metadata": {},
     "output_type": "display_data"
    },
    {
     "name": "stdout",
     "output_type": "stream",
     "text": [
      "\r",
      "Epoch = 0, Val loss = 1.0351071953773499, val_acc = 0.44052863436123346\n"
     ]
    },
    {
     "data": {
      "application/vnd.jupyter.widget-view+json": {
       "model_id": "1d1e8a2aaa8c4a3c8434a341e1d653a0",
       "version_major": 2,
       "version_minor": 0
      },
      "text/plain": [
       "HBox(children=(IntProgress(value=0, description='batch_iterator', max=500, style=ProgressStyle(description_wid…"
      ]
     },
     "metadata": {},
     "output_type": "display_data"
    },
    {
     "name": "stdout",
     "output_type": "stream",
     "text": [
      "step = 15, loss = 1.1524520553648472\n",
      "step = 31, loss = 0.9846697524189949\n",
      "step = 47, loss = 0.8483834937214851\n",
      "step = 63, loss = 0.8636492118239403\n",
      "step = 79, loss = 0.8503886424005032\n",
      "step = 95, loss = 0.9095340557396412\n",
      "step = 111, loss = 1.0068155974149704\n",
      "step = 127, loss = 0.9377408251166344\n",
      "step = 143, loss = 0.8824710957705975\n",
      "step = 159, loss = 0.9317584112286568\n",
      "step = 175, loss = 0.8664837293326855\n",
      "step = 191, loss = 0.987488329410553\n",
      "step = 207, loss = 0.8573356866836548\n",
      "step = 223, loss = 0.882028840482235\n",
      "step = 239, loss = 1.0146017670631409\n",
      "step = 255, loss = 0.8734716139733791\n",
      "step = 271, loss = 0.9413645528256893\n",
      "step = 287, loss = 0.9465968385338783\n",
      "step = 303, loss = 0.9594631567597389\n",
      "step = 319, loss = 0.9494119957089424\n",
      "step = 335, loss = 0.9081223756074905\n",
      "step = 351, loss = 0.885796956717968\n",
      "step = 367, loss = 0.9320777617394924\n",
      "step = 383, loss = 1.0141573175787926\n",
      "step = 399, loss = 0.9288853630423546\n",
      "step = 415, loss = 0.840219970792532\n",
      "step = 431, loss = 0.8645683974027634\n",
      "step = 447, loss = 0.8776315376162529\n",
      "step = 463, loss = 0.8423667550086975\n",
      "step = 479, loss = 1.0193711631000042\n",
      "step = 495, loss = 0.9326456747949123\n"
     ]
    },
    {
     "data": {
      "application/vnd.jupyter.widget-view+json": {
       "model_id": "d731d339ab624d6585adbe528daa72eb",
       "version_major": 2,
       "version_minor": 0
      },
      "text/plain": [
       "HBox(children=(IntProgress(value=0, max=8), HTML(value='')))"
      ]
     },
     "metadata": {},
     "output_type": "display_data"
    },
    {
     "name": "stdout",
     "output_type": "stream",
     "text": [
      "\r",
      "Epoch = 1, Val loss = 1.0187752544879913, val_acc = 0.5044052863436124\n"
     ]
    },
    {
     "data": {
      "text/plain": [
       "[<matplotlib.lines.Line2D at 0x7f60400d3cc0>]"
      ]
     },
     "execution_count": 20,
     "metadata": {},
     "output_type": "execute_result"
    },
    {
     "data": {
      "image/png": "[encoded data removed]",
      "text/plain": [
       "<Figure size 432x288 with 1 Axes>"
      ]
     },
     "metadata": {
      "needs_background": "light"
     },
     "output_type": "display_data"
    }
   ],
   "source": [
    "losses = train(train_dataset, val_dataset, model, args)\n",
    "plt.plot(losses)"
   ]
  }
 ],
 "metadata": {
  "kernelspec": {
   "display_name": "Python 3.6 - AzureML",
   "language": "python",
   "name": "python3-azureml"
  },
  "language_info": {
   "codemirror_mode": {
    "name": "ipython",
    "version": 3
   },
   "file_extension": ".py",
   "mimetype": "text/x-python",
   "name": "python",
   "nbconvert_exporter": "python",
   "pygments_lexer": "ipython3",
   "version": "3.6.8"
  }
 },
 "nbformat": 4,
 "nbformat_minor": 2
}
