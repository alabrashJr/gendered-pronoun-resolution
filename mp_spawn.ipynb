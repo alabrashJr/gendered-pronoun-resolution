{
 "cells": [
  {
   "cell_type": "code",
   "execution_count": 3,
   "metadata": {},
   "outputs": [
    {
     "data": {
      "text/plain": [
       "'Tesla K80'"
      ]
     },
     "execution_count": 3,
     "metadata": {},
     "output_type": "execute_result"
    }
   ],
   "source": [
    "import torch\n",
    "torch.cuda.get_device_name(0)"
   ]
  },
  {
   "cell_type": "markdown",
   "metadata": {},
   "source": [
    "# 2 processes 1 node\n",
    "\n",
    "GLOO"
   ]
  },
  {
   "cell_type": "code",
   "execution_count": 4,
   "metadata": {},
   "outputs": [
    {
     "name": "stdout",
     "output_type": "stream",
     "text": [
      "I1017 15:57:20.036035 140012442826496 file_utils.py:39] PyTorch version 1.2.0 available.\n",
      "I1017 15:57:20.374680 140012442826496 modeling_xlnet.py:194] Better speed can be achieved with apex installed from https://www.github.com/nvidia/apex .\n",
      "2019-10-17 15:57:20,378:INFO: hello\n",
      "2019-10-17 15:57:20,379:INFO: Namespace(backend='gloo', batch_size=4, bert_type='bert-base-uncased', epochs=1, global_rank=None, gradient_accumulation=8, is_distributed=True, local_rank=-1, lr=2e-05, master_node='localhost', master_port=12533, model_type='mul', nprocs=2, per_gpu_batch_size=32, start_rank=0, val_batch_size=64, world_size=2)\n",
      "I1017 15:57:22.514708 139795910964992 file_utils.py:39] PyTorch version 1.2.0 available.\n",
      "I1017 15:57:22.515357 140143028897536 file_utils.py:39] PyTorch version 1.2.0 available.\n",
      "I1017 15:57:22.855045 139795910964992 modeling_xlnet.py:194] Better speed can be achieved with apex installed from https://www.github.com/nvidia/apex .\n",
      "I1017 15:57:22.856311 140143028897536 modeling_xlnet.py:194] Better speed can be achieved with apex installed from https://www.github.com/nvidia/apex .\n",
      "2019-10-17 15:57:22,859:INFO: hello\n",
      "2019-10-17 15:57:22,860:INFO: inside spawn method . Rank = 1\n",
      "Ranks 1: 2019-10-17 15:57:22,860:INFO: Namespace(backend='gloo', batch_size=4, bert_type='bert-base-uncased', epochs=1, global_rank=1, gradient_accumulation=8, is_distributed=True, local_rank=1, lr=2e-05, master_node='localhost', master_port=12533, model_type='mul', nprocs=2, per_gpu_batch_size=32, start_rank=0, val_batch_size=64, world_size=2)\n",
      "Ranks 1: 2019-10-17 15:57:22,860:INFO: Setting up DDP\n",
      "2019-10-17 15:57:22,860:INFO: hello\n",
      "2019-10-17 15:57:22,861:INFO: inside spawn method . Rank = 0\n",
      "Ranks 0: 2019-10-17 15:57:22,861:INFO: Namespace(backend='gloo', batch_size=4, bert_type='bert-base-uncased', epochs=1, global_rank=0, gradient_accumulation=8, is_distributed=True, local_rank=0, lr=2e-05, master_node='localhost', master_port=12533, model_type='mul', nprocs=2, per_gpu_batch_size=32, start_rank=0, val_batch_size=64, world_size=2)\n",
      "Ranks 0: 2019-10-17 15:57:22,862:INFO: Setting up DDP\n",
      "Ranks 1: 2019-10-17 15:57:23,890:INFO: device = cuda:1\n",
      "Ranks 0: 2019-10-17 15:57:23,890:INFO: device = cuda:0\n",
      "Ranks 0: 2019-10-17 15:57:24,085:INFO: loading file https://s3.amazonaws.com/models.huggingface.co/bert/bert-base-uncased-vocab.txt from cache at /home/krishan/.cache/torch/transformers/26bc1ad6c0ac742e9b52263248f6d0f00068293b33709fae12320c0e35ccfbbb.542ce4285a40d23a559526243235df47c5f75c197f04f37d1a0c124c32c9a084\n",
      "Ranks 1: 2019-10-17 15:57:24,086:INFO: loading file https://s3.amazonaws.com/models.huggingface.co/bert/bert-base-uncased-vocab.txt from cache at /home/krishan/.cache/torch/transformers/26bc1ad6c0ac742e9b52263248f6d0f00068293b33709fae12320c0e35ccfbbb.542ce4285a40d23a559526243235df47c5f75c197f04f37d1a0c124c32c9a084\n",
      "Ranks 1: 2019-10-17 15:57:25,208:INFO: loading file https://s3.amazonaws.com/models.huggingface.co/bert/bert-base-uncased-vocab.txt from cache at /home/krishan/.cache/torch/transformers/26bc1ad6c0ac742e9b52263248f6d0f00068293b33709fae12320c0e35ccfbbb.542ce4285a40d23a559526243235df47c5f75c197f04f37d1a0c124c32c9a084\n",
      "Ranks 0: 2019-10-17 15:57:25,210:INFO: loading file https://s3.amazonaws.com/models.huggingface.co/bert/bert-base-uncased-vocab.txt from cache at /home/krishan/.cache/torch/transformers/26bc1ad6c0ac742e9b52263248f6d0f00068293b33709fae12320c0e35ccfbbb.542ce4285a40d23a559526243235df47c5f75c197f04f37d1a0c124c32c9a084\n",
      "Ranks 1: 2019-10-17 15:57:25,628:INFO: loading configuration file https://s3.amazonaws.com/models.huggingface.co/bert/bert-base-uncased-config.json from cache at /home/krishan/.cache/torch/transformers/4dad0251492946e18ac39290fcfe91b89d370fee250efe9521476438fe8ca185.bf3b9ea126d8c0001ee8a1e8b92229871d06d36d8808208cc2449280da87785c\n",
      "Ranks 1: 2019-10-17 15:57:25,628:INFO: Model config {\n",
      "  \"attention_probs_dropout_prob\": 0.1,\n",
      "  \"finetuning_task\": null,\n",
      "  \"hidden_act\": \"gelu\",\n",
      "  \"hidden_dropout_prob\": 0.1,\n",
      "  \"hidden_size\": 768,\n",
      "  \"initializer_range\": 0.02,\n",
      "  \"intermediate_size\": 3072,\n",
      "  \"layer_norm_eps\": 1e-12,\n",
      "  \"max_position_embeddings\": 512,\n",
      "  \"num_attention_heads\": 12,\n",
      "  \"num_hidden_layers\": 12,\n",
      "  \"num_labels\": 2,\n",
      "  \"output_attentions\": false,\n",
      "  \"output_hidden_states\": false,\n",
      "  \"output_past\": true,\n",
      "  \"pruned_heads\": {},\n",
      "  \"torchscript\": false,\n",
      "  \"type_vocab_size\": 2,\n",
      "  \"use_bfloat16\": false,\n",
      "  \"vocab_size\": 30522\n",
      "}\n",
      "\n",
      "Ranks 0: 2019-10-17 15:57:25,665:INFO: loading configuration file https://s3.amazonaws.com/models.huggingface.co/bert/bert-base-uncased-config.json from cache at /home/krishan/.cache/torch/transformers/4dad0251492946e18ac39290fcfe91b89d370fee250efe9521476438fe8ca185.bf3b9ea126d8c0001ee8a1e8b92229871d06d36d8808208cc2449280da87785c\n",
      "Ranks 0: 2019-10-17 15:57:25,665:INFO: Model config {\n",
      "  \"attention_probs_dropout_prob\": 0.1,\n",
      "  \"finetuning_task\": null,\n",
      "  \"hidden_act\": \"gelu\",\n",
      "  \"hidden_dropout_prob\": 0.1,\n",
      "  \"hidden_size\": 768,\n",
      "  \"initializer_range\": 0.02,\n",
      "  \"intermediate_size\": 3072,\n",
      "  \"layer_norm_eps\": 1e-12,\n",
      "  \"max_position_embeddings\": 512,\n",
      "  \"num_attention_heads\": 12,\n",
      "  \"num_hidden_layers\": 12,\n",
      "  \"num_labels\": 2,\n",
      "  \"output_attentions\": false,\n",
      "  \"output_hidden_states\": false,\n",
      "  \"output_past\": true,\n",
      "  \"pruned_heads\": {},\n",
      "  \"torchscript\": false,\n",
      "  \"type_vocab_size\": 2,\n",
      "  \"use_bfloat16\": false,\n",
      "  \"vocab_size\": 30522\n",
      "}\n",
      "\n",
      "Ranks 1: 2019-10-17 15:57:25,795:INFO: loading weights file https://s3.amazonaws.com/models.huggingface.co/bert/bert-base-uncased-pytorch_model.bin from cache at /home/krishan/.cache/torch/transformers/aa1ef1aede4482d0dbcd4d52baad8ae300e60902e88fcb0bebdec09afd232066.36ca03ab34a1a5d5fa7bc3d03d55c4fa650fed07220e2eeebc06ce58d0e9a157\n",
      "Ranks 0: 2019-10-17 15:57:25,832:INFO: loading weights file https://s3.amazonaws.com/models.huggingface.co/bert/bert-base-uncased-pytorch_model.bin from cache at /home/krishan/.cache/torch/transformers/aa1ef1aede4482d0dbcd4d52baad8ae300e60902e88fcb0bebdec09afd232066.36ca03ab34a1a5d5fa7bc3d03d55c4fa650fed07220e2eeebc06ce58d0e9a157\n",
      "Ranks 1: 2019-10-17 15:57:28,700:INFO: Weights of BertForPronounResolution_Mul not initialized from pretrained model: ['neither_params']\n",
      "Ranks 1: 2019-10-17 15:57:28,700:INFO: Weights from pretrained model not used in BertForPronounResolution_Mul: ['cls.predictions.bias', 'cls.predictions.transform.dense.weight', 'cls.predictions.transform.dense.bias', 'cls.predictions.decoder.weight', 'cls.seq_relationship.weight', 'cls.seq_relationship.bias', 'cls.predictions.transform.LayerNorm.weight', 'cls.predictions.transform.LayerNorm.bias']\n",
      "Ranks 1: 2019-10-17 15:57:28,701:INFO: Model used = <class 'BertModels.BertForPronounResolution_Mul'>\n",
      "Ranks 0: 2019-10-17 15:57:28,726:INFO: Weights of BertForPronounResolution_Mul not initialized from pretrained model: ['neither_params']\n",
      "Ranks 0: 2019-10-17 15:57:28,726:INFO: Weights from pretrained model not used in BertForPronounResolution_Mul: ['cls.predictions.bias', 'cls.predictions.transform.dense.weight', 'cls.predictions.transform.dense.bias', 'cls.predictions.decoder.weight', 'cls.seq_relationship.weight', 'cls.seq_relationship.bias', 'cls.predictions.transform.LayerNorm.weight', 'cls.predictions.transform.LayerNorm.bias']\n",
      "Ranks 0: 2019-10-17 15:57:28,727:INFO: Model used = <class 'BertModels.BertForPronounResolution_Mul'>\n",
      "Ranks 0: 2019-10-17 15:57:33,203:INFO: Training epoch 0\n",
      "Ranks 1: 2019-10-17 15:57:33,204:INFO: Training epoch 0\n",
      "batch_iterator: 100%|█████████████| 250/250 [04:16<00:00,  1.00it/s, loss=0.409]\n",
      "\n",
      "Ranks 1: 2019-10-17 16:01:50,020:INFO: Time taken for epoch 1 is = 256.81559109687805\n",
      "Ranks 0: 2019-10-17 16:01:50,020:INFO: Time taken for epoch 1 is = 256.8166801929474\n",
      "100%|█████████████████████████████████████████████| 8/8 [00:31<00:00,  3.26s/it]\n",
      "Ranks 0: 2019-10-17 16:02:21,785:INFO: Epoch = 1, Val loss = 0.4492269828915596, val_acc = 0.8458149779735683\n",
      "100%|█████████████████████████████████████████████| 8/8 [00:31<00:00,  3.28s/it]\n",
      "Ranks 1: 2019-10-17 16:02:21,949:INFO: Epoch = 1, Val loss = 0.4492269828915596, val_acc = 0.8458149779735683\n"
     ]
    }
   ],
   "source": [
    "!python TrainGAP.py --is_distributed --world_size 2 --nprocs 2"
   ]
  },
  {
   "cell_type": "markdown",
   "metadata": {},
   "source": [
    "NCCL"
   ]
  },
  {
   "cell_type": "code",
   "execution_count": 5,
   "metadata": {},
   "outputs": [
    {
     "name": "stdout",
     "output_type": "stream",
     "text": [
      "I1017 16:02:26.221965 139745846306560 file_utils.py:39] PyTorch version 1.2.0 available.\n",
      "I1017 16:02:26.563414 139745846306560 modeling_xlnet.py:194] Better speed can be achieved with apex installed from https://www.github.com/nvidia/apex .\n",
      "2019-10-17 16:02:26,567:INFO: hello\n",
      "2019-10-17 16:02:26,568:INFO: Namespace(backend='nccl', batch_size=4, bert_type='bert-base-uncased', epochs=1, global_rank=None, gradient_accumulation=8, is_distributed=True, local_rank=-1, lr=2e-05, master_node='localhost', master_port=12533, model_type='mul', nprocs=2, per_gpu_batch_size=32, start_rank=0, val_batch_size=64, world_size=2)\n",
      "I1017 16:02:28.650398 139939128715008 file_utils.py:39] PyTorch version 1.2.0 available.\n",
      "I1017 16:02:28.734429 140290181781248 file_utils.py:39] PyTorch version 1.2.0 available.\n",
      "I1017 16:02:28.993507 139939128715008 modeling_xlnet.py:194] Better speed can be achieved with apex installed from https://www.github.com/nvidia/apex .\n",
      "2019-10-17 16:02:28,997:INFO: hello\n",
      "2019-10-17 16:02:28,998:INFO: inside spawn method . Rank = 1\n",
      "Ranks 1: 2019-10-17 16:02:28,998:INFO: Namespace(backend='nccl', batch_size=4, bert_type='bert-base-uncased', epochs=1, global_rank=1, gradient_accumulation=8, is_distributed=True, local_rank=1, lr=2e-05, master_node='localhost', master_port=12533, model_type='mul', nprocs=2, per_gpu_batch_size=32, start_rank=0, val_batch_size=64, world_size=2)\n",
      "Ranks 1: 2019-10-17 16:02:28,998:INFO: Setting up DDP\n",
      "I1017 16:02:29.074079 140290181781248 modeling_xlnet.py:194] Better speed can be achieved with apex installed from https://www.github.com/nvidia/apex .\n",
      "2019-10-17 16:02:29,078:INFO: hello\n",
      "2019-10-17 16:02:29,079:INFO: inside spawn method . Rank = 0\n",
      "Ranks 0: 2019-10-17 16:02:29,079:INFO: Namespace(backend='nccl', batch_size=4, bert_type='bert-base-uncased', epochs=1, global_rank=0, gradient_accumulation=8, is_distributed=True, local_rank=0, lr=2e-05, master_node='localhost', master_port=12533, model_type='mul', nprocs=2, per_gpu_batch_size=32, start_rank=0, val_batch_size=64, world_size=2)\n",
      "Ranks 0: 2019-10-17 16:02:29,079:INFO: Setting up DDP\n",
      "Ranks 1: 2019-10-17 16:02:30,002:INFO: device = cuda:1\n",
      "Ranks 0: 2019-10-17 16:02:30,007:INFO: device = cuda:0\n",
      "Ranks 0: 2019-10-17 16:02:30,203:INFO: loading file https://s3.amazonaws.com/models.huggingface.co/bert/bert-base-uncased-vocab.txt from cache at /home/krishan/.cache/torch/transformers/26bc1ad6c0ac742e9b52263248f6d0f00068293b33709fae12320c0e35ccfbbb.542ce4285a40d23a559526243235df47c5f75c197f04f37d1a0c124c32c9a084\n",
      "Ranks 1: 2019-10-17 16:02:30,208:INFO: loading file https://s3.amazonaws.com/models.huggingface.co/bert/bert-base-uncased-vocab.txt from cache at /home/krishan/.cache/torch/transformers/26bc1ad6c0ac742e9b52263248f6d0f00068293b33709fae12320c0e35ccfbbb.542ce4285a40d23a559526243235df47c5f75c197f04f37d1a0c124c32c9a084\n",
      "Ranks 1: 2019-10-17 16:02:31,320:INFO: loading file https://s3.amazonaws.com/models.huggingface.co/bert/bert-base-uncased-vocab.txt from cache at /home/krishan/.cache/torch/transformers/26bc1ad6c0ac742e9b52263248f6d0f00068293b33709fae12320c0e35ccfbbb.542ce4285a40d23a559526243235df47c5f75c197f04f37d1a0c124c32c9a084\n",
      "Ranks 0: 2019-10-17 16:02:31,328:INFO: loading file https://s3.amazonaws.com/models.huggingface.co/bert/bert-base-uncased-vocab.txt from cache at /home/krishan/.cache/torch/transformers/26bc1ad6c0ac742e9b52263248f6d0f00068293b33709fae12320c0e35ccfbbb.542ce4285a40d23a559526243235df47c5f75c197f04f37d1a0c124c32c9a084\n",
      "Ranks 1: 2019-10-17 16:02:31,724:INFO: loading configuration file https://s3.amazonaws.com/models.huggingface.co/bert/bert-base-uncased-config.json from cache at /home/krishan/.cache/torch/transformers/4dad0251492946e18ac39290fcfe91b89d370fee250efe9521476438fe8ca185.bf3b9ea126d8c0001ee8a1e8b92229871d06d36d8808208cc2449280da87785c\n",
      "Ranks 1: 2019-10-17 16:02:31,725:INFO: Model config {\n",
      "  \"attention_probs_dropout_prob\": 0.1,\n",
      "  \"finetuning_task\": null,\n",
      "  \"hidden_act\": \"gelu\",\n",
      "  \"hidden_dropout_prob\": 0.1,\n",
      "  \"hidden_size\": 768,\n",
      "  \"initializer_range\": 0.02,\n",
      "  \"intermediate_size\": 3072,\n",
      "  \"layer_norm_eps\": 1e-12,\n",
      "  \"max_position_embeddings\": 512,\n",
      "  \"num_attention_heads\": 12,\n",
      "  \"num_hidden_layers\": 12,\n",
      "  \"num_labels\": 2,\n",
      "  \"output_attentions\": false,\n",
      "  \"output_hidden_states\": false,\n",
      "  \"output_past\": true,\n",
      "  \"pruned_heads\": {},\n",
      "  \"torchscript\": false,\n",
      "  \"type_vocab_size\": 2,\n",
      "  \"use_bfloat16\": false,\n",
      "  \"vocab_size\": 30522\n",
      "}\n",
      "\n",
      "Ranks 0: 2019-10-17 16:02:31,742:INFO: loading configuration file https://s3.amazonaws.com/models.huggingface.co/bert/bert-base-uncased-config.json from cache at /home/krishan/.cache/torch/transformers/4dad0251492946e18ac39290fcfe91b89d370fee250efe9521476438fe8ca185.bf3b9ea126d8c0001ee8a1e8b92229871d06d36d8808208cc2449280da87785c\n",
      "Ranks 0: 2019-10-17 16:02:31,742:INFO: Model config {\n",
      "  \"attention_probs_dropout_prob\": 0.1,\n",
      "  \"finetuning_task\": null,\n",
      "  \"hidden_act\": \"gelu\",\n",
      "  \"hidden_dropout_prob\": 0.1,\n",
      "  \"hidden_size\": 768,\n",
      "  \"initializer_range\": 0.02,\n",
      "  \"intermediate_size\": 3072,\n",
      "  \"layer_norm_eps\": 1e-12,\n",
      "  \"max_position_embeddings\": 512,\n",
      "  \"num_attention_heads\": 12,\n",
      "  \"num_hidden_layers\": 12,\n",
      "  \"num_labels\": 2,\n",
      "  \"output_attentions\": false,\n",
      "  \"output_hidden_states\": false,\n",
      "  \"output_past\": true,\n",
      "  \"pruned_heads\": {},\n",
      "  \"torchscript\": false,\n",
      "  \"type_vocab_size\": 2,\n",
      "  \"use_bfloat16\": false,\n",
      "  \"vocab_size\": 30522\n",
      "}\n",
      "\n",
      "Ranks 1: 2019-10-17 16:02:31,894:INFO: loading weights file https://s3.amazonaws.com/models.huggingface.co/bert/bert-base-uncased-pytorch_model.bin from cache at /home/krishan/.cache/torch/transformers/aa1ef1aede4482d0dbcd4d52baad8ae300e60902e88fcb0bebdec09afd232066.36ca03ab34a1a5d5fa7bc3d03d55c4fa650fed07220e2eeebc06ce58d0e9a157\n",
      "Ranks 0: 2019-10-17 16:02:31,970:INFO: loading weights file https://s3.amazonaws.com/models.huggingface.co/bert/bert-base-uncased-pytorch_model.bin from cache at /home/krishan/.cache/torch/transformers/aa1ef1aede4482d0dbcd4d52baad8ae300e60902e88fcb0bebdec09afd232066.36ca03ab34a1a5d5fa7bc3d03d55c4fa650fed07220e2eeebc06ce58d0e9a157\n",
      "Ranks 1: 2019-10-17 16:02:34,831:INFO: Weights of BertForPronounResolution_Mul not initialized from pretrained model: ['neither_params']\n",
      "Ranks 1: 2019-10-17 16:02:34,831:INFO: Weights from pretrained model not used in BertForPronounResolution_Mul: ['cls.predictions.bias', 'cls.predictions.transform.dense.weight', 'cls.predictions.transform.dense.bias', 'cls.predictions.decoder.weight', 'cls.seq_relationship.weight', 'cls.seq_relationship.bias', 'cls.predictions.transform.LayerNorm.weight', 'cls.predictions.transform.LayerNorm.bias']\n",
      "Ranks 1: 2019-10-17 16:02:34,832:INFO: Model used = <class 'BertModels.BertForPronounResolution_Mul'>\n",
      "Ranks 0: 2019-10-17 16:02:34,894:INFO: Weights of BertForPronounResolution_Mul not initialized from pretrained model: ['neither_params']\n",
      "Ranks 0: 2019-10-17 16:02:34,894:INFO: Weights from pretrained model not used in BertForPronounResolution_Mul: ['cls.predictions.bias', 'cls.predictions.transform.dense.weight', 'cls.predictions.transform.dense.bias', 'cls.predictions.decoder.weight', 'cls.seq_relationship.weight', 'cls.seq_relationship.bias', 'cls.predictions.transform.LayerNorm.weight', 'cls.predictions.transform.LayerNorm.bias']\n",
      "Ranks 0: 2019-10-17 16:02:34,895:INFO: Model used = <class 'BertModels.BertForPronounResolution_Mul'>\n",
      "Ranks 0: 2019-10-17 16:02:37,193:INFO: Training epoch 0\n",
      "Ranks 1: 2019-10-17 16:02:37,194:INFO: Training epoch 0\n",
      "batch_iterator: 100%|█████████████| 250/250 [03:32<00:00,  1.17it/s, loss=0.409]\n",
      "\n",
      "Ranks 1: 2019-10-17 16:06:09,937:INFO: Time taken for epoch 1 is = 212.74338722229004\n",
      "Ranks 0: 2019-10-17 16:06:09,937:INFO: Time taken for epoch 1 is = 212.74410271644592\n",
      "100%|█████████████████████████████████████████████| 8/8 [00:31<00:00,  3.26s/it]\n",
      "Ranks 0: 2019-10-17 16:06:41,691:INFO: Epoch = 1, Val loss = 0.4492269828915596, val_acc = 0.8458149779735683\n",
      "100%|█████████████████████████████████████████████| 8/8 [00:31<00:00,  3.28s/it]\n",
      "Ranks 1: 2019-10-17 16:06:41,935:INFO: Epoch = 1, Val loss = 0.4492269828915596, val_acc = 0.8458149779735683\n"
     ]
    }
   ],
   "source": [
    "!python TrainGAP.py --is_distributed --world_size 2 --nprocs 2 --backend nccl"
   ]
  },
  {
   "cell_type": "code",
   "execution_count": null,
   "metadata": {},
   "outputs": [],
   "source": []
  }
 ],
 "metadata": {
  "kernelspec": {
   "display_name": "Python 3.6 - AzureML",
   "language": "python",
   "name": "python3-azureml"
  },
  "language_info": {
   "codemirror_mode": {
    "name": "ipython",
    "version": 3
   },
   "file_extension": ".py",
   "mimetype": "text/x-python",
   "name": "python",
   "nbconvert_exporter": "python",
   "pygments_lexer": "ipython3",
   "version": "3.6.8"
  }
 },
 "nbformat": 4,
 "nbformat_minor": 2
}
