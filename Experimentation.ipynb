{
 "cells": [
  {
   "cell_type": "markdown",
   "metadata": {},
   "source": [
    "# Dependency download"
   ]
  },
  {
   "cell_type": "code",
   "execution_count": 6,
   "metadata": {},
   "outputs": [],
   "source": [
    "#!git clone https://github.com/google-research-datasets/gap-coreference.git\n",
    "#!pip install transformers"
   ]
  },
  {
   "cell_type": "markdown",
   "metadata": {},
   "source": [
    "# Data Preprocessing"
   ]
  },
  {
   "cell_type": "code",
   "execution_count": 7,
   "metadata": {},
   "outputs": [
    {
     "name": "stdout",
     "output_type": "stream",
     "text": [
      "I1011 15:57:09.874114 139820031346432 file_utils.py:39] PyTorch version 1.1.0 available.\n",
      "I1011 15:57:10.127338 139820031346432 modeling_xlnet.py:194] Better speed can be achieved with apex installed from https://www.github.com/nvidia/apex .\n",
      "I1011 15:57:10.189794 139820031346432 tokenization_utils.py:374] loading file https://s3.amazonaws.com/models.huggingface.co/bert/bert-base-uncased-vocab.txt from cache at /home/krishan/.cache/torch/transformers/26bc1ad6c0ac742e9b52263248f6d0f00068293b33709fae12320c0e35ccfbbb.542ce4285a40d23a559526243235df47c5f75c197f04f37d1a0c124c32c9a084\n",
      "['AnalyzeGapProcessedData.ipynb', 'readme.md', 'train_processed.pkl', '.git', 'arguments.py', 'BertModels.py', '__pycache__', 'PreprocessGapData.py', '.ipynb_checkpoints', 'old_notebooks', 'val_processed.tsv', 'Experimentation.ipynb', 'gap-coreference', 'val_processed.pkl', 'TrainGAP.py', 'train_processed.tsv']\n",
      "Processing validation data\n",
      "100%|██████████████████████████████████████| 2000/2000 [00:10<00:00, 191.43it/s]\n",
      "Processing training data\n",
      "100%|██████████████████████████████████████| 2000/2000 [00:10<00:00, 191.33it/s]\n",
      "['AnalyzeGapProcessedData.ipynb', 'readme.md', 'train_processed.pkl', '.git', 'arguments.py', 'BertModels.py', '__pycache__', 'PreprocessGapData.py', '.ipynb_checkpoints', 'old_notebooks', 'val_processed.tsv', 'Experimentation.ipynb', 'gap-coreference', 'val_processed.pkl', 'TrainGAP.py', 'train_processed.tsv']\n",
      "                                               input      ...              pab_pos\n",
      "0  [zoe, tel, ##ford, -, -, played, the, police, ...      ...         [61, 41, 44]\n",
      "1  [he, grew, up, in, evans, ##ton, ,, illinois, ...      ...         [60, 50, 53]\n",
      "2  [he, had, been, reelected, to, congress, ,, bu...      ...         [62, 40, 56]\n",
      "3  [the, current, members, of, crime, have, also,...      ...         [66, 35, 70]\n",
      "4  [her, santa, fe, opera, debut, in, 2005, was, ...      ...        [104, 53, 71]\n",
      "\n",
      "[5 rows x 3 columns]\n"
     ]
    }
   ],
   "source": [
    "!python PreprocessGapData.py"
   ]
  },
  {
   "cell_type": "markdown",
   "metadata": {},
   "source": [
    "# Single GPU with default configuration"
   ]
  },
  {
   "cell_type": "code",
   "execution_count": 5,
   "metadata": {
    "scrolled": false
   },
   "outputs": [
    {
     "name": "stdout",
     "output_type": "stream",
     "text": [
      "I1011 16:21:39.088950 140479696512768 file_utils.py:39] PyTorch version 1.1.0 available.\n",
      "I1011 16:21:39.396778 140479696512768 modeling_xlnet.py:194] Better speed can be achieved with apex installed from https://www.github.com/nvidia/apex .\n",
      "Namespace(batch_size=4, bert_type='bert-base-uncased', epochs=1, gradient_accumulation=8, lr=2e-05, model_type='mul', per_gpu_batch_size=32, val_batch_size=64)\n",
      "I1011 16:21:39.462939 140479696512768 tokenization_utils.py:374] loading file https://s3.amazonaws.com/models.huggingface.co/bert/bert-base-uncased-vocab.txt from cache at /home/krishan/.cache/torch/transformers/26bc1ad6c0ac742e9b52263248f6d0f00068293b33709fae12320c0e35ccfbbb.542ce4285a40d23a559526243235df47c5f75c197f04f37d1a0c124c32c9a084\n",
      "torch.Size([2000, 512]) torch.Size([2000, 512]) torch.Size([2000, 3]) torch.Size([2000])\n",
      "torch.Size([2000, 512]) torch.Size([2000, 512]) torch.Size([2000, 3]) torch.Size([2000])\n",
      "I1011 16:21:41.373904 140479696512768 configuration_utils.py:151] loading configuration file https://s3.amazonaws.com/models.huggingface.co/bert/bert-base-uncased-config.json from cache at /home/krishan/.cache/torch/transformers/4dad0251492946e18ac39290fcfe91b89d370fee250efe9521476438fe8ca185.bf3b9ea126d8c0001ee8a1e8b92229871d06d36d8808208cc2449280da87785c\n",
      "I1011 16:21:41.374515 140479696512768 configuration_utils.py:168] Model config {\n",
      "  \"attention_probs_dropout_prob\": 0.1,\n",
      "  \"finetuning_task\": null,\n",
      "  \"hidden_act\": \"gelu\",\n",
      "  \"hidden_dropout_prob\": 0.1,\n",
      "  \"hidden_size\": 768,\n",
      "  \"initializer_range\": 0.02,\n",
      "  \"intermediate_size\": 3072,\n",
      "  \"layer_norm_eps\": 1e-12,\n",
      "  \"max_position_embeddings\": 512,\n",
      "  \"num_attention_heads\": 12,\n",
      "  \"num_hidden_layers\": 12,\n",
      "  \"num_labels\": 2,\n",
      "  \"output_attentions\": false,\n",
      "  \"output_hidden_states\": false,\n",
      "  \"output_past\": true,\n",
      "  \"pruned_heads\": {},\n",
      "  \"torchscript\": false,\n",
      "  \"type_vocab_size\": 2,\n",
      "  \"use_bfloat16\": false,\n",
      "  \"vocab_size\": 30522\n",
      "}\n",
      "\n",
      "I1011 16:21:41.430163 140479696512768 modeling_utils.py:337] loading weights file https://s3.amazonaws.com/models.huggingface.co/bert/bert-base-uncased-pytorch_model.bin from cache at /home/krishan/.cache/torch/transformers/aa1ef1aede4482d0dbcd4d52baad8ae300e60902e88fcb0bebdec09afd232066.36ca03ab34a1a5d5fa7bc3d03d55c4fa650fed07220e2eeebc06ce58d0e9a157\n",
      "I1011 16:21:44.858625 140479696512768 modeling_utils.py:405] Weights of BertForPronounResolution_Mul not initialized from pretrained model: ['neither_params']\n",
      "I1011 16:21:44.858977 140479696512768 modeling_utils.py:408] Weights from pretrained model not used in BertForPronounResolution_Mul: ['cls.predictions.bias', 'cls.predictions.transform.dense.weight', 'cls.predictions.transform.dense.bias', 'cls.predictions.decoder.weight', 'cls.seq_relationship.weight', 'cls.seq_relationship.bias', 'cls.predictions.transform.LayerNorm.weight', 'cls.predictions.transform.LayerNorm.bias']\n",
      "Model used = <class 'BertModels.BertForPronounResolution_Mul'>\n",
      "\n",
      "  0%|                                                     | 0/1 [00:00<?, ?it/s]\u001b[ATraining epoch 0\n",
      "batch_iterator: 100%|█████████████| 500/500 [04:51<00:00,  1.71it/s, loss=0.305]Evaluating for epoch 0\n",
      "100%|███████████████████████████████████████████| 32/32 [01:49<00:00,  2.71s/it]\n",
      "\u001b[AEpoch = 0, Val loss = 0.16755544440820813, val_acc = 0.9535                  \n",
      "\n",
      "  0%|                                                     | 0/1 [06:41<?, ?it/s]\u001b[A\n",
      "100%|████████████████████████████████████████████| 1/1 [06:41<00:00, 401.54s/it]\u001b[A"
     ]
    }
   ],
   "source": [
    "!python TrainGAP.py"
   ]
  },
  {
   "cell_type": "code",
   "execution_count": 2,
   "metadata": {},
   "outputs": [],
   "source": [
    "import torch"
   ]
  },
  {
   "cell_type": "code",
   "execution_count": 3,
   "metadata": {},
   "outputs": [
    {
     "data": {
      "text/plain": [
       "0"
      ]
     },
     "execution_count": 3,
     "metadata": {},
     "output_type": "execute_result"
    }
   ],
   "source": [
    "torch.cuda.memory_allocated()"
   ]
  },
  {
   "cell_type": "code",
   "execution_count": null,
   "metadata": {},
   "outputs": [],
   "source": []
  }
 ],
 "metadata": {
  "kernelspec": {
   "display_name": "Python 3.6 - AzureML",
   "language": "python",
   "name": "python3-azureml"
  },
  "language_info": {
   "codemirror_mode": {
    "name": "ipython",
    "version": 3
   },
   "file_extension": ".py",
   "mimetype": "text/x-python",
   "name": "python",
   "nbconvert_exporter": "python",
   "pygments_lexer": "ipython3",
   "version": "3.6.8"
  }
 },
 "nbformat": 4,
 "nbformat_minor": 2
}
