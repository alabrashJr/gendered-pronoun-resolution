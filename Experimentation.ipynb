{
 "cells": [
  {
   "cell_type": "markdown",
   "metadata": {},
   "source": [
    "# Dependency download"
   ]
  },
  {
   "cell_type": "code",
   "execution_count": 18,
   "metadata": {},
   "outputs": [],
   "source": [
    "#!git clone https://github.com/google-research-datasets/gap-coreference.git\n",
    "#!pip install transformers"
   ]
  },
  {
   "cell_type": "markdown",
   "metadata": {},
   "source": [
    "# Data Preprocessing"
   ]
  },
  {
   "cell_type": "code",
   "execution_count": 19,
   "metadata": {},
   "outputs": [
    {
     "name": "stdout",
     "output_type": "stream",
     "text": [
      "I1012 16:13:34.291256 140483938023168 file_utils.py:39] PyTorch version 1.1.0 available.\n",
      "I1012 16:13:34.541085 140483938023168 modeling_xlnet.py:194] Better speed can be achieved with apex installed from https://www.github.com/nvidia/apex .\n",
      "I1012 16:13:34.675755 140483938023168 tokenization_utils.py:374] loading file https://s3.amazonaws.com/models.huggingface.co/bert/bert-base-uncased-vocab.txt from cache at /home/krishan/.cache/torch/transformers/26bc1ad6c0ac742e9b52263248f6d0f00068293b33709fae12320c0e35ccfbbb.542ce4285a40d23a559526243235df47c5f75c197f04f37d1a0c124c32c9a084\n",
      "['AnalyzeGapProcessedData.ipynb', 'readme.md', 'train_processed.pkl', '.git', 'arguments.py', 'BertModels.py', '__pycache__', 'MultiProcess.ipynb', 'PreprocessGapData.py', '.ipynb_checkpoints', 'old_notebooks', 'val_processed.tsv', 'Experimentation.ipynb', 'gap-coreference', 'val_processed.pkl', 'TrainGAP.py', 'train_processed.tsv']\n",
      "Processing validation data\n",
      "100%|██████████████████████████████████████| 2000/2000 [00:10<00:00, 198.11it/s]\n",
      "Processing training data\n",
      "100%|██████████████████████████████████████| 2000/2000 [00:09<00:00, 200.68it/s]\n",
      "['AnalyzeGapProcessedData.ipynb', 'readme.md', 'train_processed.pkl', '.git', 'arguments.py', 'BertModels.py', '__pycache__', 'MultiProcess.ipynb', 'PreprocessGapData.py', '.ipynb_checkpoints', 'old_notebooks', 'val_processed.tsv', 'Experimentation.ipynb', 'gap-coreference', 'val_processed.pkl', 'TrainGAP.py', 'train_processed.tsv']\n",
      "                                               input      ...              pab_pos\n",
      "0  [zoe, tel, ##ford, -, -, played, the, police, ...      ...         [61, 41, 44]\n",
      "1  [he, grew, up, in, evans, ##ton, ,, illinois, ...      ...         [60, 50, 53]\n",
      "2  [he, had, been, reelected, to, congress, ,, bu...      ...         [62, 40, 56]\n",
      "3  [the, current, members, of, crime, have, also,...      ...         [66, 35, 70]\n",
      "4  [her, santa, fe, opera, debut, in, 2005, was, ...      ...        [104, 53, 71]\n",
      "\n",
      "[5 rows x 3 columns]\n"
     ]
    }
   ],
   "source": [
    "!python PreprocessGapData.py"
   ]
  },
  {
   "cell_type": "markdown",
   "metadata": {},
   "source": [
    "# Single GPU with default configuration"
   ]
  },
  {
   "cell_type": "code",
   "execution_count": 23,
   "metadata": {
    "scrolled": false
   },
   "outputs": [
    {
     "name": "stdout",
     "output_type": "stream",
     "text": [
      "I1012 16:22:02.967836 140655016396544 file_utils.py:39] PyTorch version 1.1.0 available.\n",
      "I1012 16:22:03.277183 140655016396544 modeling_xlnet.py:194] Better speed can be achieved with apex installed from https://www.github.com/nvidia/apex .\n",
      "Namespace(batch_size=4, bert_type='bert-base-uncased', epochs=1, gradient_accumulation=8, lr=2e-05, model_type='mul', per_gpu_batch_size=32, val_batch_size=64)\n",
      "I1012 16:22:03.384905 140655016396544 tokenization_utils.py:374] loading file https://s3.amazonaws.com/models.huggingface.co/bert/bert-base-uncased-vocab.txt from cache at /home/krishan/.cache/torch/transformers/26bc1ad6c0ac742e9b52263248f6d0f00068293b33709fae12320c0e35ccfbbb.542ce4285a40d23a559526243235df47c5f75c197f04f37d1a0c124c32c9a084\n",
      "I1012 16:22:05.312605 140655016396544 configuration_utils.py:151] loading configuration file https://s3.amazonaws.com/models.huggingface.co/bert/bert-base-uncased-config.json from cache at /home/krishan/.cache/torch/transformers/4dad0251492946e18ac39290fcfe91b89d370fee250efe9521476438fe8ca185.bf3b9ea126d8c0001ee8a1e8b92229871d06d36d8808208cc2449280da87785c\n",
      "I1012 16:22:05.313126 140655016396544 configuration_utils.py:168] Model config {\n",
      "  \"attention_probs_dropout_prob\": 0.1,\n",
      "  \"finetuning_task\": null,\n",
      "  \"hidden_act\": \"gelu\",\n",
      "  \"hidden_dropout_prob\": 0.1,\n",
      "  \"hidden_size\": 768,\n",
      "  \"initializer_range\": 0.02,\n",
      "  \"intermediate_size\": 3072,\n",
      "  \"layer_norm_eps\": 1e-12,\n",
      "  \"max_position_embeddings\": 512,\n",
      "  \"num_attention_heads\": 12,\n",
      "  \"num_hidden_layers\": 12,\n",
      "  \"num_labels\": 2,\n",
      "  \"output_attentions\": false,\n",
      "  \"output_hidden_states\": false,\n",
      "  \"output_past\": true,\n",
      "  \"pruned_heads\": {},\n",
      "  \"torchscript\": false,\n",
      "  \"type_vocab_size\": 2,\n",
      "  \"use_bfloat16\": false,\n",
      "  \"vocab_size\": 30522\n",
      "}\n",
      "\n",
      "I1012 16:22:05.357108 140655016396544 modeling_utils.py:337] loading weights file https://s3.amazonaws.com/models.huggingface.co/bert/bert-base-uncased-pytorch_model.bin from cache at /home/krishan/.cache/torch/transformers/aa1ef1aede4482d0dbcd4d52baad8ae300e60902e88fcb0bebdec09afd232066.36ca03ab34a1a5d5fa7bc3d03d55c4fa650fed07220e2eeebc06ce58d0e9a157\n",
      "I1012 16:22:08.652290 140655016396544 modeling_utils.py:405] Weights of BertForPronounResolution_Mul not initialized from pretrained model: ['neither_params']\n",
      "I1012 16:22:08.652604 140655016396544 modeling_utils.py:408] Weights from pretrained model not used in BertForPronounResolution_Mul: ['cls.predictions.bias', 'cls.predictions.transform.dense.weight', 'cls.predictions.transform.dense.bias', 'cls.predictions.decoder.weight', 'cls.seq_relationship.weight', 'cls.seq_relationship.bias', 'cls.predictions.transform.LayerNorm.weight', 'cls.predictions.transform.LayerNorm.bias']\n",
      "Model used = <class 'BertModels.BertForPronounResolution_Mul'>\n",
      "\n",
      "  0%|                                                     | 0/1 [00:00<?, ?it/s]\u001b[ATraining epoch 0\n",
      "batch_iterator: 100%|█████████████| 500/500 [04:54<00:00,  1.68it/s, loss=0.398]Evaluating for epoch 1\n",
      "100%|███████████████████████████████████████████| 32/32 [01:50<00:00,  2.72s/it]\n",
      "\u001b[AEpoch = 1, Val loss = 0.1720374538563192, val_acc = 0.952                    \n",
      "\n",
      "  0%|                                                     | 0/1 [06:45<?, ?it/s]\u001b[A\n",
      "100%|████████████████████████████████████████████| 1/1 [06:45<00:00, 405.43s/it]\u001b[A"
     ]
    }
   ],
   "source": [
    "!python TrainGAP.py"
   ]
  },
  {
   "cell_type": "code",
   "execution_count": null,
   "metadata": {},
   "outputs": [
    {
     "name": "stdout",
     "output_type": "stream",
     "text": [
      "I1012 16:45:01.991198 140473180251904 file_utils.py:39] PyTorch version 1.1.0 available.\n",
      "I1012 16:45:02.285736 140473180251904 modeling_xlnet.py:194] Better speed can be achieved with apex installed from https://www.github.com/nvidia/apex .\n",
      "Namespace(batch_size=4, bert_type='bert-base-uncased', epochs=1, gradient_accumulation=8, lr=2e-05, model_type='concat', per_gpu_batch_size=32, val_batch_size=64)\n",
      "Starting single GPU/CPU training\n",
      "I1012 16:45:02.459559 140473180251904 tokenization_utils.py:374] loading file https://s3.amazonaws.com/models.huggingface.co/bert/bert-base-uncased-vocab.txt from cache at /home/krishan/.cache/torch/transformers/26bc1ad6c0ac742e9b52263248f6d0f00068293b33709fae12320c0e35ccfbbb.542ce4285a40d23a559526243235df47c5f75c197f04f37d1a0c124c32c9a084\n",
      "I1012 16:45:03.449972 140473180251904 tokenization_utils.py:374] loading file https://s3.amazonaws.com/models.huggingface.co/bert/bert-base-uncased-vocab.txt from cache at /home/krishan/.cache/torch/transformers/26bc1ad6c0ac742e9b52263248f6d0f00068293b33709fae12320c0e35ccfbbb.542ce4285a40d23a559526243235df47c5f75c197f04f37d1a0c124c32c9a084\n",
      "I1012 16:45:04.426592 140473180251904 configuration_utils.py:151] loading configuration file https://s3.amazonaws.com/models.huggingface.co/bert/bert-base-uncased-config.json from cache at /home/krishan/.cache/torch/transformers/4dad0251492946e18ac39290fcfe91b89d370fee250efe9521476438fe8ca185.bf3b9ea126d8c0001ee8a1e8b92229871d06d36d8808208cc2449280da87785c\n",
      "I1012 16:45:04.427221 140473180251904 configuration_utils.py:168] Model config {\n",
      "  \"attention_probs_dropout_prob\": 0.1,\n",
      "  \"finetuning_task\": null,\n",
      "  \"hidden_act\": \"gelu\",\n",
      "  \"hidden_dropout_prob\": 0.1,\n",
      "  \"hidden_size\": 768,\n",
      "  \"initializer_range\": 0.02,\n",
      "  \"intermediate_size\": 3072,\n",
      "  \"layer_norm_eps\": 1e-12,\n",
      "  \"max_position_embeddings\": 512,\n",
      "  \"num_attention_heads\": 12,\n",
      "  \"num_hidden_layers\": 12,\n",
      "  \"num_labels\": 2,\n",
      "  \"output_attentions\": false,\n",
      "  \"output_hidden_states\": false,\n",
      "  \"output_past\": true,\n",
      "  \"pruned_heads\": {},\n",
      "  \"torchscript\": false,\n",
      "  \"type_vocab_size\": 2,\n",
      "  \"use_bfloat16\": false,\n",
      "  \"vocab_size\": 30522\n",
      "}\n",
      "\n",
      "I1012 16:45:04.474125 140473180251904 modeling_utils.py:337] loading weights file https://s3.amazonaws.com/models.huggingface.co/bert/bert-base-uncased-pytorch_model.bin from cache at /home/krishan/.cache/torch/transformers/aa1ef1aede4482d0dbcd4d52baad8ae300e60902e88fcb0bebdec09afd232066.36ca03ab34a1a5d5fa7bc3d03d55c4fa650fed07220e2eeebc06ce58d0e9a157\n",
      "I1012 16:45:07.783497 140473180251904 modeling_utils.py:405] Weights of BertForPronounResolution_Concat not initialized from pretrained model: ['classification.weight', 'classification.bias']\n",
      "I1012 16:45:07.783810 140473180251904 modeling_utils.py:408] Weights from pretrained model not used in BertForPronounResolution_Concat: ['cls.predictions.bias', 'cls.predictions.transform.dense.weight', 'cls.predictions.transform.dense.bias', 'cls.predictions.decoder.weight', 'cls.seq_relationship.weight', 'cls.seq_relationship.bias', 'cls.predictions.transform.LayerNorm.weight', 'cls.predictions.transform.LayerNorm.bias']\n",
      "Model used = <class 'BertModels.BertForPronounResolution_Concat'>\n",
      "\n",
      "  0%|                                                     | 0/1 [00:00<?, ?it/s]\u001b[ATraining epoch 0\n",
      "batch_iterator: 100%|█████████████| 500/500 [04:55<00:00,  1.69it/s, loss=0.561]Evaluating for epoch 1\n",
      " 47%|████████████████████▏                      | 15/32 [00:53<01:00,  3.54s/it]"
     ]
    }
   ],
   "source": [
    "!python TrainGAP.py --model_type concat"
   ]
  },
  {
   "cell_type": "code",
   "execution_count": 29,
   "metadata": {
    "scrolled": false
   },
   "outputs": [
    {
     "name": "stdout",
     "output_type": "stream",
     "text": [
      "I1012 16:33:41.819625 139890920048384 file_utils.py:39] PyTorch version 1.1.0 available.\n",
      "I1012 16:33:42.112589 139890920048384 modeling_xlnet.py:194] Better speed can be achieved with apex installed from https://www.github.com/nvidia/apex .\n",
      "Namespace(batch_size=4, bert_type='bert-base-uncased', epochs=1, gradient_accumulation=8, lr=2e-05, model_type='segment', per_gpu_batch_size=32, val_batch_size=64)\n",
      "Starting single GPU/CPU training\n",
      "I1012 16:33:42.273255 139890920048384 tokenization_utils.py:374] loading file https://s3.amazonaws.com/models.huggingface.co/bert/bert-base-uncased-vocab.txt from cache at /home/krishan/.cache/torch/transformers/26bc1ad6c0ac742e9b52263248f6d0f00068293b33709fae12320c0e35ccfbbb.542ce4285a40d23a559526243235df47c5f75c197f04f37d1a0c124c32c9a084\n",
      "I1012 16:33:43.231865 139890920048384 tokenization_utils.py:374] loading file https://s3.amazonaws.com/models.huggingface.co/bert/bert-base-uncased-vocab.txt from cache at /home/krishan/.cache/torch/transformers/26bc1ad6c0ac742e9b52263248f6d0f00068293b33709fae12320c0e35ccfbbb.542ce4285a40d23a559526243235df47c5f75c197f04f37d1a0c124c32c9a084\n",
      "I1012 16:33:44.189217 139890920048384 configuration_utils.py:151] loading configuration file https://s3.amazonaws.com/models.huggingface.co/bert/bert-base-uncased-config.json from cache at /home/krishan/.cache/torch/transformers/4dad0251492946e18ac39290fcfe91b89d370fee250efe9521476438fe8ca185.bf3b9ea126d8c0001ee8a1e8b92229871d06d36d8808208cc2449280da87785c\n",
      "I1012 16:33:44.189870 139890920048384 configuration_utils.py:168] Model config {\n",
      "  \"attention_probs_dropout_prob\": 0.1,\n",
      "  \"finetuning_task\": null,\n",
      "  \"hidden_act\": \"gelu\",\n",
      "  \"hidden_dropout_prob\": 0.1,\n",
      "  \"hidden_size\": 768,\n",
      "  \"initializer_range\": 0.02,\n",
      "  \"intermediate_size\": 3072,\n",
      "  \"layer_norm_eps\": 1e-12,\n",
      "  \"max_position_embeddings\": 512,\n",
      "  \"num_attention_heads\": 12,\n",
      "  \"num_hidden_layers\": 12,\n",
      "  \"num_labels\": 2,\n",
      "  \"output_attentions\": false,\n",
      "  \"output_hidden_states\": false,\n",
      "  \"output_past\": true,\n",
      "  \"pruned_heads\": {},\n",
      "  \"torchscript\": false,\n",
      "  \"type_vocab_size\": 2,\n",
      "  \"use_bfloat16\": false,\n",
      "  \"vocab_size\": 30522\n",
      "}\n",
      "\n",
      "I1012 16:33:44.239381 139890920048384 modeling_utils.py:337] loading weights file https://s3.amazonaws.com/models.huggingface.co/bert/bert-base-uncased-pytorch_model.bin from cache at /home/krishan/.cache/torch/transformers/aa1ef1aede4482d0dbcd4d52baad8ae300e60902e88fcb0bebdec09afd232066.36ca03ab34a1a5d5fa7bc3d03d55c4fa650fed07220e2eeebc06ce58d0e9a157\n",
      "I1012 16:33:47.579898 139890920048384 modeling_utils.py:405] Weights of BertForPronounResolution_Segment not initialized from pretrained model: ['classification.weight', 'classification.bias', 'token_type_embeddings.weight']\n",
      "I1012 16:33:47.580220 139890920048384 modeling_utils.py:408] Weights from pretrained model not used in BertForPronounResolution_Segment: ['cls.predictions.bias', 'cls.predictions.transform.dense.weight', 'cls.predictions.transform.dense.bias', 'cls.predictions.decoder.weight', 'cls.seq_relationship.weight', 'cls.seq_relationship.bias', 'cls.predictions.transform.LayerNorm.weight', 'cls.predictions.transform.LayerNorm.bias']\n",
      "Model used = <class 'BertModels.BertForPronounResolution_Segment'>\n",
      "\n",
      "  0%|                                                     | 0/1 [00:00<?, ?it/s]\u001b[ATraining epoch 0\n",
      "batch_iterator: 100%|█████████████| 500/500 [04:54<00:00,  1.69it/s, loss=0.997]Evaluating for epoch 1\n",
      "100%|███████████████████████████████████████████| 32/32 [01:50<00:00,  2.74s/it]\n",
      "\u001b[AEpoch = 1, Val loss = 0.9188276063650846, val_acc = 0.569                    \n",
      "\n",
      "  0%|                                                     | 0/1 [06:45<?, ?it/s]\u001b[A\n",
      "100%|████████████████████████████████████████████| 1/1 [06:45<00:00, 405.86s/it]\u001b[A"
     ]
    }
   ],
   "source": [
    "!python TrainGAP.py --model_type segment"
   ]
  },
  {
   "cell_type": "code",
   "execution_count": null,
   "metadata": {},
   "outputs": [],
   "source": []
  }
 ],
 "metadata": {
  "kernelspec": {
   "display_name": "Python 3.6 - AzureML",
   "language": "python",
   "name": "python3-azureml"
  },
  "language_info": {
   "codemirror_mode": {
    "name": "ipython",
    "version": 3
   },
   "file_extension": ".py",
   "mimetype": "text/x-python",
   "name": "python",
   "nbconvert_exporter": "python",
   "pygments_lexer": "ipython3",
   "version": "3.6.8"
  }
 },
 "nbformat": 4,
 "nbformat_minor": 2
}
