{
 "cells": [
  {
   "cell_type": "markdown",
   "metadata": {},
   "source": [
    "# Dependency download"
   ]
  },
  {
   "cell_type": "code",
   "execution_count": 3,
   "metadata": {},
   "outputs": [
    {
     "name": "stdout",
     "output_type": "stream",
     "text": [
      "Cloning into 'gap-coreference'...\n",
      "remote: Enumerating objects: 19, done.\u001b[K\n",
      "remote: Total 19 (delta 0), reused 0 (delta 0), pack-reused 19\u001b[K\n",
      "Unpacking objects: 100% (19/19), done.\n",
      "Checking connectivity... done.\n"
     ]
    }
   ],
   "source": [
    "!git clone https://github.com/google-research-datasets/gap-coreference.git\n",
    "#!pip install transformers"
   ]
  },
  {
   "cell_type": "markdown",
   "metadata": {},
   "source": [
    "# Data Preprocessing"
   ]
  },
  {
   "cell_type": "code",
   "execution_count": 4,
   "metadata": {},
   "outputs": [
    {
     "name": "stdout",
     "output_type": "stream",
     "text": [
      "I1017 15:24:52.608789 139805137204992 file_utils.py:39] PyTorch version 1.2.0 available.\n",
      "I1017 15:24:52.848025 139805137204992 modeling_xlnet.py:194] Better speed can be achieved with apex installed from https://www.github.com/nvidia/apex .\n",
      "I1017 15:24:53.343977 139805137204992 tokenization_utils.py:374] loading file https://s3.amazonaws.com/models.huggingface.co/bert/bert-base-uncased-vocab.txt from cache at /home/krishan/.cache/torch/transformers/26bc1ad6c0ac742e9b52263248f6d0f00068293b33709fae12320c0e35ccfbbb.542ce4285a40d23a559526243235df47c5f75c197f04f37d1a0c124c32c9a084\n",
      "['AnalyzeGapProcessedData.ipynb', 'readme.md', '.git', 'arguments.py', 'BertModels.py', '__pycache__', 'PreprocessGapData.py', 'MultiProcess1.ipynb', '.ipynb_checkpoints', 'old_notebooks', 'Experimentation.ipynb', 'gap-coreference', 'Multiprocess2.ipynb', 'mp_spawn.ipynb', 'MultiNode.ipynb', 'TrainGAP.py']\n",
      "Processing validation data\n",
      "100%|████████████████████████████████████████| 454/454 [00:02<00:00, 188.61it/s]\n",
      "Processing training data\n",
      "100%|██████████████████████████████████████| 2000/2000 [00:10<00:00, 195.28it/s]\n",
      "['AnalyzeGapProcessedData.ipynb', 'readme.md', 'train_processed.pkl', '.git', 'arguments.py', 'BertModels.py', '__pycache__', 'PreprocessGapData.py', 'MultiProcess1.ipynb', '.ipynb_checkpoints', 'old_notebooks', 'val_processed.tsv', 'Experimentation.ipynb', 'gap-coreference', 'val_processed.pkl', 'Multiprocess2.ipynb', 'mp_spawn.ipynb', 'MultiNode.ipynb', 'TrainGAP.py', 'train_processed.tsv']\n",
      "                                               input      ...              pab_pos\n",
      "0  [zoe, tel, ##ford, -, -, played, the, police, ...      ...         [61, 41, 44]\n",
      "1  [he, grew, up, in, evans, ##ton, ,, illinois, ...      ...         [60, 50, 53]\n",
      "2  [he, had, been, reelected, to, congress, ,, bu...      ...         [62, 40, 56]\n",
      "3  [the, current, members, of, crime, have, also,...      ...         [66, 35, 70]\n",
      "4  [her, santa, fe, opera, debut, in, 2005, was, ...      ...        [104, 53, 71]\n",
      "\n",
      "[5 rows x 3 columns]\n"
     ]
    }
   ],
   "source": [
    "!python PreprocessGapData.py"
   ]
  },
  {
   "cell_type": "markdown",
   "metadata": {},
   "source": [
    "# Single GPU with default configuration"
   ]
  },
  {
   "cell_type": "code",
   "execution_count": 5,
   "metadata": {
    "scrolled": false
   },
   "outputs": [
    {
     "name": "stdout",
     "output_type": "stream",
     "text": [
      "I1017 15:35:24.643720 140454400706304 file_utils.py:39] PyTorch version 1.2.0 available.\n",
      "I1017 15:35:24.972557 140454400706304 modeling_xlnet.py:194] Better speed can be achieved with apex installed from https://www.github.com/nvidia/apex .\n",
      "2019-10-17 15:35:24,977:INFO: hello\n",
      "2019-10-17 15:35:24,977:INFO: Namespace(backend='gloo', batch_size=4, bert_type='bert-base-uncased', epochs=1, global_rank=None, gradient_accumulation=8, is_distributed=False, local_rank=-1, lr=2e-05, master_node='localhost', master_port=12533, model_type='mul', nprocs=1, per_gpu_batch_size=32, start_rank=0, val_batch_size=64, world_size=None)\n",
      "2019-10-17 15:35:24,977:INFO: Starting single GPU/CPU training\n",
      "2019-10-17 15:35:25,334:INFO: loading file https://s3.amazonaws.com/models.huggingface.co/bert/bert-base-uncased-vocab.txt from cache at /home/krishan/.cache/torch/transformers/26bc1ad6c0ac742e9b52263248f6d0f00068293b33709fae12320c0e35ccfbbb.542ce4285a40d23a559526243235df47c5f75c197f04f37d1a0c124c32c9a084\n",
      "2019-10-17 15:35:26,448:INFO: loading file https://s3.amazonaws.com/models.huggingface.co/bert/bert-base-uncased-vocab.txt from cache at /home/krishan/.cache/torch/transformers/26bc1ad6c0ac742e9b52263248f6d0f00068293b33709fae12320c0e35ccfbbb.542ce4285a40d23a559526243235df47c5f75c197f04f37d1a0c124c32c9a084\n",
      "2019-10-17 15:35:26,861:INFO: loading configuration file https://s3.amazonaws.com/models.huggingface.co/bert/bert-base-uncased-config.json from cache at /home/krishan/.cache/torch/transformers/4dad0251492946e18ac39290fcfe91b89d370fee250efe9521476438fe8ca185.bf3b9ea126d8c0001ee8a1e8b92229871d06d36d8808208cc2449280da87785c\n",
      "2019-10-17 15:35:26,861:INFO: Model config {\n",
      "  \"attention_probs_dropout_prob\": 0.1,\n",
      "  \"finetuning_task\": null,\n",
      "  \"hidden_act\": \"gelu\",\n",
      "  \"hidden_dropout_prob\": 0.1,\n",
      "  \"hidden_size\": 768,\n",
      "  \"initializer_range\": 0.02,\n",
      "  \"intermediate_size\": 3072,\n",
      "  \"layer_norm_eps\": 1e-12,\n",
      "  \"max_position_embeddings\": 512,\n",
      "  \"num_attention_heads\": 12,\n",
      "  \"num_hidden_layers\": 12,\n",
      "  \"num_labels\": 2,\n",
      "  \"output_attentions\": false,\n",
      "  \"output_hidden_states\": false,\n",
      "  \"output_past\": true,\n",
      "  \"pruned_heads\": {},\n",
      "  \"torchscript\": false,\n",
      "  \"type_vocab_size\": 2,\n",
      "  \"use_bfloat16\": false,\n",
      "  \"vocab_size\": 30522\n",
      "}\n",
      "\n",
      "2019-10-17 15:35:27,044:INFO: loading weights file https://s3.amazonaws.com/models.huggingface.co/bert/bert-base-uncased-pytorch_model.bin from cache at /home/krishan/.cache/torch/transformers/aa1ef1aede4482d0dbcd4d52baad8ae300e60902e88fcb0bebdec09afd232066.36ca03ab34a1a5d5fa7bc3d03d55c4fa650fed07220e2eeebc06ce58d0e9a157\n",
      "2019-10-17 15:35:29,897:INFO: Weights of BertForPronounResolution_Mul not initialized from pretrained model: ['neither_params']\n",
      "2019-10-17 15:35:29,897:INFO: Weights from pretrained model not used in BertForPronounResolution_Mul: ['cls.predictions.bias', 'cls.predictions.transform.dense.weight', 'cls.predictions.transform.dense.bias', 'cls.predictions.decoder.weight', 'cls.seq_relationship.weight', 'cls.seq_relationship.bias', 'cls.predictions.transform.LayerNorm.weight', 'cls.predictions.transform.LayerNorm.bias']\n",
      "2019-10-17 15:35:29,898:INFO: Model used = <class 'BertModels.BertForPronounResolution_Mul'>\n",
      "2019-10-17 15:35:32,023:INFO: Training epoch 0\n",
      "batch_iterator: 100%|█████████████| 500/500 [06:29<00:00,  1.27it/s, loss=0.243]\n",
      "2019-10-17 15:42:01,881:INFO: Time taken for epoch 1 is = 389.8576121330261\n",
      "100%|█████████████████████████████████████████████| 8/8 [00:31<00:00,  3.24s/it]\n",
      "2019-10-17 15:42:33,436:INFO: Epoch = 1, Val loss = 0.39183709397912025, val_acc = 0.8546255506607929\n"
     ]
    }
   ],
   "source": [
    "!python TrainGAP.py"
   ]
  },
  {
   "cell_type": "code",
   "execution_count": 6,
   "metadata": {},
   "outputs": [
    {
     "name": "stdout",
     "output_type": "stream",
     "text": [
      "I1017 15:42:36.566559 140413985122048 file_utils.py:39] PyTorch version 1.2.0 available.\n",
      "I1017 15:42:36.905894 140413985122048 modeling_xlnet.py:194] Better speed can be achieved with apex installed from https://www.github.com/nvidia/apex .\n",
      "2019-10-17 15:42:36,910:INFO: hello\n",
      "2019-10-17 15:42:36,910:INFO: Namespace(backend='gloo', batch_size=4, bert_type='bert-base-uncased', epochs=1, global_rank=None, gradient_accumulation=8, is_distributed=False, local_rank=-1, lr=2e-05, master_node='localhost', master_port=12533, model_type='concat', nprocs=1, per_gpu_batch_size=32, start_rank=0, val_batch_size=64, world_size=None)\n",
      "2019-10-17 15:42:36,910:INFO: Starting single GPU/CPU training\n",
      "2019-10-17 15:42:37,264:INFO: loading file https://s3.amazonaws.com/models.huggingface.co/bert/bert-base-uncased-vocab.txt from cache at /home/krishan/.cache/torch/transformers/26bc1ad6c0ac742e9b52263248f6d0f00068293b33709fae12320c0e35ccfbbb.542ce4285a40d23a559526243235df47c5f75c197f04f37d1a0c124c32c9a084\n",
      "2019-10-17 15:42:38,390:INFO: loading file https://s3.amazonaws.com/models.huggingface.co/bert/bert-base-uncased-vocab.txt from cache at /home/krishan/.cache/torch/transformers/26bc1ad6c0ac742e9b52263248f6d0f00068293b33709fae12320c0e35ccfbbb.542ce4285a40d23a559526243235df47c5f75c197f04f37d1a0c124c32c9a084\n",
      "2019-10-17 15:42:38,778:INFO: loading configuration file https://s3.amazonaws.com/models.huggingface.co/bert/bert-base-uncased-config.json from cache at /home/krishan/.cache/torch/transformers/4dad0251492946e18ac39290fcfe91b89d370fee250efe9521476438fe8ca185.bf3b9ea126d8c0001ee8a1e8b92229871d06d36d8808208cc2449280da87785c\n",
      "2019-10-17 15:42:38,779:INFO: Model config {\n",
      "  \"attention_probs_dropout_prob\": 0.1,\n",
      "  \"finetuning_task\": null,\n",
      "  \"hidden_act\": \"gelu\",\n",
      "  \"hidden_dropout_prob\": 0.1,\n",
      "  \"hidden_size\": 768,\n",
      "  \"initializer_range\": 0.02,\n",
      "  \"intermediate_size\": 3072,\n",
      "  \"layer_norm_eps\": 1e-12,\n",
      "  \"max_position_embeddings\": 512,\n",
      "  \"num_attention_heads\": 12,\n",
      "  \"num_hidden_layers\": 12,\n",
      "  \"num_labels\": 2,\n",
      "  \"output_attentions\": false,\n",
      "  \"output_hidden_states\": false,\n",
      "  \"output_past\": true,\n",
      "  \"pruned_heads\": {},\n",
      "  \"torchscript\": false,\n",
      "  \"type_vocab_size\": 2,\n",
      "  \"use_bfloat16\": false,\n",
      "  \"vocab_size\": 30522\n",
      "}\n",
      "\n",
      "2019-10-17 15:42:38,950:INFO: loading weights file https://s3.amazonaws.com/models.huggingface.co/bert/bert-base-uncased-pytorch_model.bin from cache at /home/krishan/.cache/torch/transformers/aa1ef1aede4482d0dbcd4d52baad8ae300e60902e88fcb0bebdec09afd232066.36ca03ab34a1a5d5fa7bc3d03d55c4fa650fed07220e2eeebc06ce58d0e9a157\n",
      "2019-10-17 15:42:41,861:INFO: Weights of BertForPronounResolution_Concat not initialized from pretrained model: ['classification.weight', 'classification.bias']\n",
      "2019-10-17 15:42:41,861:INFO: Weights from pretrained model not used in BertForPronounResolution_Concat: ['cls.predictions.bias', 'cls.predictions.transform.dense.weight', 'cls.predictions.transform.dense.bias', 'cls.predictions.decoder.weight', 'cls.seq_relationship.weight', 'cls.seq_relationship.bias', 'cls.predictions.transform.LayerNorm.weight', 'cls.predictions.transform.LayerNorm.bias']\n",
      "2019-10-17 15:42:41,862:INFO: Model used = <class 'BertModels.BertForPronounResolution_Concat'>\n",
      "2019-10-17 15:42:44,032:INFO: Training epoch 0\n",
      "batch_iterator: 100%|█████████████| 500/500 [06:35<00:00,  1.26it/s, loss=0.491]\n",
      "2019-10-17 15:49:19,541:INFO: Time taken for epoch 1 is = 395.5094165802002\n",
      "100%|█████████████████████████████████████████████| 8/8 [00:31<00:00,  3.28s/it]\n",
      "2019-10-17 15:49:51,427:INFO: Epoch = 1, Val loss = 0.6856821179389954, val_acc = 0.711453744493392\n"
     ]
    }
   ],
   "source": [
    "!python TrainGAP.py --model_type concat"
   ]
  },
  {
   "cell_type": "code",
   "execution_count": 7,
   "metadata": {
    "scrolled": false
   },
   "outputs": [
    {
     "name": "stdout",
     "output_type": "stream",
     "text": [
      "I1017 15:49:54.442667 140154008958720 file_utils.py:39] PyTorch version 1.2.0 available.\n",
      "I1017 15:49:54.771562 140154008958720 modeling_xlnet.py:194] Better speed can be achieved with apex installed from https://www.github.com/nvidia/apex .\n",
      "2019-10-17 15:49:54,775:INFO: hello\n",
      "2019-10-17 15:49:54,776:INFO: Namespace(backend='gloo', batch_size=4, bert_type='bert-base-uncased', epochs=1, global_rank=None, gradient_accumulation=8, is_distributed=False, local_rank=-1, lr=2e-05, master_node='localhost', master_port=12533, model_type='segment', nprocs=1, per_gpu_batch_size=32, start_rank=0, val_batch_size=64, world_size=None)\n",
      "2019-10-17 15:49:54,776:INFO: Starting single GPU/CPU training\n",
      "2019-10-17 15:49:54,993:INFO: loading file https://s3.amazonaws.com/models.huggingface.co/bert/bert-base-uncased-vocab.txt from cache at /home/krishan/.cache/torch/transformers/26bc1ad6c0ac742e9b52263248f6d0f00068293b33709fae12320c0e35ccfbbb.542ce4285a40d23a559526243235df47c5f75c197f04f37d1a0c124c32c9a084\n",
      "2019-10-17 15:49:56,194:INFO: loading file https://s3.amazonaws.com/models.huggingface.co/bert/bert-base-uncased-vocab.txt from cache at /home/krishan/.cache/torch/transformers/26bc1ad6c0ac742e9b52263248f6d0f00068293b33709fae12320c0e35ccfbbb.542ce4285a40d23a559526243235df47c5f75c197f04f37d1a0c124c32c9a084\n",
      "2019-10-17 15:49:56,600:INFO: loading configuration file https://s3.amazonaws.com/models.huggingface.co/bert/bert-base-uncased-config.json from cache at /home/krishan/.cache/torch/transformers/4dad0251492946e18ac39290fcfe91b89d370fee250efe9521476438fe8ca185.bf3b9ea126d8c0001ee8a1e8b92229871d06d36d8808208cc2449280da87785c\n",
      "2019-10-17 15:49:56,600:INFO: Model config {\n",
      "  \"attention_probs_dropout_prob\": 0.1,\n",
      "  \"finetuning_task\": null,\n",
      "  \"hidden_act\": \"gelu\",\n",
      "  \"hidden_dropout_prob\": 0.1,\n",
      "  \"hidden_size\": 768,\n",
      "  \"initializer_range\": 0.02,\n",
      "  \"intermediate_size\": 3072,\n",
      "  \"layer_norm_eps\": 1e-12,\n",
      "  \"max_position_embeddings\": 512,\n",
      "  \"num_attention_heads\": 12,\n",
      "  \"num_hidden_layers\": 12,\n",
      "  \"num_labels\": 2,\n",
      "  \"output_attentions\": false,\n",
      "  \"output_hidden_states\": false,\n",
      "  \"output_past\": true,\n",
      "  \"pruned_heads\": {},\n",
      "  \"torchscript\": false,\n",
      "  \"type_vocab_size\": 2,\n",
      "  \"use_bfloat16\": false,\n",
      "  \"vocab_size\": 30522\n",
      "}\n",
      "\n",
      "2019-10-17 15:49:56,760:INFO: loading weights file https://s3.amazonaws.com/models.huggingface.co/bert/bert-base-uncased-pytorch_model.bin from cache at /home/krishan/.cache/torch/transformers/aa1ef1aede4482d0dbcd4d52baad8ae300e60902e88fcb0bebdec09afd232066.36ca03ab34a1a5d5fa7bc3d03d55c4fa650fed07220e2eeebc06ce58d0e9a157\n",
      "2019-10-17 15:49:59,624:INFO: Weights of BertForPronounResolution_Segment not initialized from pretrained model: ['classification.weight', 'classification.bias', 'token_type_embeddings.weight']\n",
      "2019-10-17 15:49:59,624:INFO: Weights from pretrained model not used in BertForPronounResolution_Segment: ['cls.predictions.bias', 'cls.predictions.transform.dense.weight', 'cls.predictions.transform.dense.bias', 'cls.predictions.decoder.weight', 'cls.seq_relationship.weight', 'cls.seq_relationship.bias', 'cls.predictions.transform.LayerNorm.weight', 'cls.predictions.transform.LayerNorm.bias']\n",
      "2019-10-17 15:49:59,625:INFO: Model used = <class 'BertModels.BertForPronounResolution_Segment'>\n",
      "2019-10-17 15:50:01,809:INFO: Training epoch 0\n",
      "batch_iterator: 100%|█████████████| 500/500 [06:37<00:00,  1.26it/s, loss=0.967]\n",
      "2019-10-17 15:56:39,304:INFO: Time taken for epoch 1 is = 397.4946675300598\n",
      "100%|█████████████████████████████████████████████| 8/8 [00:32<00:00,  3.29s/it]\n",
      "2019-10-17 15:57:11,378:INFO: Epoch = 1, Val loss = 1.0030453130602837, val_acc = 0.5176211453744494\n"
     ]
    }
   ],
   "source": [
    "!python TrainGAP.py --model_type segment"
   ]
  },
  {
   "cell_type": "code",
   "execution_count": null,
   "metadata": {},
   "outputs": [],
   "source": []
  }
 ],
 "metadata": {
  "kernelspec": {
   "display_name": "Python 3.6 - AzureML",
   "language": "python",
   "name": "python3-azureml"
  },
  "language_info": {
   "codemirror_mode": {
    "name": "ipython",
    "version": 3
   },
   "file_extension": ".py",
   "mimetype": "text/x-python",
   "name": "python",
   "nbconvert_exporter": "python",
   "pygments_lexer": "ipython3",
   "version": "3.6.8"
  }
 },
 "nbformat": 4,
 "nbformat_minor": 2
}
