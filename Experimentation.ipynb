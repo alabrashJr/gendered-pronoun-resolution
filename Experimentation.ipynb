{
 "cells": [
  {
   "cell_type": "markdown",
   "metadata": {},
   "source": [
    "# Dependency download"
   ]
  },
  {
   "cell_type": "code",
   "execution_count": 18,
   "metadata": {},
   "outputs": [],
   "source": [
    "#!git clone https://github.com/google-research-datasets/gap-coreference.git\n",
    "#!pip install transformers"
   ]
  },
  {
   "cell_type": "markdown",
   "metadata": {},
   "source": [
    "# Data Preprocessing"
   ]
  },
  {
   "cell_type": "code",
   "execution_count": 1,
   "metadata": {},
   "outputs": [
    {
     "name": "stdout",
     "output_type": "stream",
     "text": [
      "I1014 15:45:56.423083 139656391681792 file_utils.py:39] PyTorch version 1.1.0 available.\n",
      "I1014 15:45:56.672655 139656391681792 modeling_xlnet.py:194] Better speed can be achieved with apex installed from https://www.github.com/nvidia/apex .\n",
      "I1014 15:45:56.768937 139656391681792 tokenization_utils.py:374] loading file https://s3.amazonaws.com/models.huggingface.co/bert/bert-base-uncased-vocab.txt from cache at /home/krishan/.cache/torch/transformers/26bc1ad6c0ac742e9b52263248f6d0f00068293b33709fae12320c0e35ccfbbb.542ce4285a40d23a559526243235df47c5f75c197f04f37d1a0c124c32c9a084\n",
      "['AnalyzeGapProcessedData.ipynb', 'readme.md', 'train_processed.pkl', '.git', 'arguments.py', 'BertModels.py', '__pycache__', 'PreprocessGapData.py', 'MultiProcess1.ipynb', '.ipynb_checkpoints', 'old_notebooks', 'val_processed.tsv', 'Experimentation.ipynb', 'gap-coreference', 'val_processed.pkl', 'Multiprocess2.ipynb', 'mp_spawn.ipynb', 'TrainGAP.py', 'train_processed.tsv']\n",
      "Processing validation data\n",
      "100%|████████████████████████████████████████| 454/454 [00:02<00:00, 202.17it/s]\n",
      "Processing training data\n",
      "100%|██████████████████████████████████████| 2000/2000 [00:10<00:00, 199.40it/s]\n",
      "['AnalyzeGapProcessedData.ipynb', 'readme.md', 'train_processed.pkl', '.git', 'arguments.py', 'BertModels.py', '__pycache__', 'PreprocessGapData.py', 'MultiProcess1.ipynb', '.ipynb_checkpoints', 'old_notebooks', 'val_processed.tsv', 'Experimentation.ipynb', 'gap-coreference', 'val_processed.pkl', 'Multiprocess2.ipynb', 'mp_spawn.ipynb', 'TrainGAP.py', 'train_processed.tsv']\n",
      "                                               input      ...              pab_pos\n",
      "0  [zoe, tel, ##ford, -, -, played, the, police, ...      ...         [61, 41, 44]\n",
      "1  [he, grew, up, in, evans, ##ton, ,, illinois, ...      ...         [60, 50, 53]\n",
      "2  [he, had, been, reelected, to, congress, ,, bu...      ...         [62, 40, 56]\n",
      "3  [the, current, members, of, crime, have, also,...      ...         [66, 35, 70]\n",
      "4  [her, santa, fe, opera, debut, in, 2005, was, ...      ...        [104, 53, 71]\n",
      "\n",
      "[5 rows x 3 columns]\n"
     ]
    }
   ],
   "source": [
    "!python PreprocessGapData.py"
   ]
  },
  {
   "cell_type": "markdown",
   "metadata": {},
   "source": [
    "# Single GPU with default configuration"
   ]
  },
  {
   "cell_type": "code",
   "execution_count": 2,
   "metadata": {
    "scrolled": false
   },
   "outputs": [
    {
     "name": "stdout",
     "output_type": "stream",
     "text": [
      "I1014 15:52:24.683263 140600849377024 file_utils.py:39] PyTorch version 1.1.0 available.\n",
      "I1014 15:52:24.974819 140600849377024 modeling_xlnet.py:194] Better speed can be achieved with apex installed from https://www.github.com/nvidia/apex .\n",
      "2019-10-14 15:52:24,981:INFO: hello\n",
      "2019-10-14 15:52:24,981:INFO: Namespace(backend='gloo', batch_size=4, bert_type='bert-base-uncased', epochs=1, global_rank=None, gradient_accumulation=8, is_distributed=False, local_rank=-1, lr=2e-05, master_node='localhost', master_port=12533, model_type='mul', nprocs=1, per_gpu_batch_size=32, start_rank=0, val_batch_size=64, world_size=None)\n",
      "2019-10-14 15:52:24,981:INFO: Starting single GPU/CPU training\n",
      "2019-10-14 15:52:25,157:INFO: loading file https://s3.amazonaws.com/models.huggingface.co/bert/bert-base-uncased-vocab.txt from cache at /home/krishan/.cache/torch/transformers/26bc1ad6c0ac742e9b52263248f6d0f00068293b33709fae12320c0e35ccfbbb.542ce4285a40d23a559526243235df47c5f75c197f04f37d1a0c124c32c9a084\n",
      "2019-10-14 15:52:26,112:INFO: loading file https://s3.amazonaws.com/models.huggingface.co/bert/bert-base-uncased-vocab.txt from cache at /home/krishan/.cache/torch/transformers/26bc1ad6c0ac742e9b52263248f6d0f00068293b33709fae12320c0e35ccfbbb.542ce4285a40d23a559526243235df47c5f75c197f04f37d1a0c124c32c9a084\n",
      "2019-10-14 15:52:26,376:INFO: loading configuration file https://s3.amazonaws.com/models.huggingface.co/bert/bert-base-uncased-config.json from cache at /home/krishan/.cache/torch/transformers/4dad0251492946e18ac39290fcfe91b89d370fee250efe9521476438fe8ca185.bf3b9ea126d8c0001ee8a1e8b92229871d06d36d8808208cc2449280da87785c\n",
      "2019-10-14 15:52:26,377:INFO: Model config {\n",
      "  \"attention_probs_dropout_prob\": 0.1,\n",
      "  \"finetuning_task\": null,\n",
      "  \"hidden_act\": \"gelu\",\n",
      "  \"hidden_dropout_prob\": 0.1,\n",
      "  \"hidden_size\": 768,\n",
      "  \"initializer_range\": 0.02,\n",
      "  \"intermediate_size\": 3072,\n",
      "  \"layer_norm_eps\": 1e-12,\n",
      "  \"max_position_embeddings\": 512,\n",
      "  \"num_attention_heads\": 12,\n",
      "  \"num_hidden_layers\": 12,\n",
      "  \"num_labels\": 2,\n",
      "  \"output_attentions\": false,\n",
      "  \"output_hidden_states\": false,\n",
      "  \"output_past\": true,\n",
      "  \"pruned_heads\": {},\n",
      "  \"torchscript\": false,\n",
      "  \"type_vocab_size\": 2,\n",
      "  \"use_bfloat16\": false,\n",
      "  \"vocab_size\": 30522\n",
      "}\n",
      "\n",
      "2019-10-14 15:52:26,422:INFO: loading weights file https://s3.amazonaws.com/models.huggingface.co/bert/bert-base-uncased-pytorch_model.bin from cache at /home/krishan/.cache/torch/transformers/aa1ef1aede4482d0dbcd4d52baad8ae300e60902e88fcb0bebdec09afd232066.36ca03ab34a1a5d5fa7bc3d03d55c4fa650fed07220e2eeebc06ce58d0e9a157\n",
      "2019-10-14 15:52:29,743:INFO: Weights of BertForPronounResolution_Mul not initialized from pretrained model: ['neither_params']\n",
      "2019-10-14 15:52:29,743:INFO: Weights from pretrained model not used in BertForPronounResolution_Mul: ['cls.predictions.bias', 'cls.predictions.transform.dense.weight', 'cls.predictions.transform.dense.bias', 'cls.predictions.decoder.weight', 'cls.seq_relationship.weight', 'cls.seq_relationship.bias', 'cls.predictions.transform.LayerNorm.weight', 'cls.predictions.transform.LayerNorm.bias']\n",
      "2019-10-14 15:52:29,744:INFO: Model used = <class 'BertModels.BertForPronounResolution_Mul'>\n",
      "2019-10-14 15:52:31,969:INFO: Training epoch 0\n",
      "batch_iterator:  61%|███████▉     | 305/500 [02:57<01:56,  1.67it/s, loss=0.269]^C\n"
     ]
    }
   ],
   "source": [
    "!python TrainGAP.py"
   ]
  },
  {
   "cell_type": "code",
   "execution_count": 3,
   "metadata": {},
   "outputs": [
    {
     "name": "stdout",
     "output_type": "stream",
     "text": [
      "I1014 15:55:32.535745 139953000072960 file_utils.py:39] PyTorch version 1.1.0 available.\n",
      "I1014 15:55:32.841953 139953000072960 modeling_xlnet.py:194] Better speed can be achieved with apex installed from https://www.github.com/nvidia/apex .\n",
      "2019-10-14 15:55:32,849:INFO: hello\n",
      "2019-10-14 15:55:32,849:INFO: Namespace(backend='gloo', batch_size=4, bert_type='bert-base-uncased', epochs=1, global_rank=None, gradient_accumulation=8, is_distributed=False, local_rank=-1, lr=2e-05, master_node='localhost', master_port=12533, model_type='concat', nprocs=1, per_gpu_batch_size=32, start_rank=0, val_batch_size=64, world_size=None)\n",
      "2019-10-14 15:55:32,849:INFO: Starting single GPU/CPU training\n",
      "2019-10-14 15:55:33,007:INFO: loading file https://s3.amazonaws.com/models.huggingface.co/bert/bert-base-uncased-vocab.txt from cache at /home/krishan/.cache/torch/transformers/26bc1ad6c0ac742e9b52263248f6d0f00068293b33709fae12320c0e35ccfbbb.542ce4285a40d23a559526243235df47c5f75c197f04f37d1a0c124c32c9a084\n",
      "2019-10-14 15:55:33,986:INFO: loading file https://s3.amazonaws.com/models.huggingface.co/bert/bert-base-uncased-vocab.txt from cache at /home/krishan/.cache/torch/transformers/26bc1ad6c0ac742e9b52263248f6d0f00068293b33709fae12320c0e35ccfbbb.542ce4285a40d23a559526243235df47c5f75c197f04f37d1a0c124c32c9a084\n",
      "2019-10-14 15:55:34,266:INFO: loading configuration file https://s3.amazonaws.com/models.huggingface.co/bert/bert-base-uncased-config.json from cache at /home/krishan/.cache/torch/transformers/4dad0251492946e18ac39290fcfe91b89d370fee250efe9521476438fe8ca185.bf3b9ea126d8c0001ee8a1e8b92229871d06d36d8808208cc2449280da87785c\n",
      "2019-10-14 15:55:34,267:INFO: Model config {\n",
      "  \"attention_probs_dropout_prob\": 0.1,\n",
      "  \"finetuning_task\": null,\n",
      "  \"hidden_act\": \"gelu\",\n",
      "  \"hidden_dropout_prob\": 0.1,\n",
      "  \"hidden_size\": 768,\n",
      "  \"initializer_range\": 0.02,\n",
      "  \"intermediate_size\": 3072,\n",
      "  \"layer_norm_eps\": 1e-12,\n",
      "  \"max_position_embeddings\": 512,\n",
      "  \"num_attention_heads\": 12,\n",
      "  \"num_hidden_layers\": 12,\n",
      "  \"num_labels\": 2,\n",
      "  \"output_attentions\": false,\n",
      "  \"output_hidden_states\": false,\n",
      "  \"output_past\": true,\n",
      "  \"pruned_heads\": {},\n",
      "  \"torchscript\": false,\n",
      "  \"type_vocab_size\": 2,\n",
      "  \"use_bfloat16\": false,\n",
      "  \"vocab_size\": 30522\n",
      "}\n",
      "\n",
      "2019-10-14 15:55:34,316:INFO: loading weights file https://s3.amazonaws.com/models.huggingface.co/bert/bert-base-uncased-pytorch_model.bin from cache at /home/krishan/.cache/torch/transformers/aa1ef1aede4482d0dbcd4d52baad8ae300e60902e88fcb0bebdec09afd232066.36ca03ab34a1a5d5fa7bc3d03d55c4fa650fed07220e2eeebc06ce58d0e9a157\n",
      "2019-10-14 15:55:37,957:INFO: Weights of BertForPronounResolution_Concat not initialized from pretrained model: ['classification.weight', 'classification.bias']\n",
      "2019-10-14 15:55:37,957:INFO: Weights from pretrained model not used in BertForPronounResolution_Concat: ['cls.predictions.bias', 'cls.predictions.transform.dense.weight', 'cls.predictions.transform.dense.bias', 'cls.predictions.decoder.weight', 'cls.seq_relationship.weight', 'cls.seq_relationship.bias', 'cls.predictions.transform.LayerNorm.weight', 'cls.predictions.transform.LayerNorm.bias']\n",
      "2019-10-14 15:55:37,958:INFO: Model used = <class 'BertModels.BertForPronounResolution_Concat'>\n",
      "2019-10-14 15:55:40,266:INFO: Training epoch 0\n",
      "batch_iterator: 100%|█████████████| 500/500 [04:53<00:00,  1.70it/s, loss=0.712]\n",
      "2019-10-14 16:00:34,162:INFO: Time taken for epoch 1 is = 293.89586186408997\n",
      "100%|█████████████████████████████████████████████| 8/8 [00:24<00:00,  2.53s/it]\n",
      "2019-10-14 16:00:58,929:INFO: Epoch = 1, Val loss = 0.6646743267774582, val_acc = 0.711453744493392\n"
     ]
    }
   ],
   "source": [
    "!python TrainGAP.py --model_type concat"
   ]
  },
  {
   "cell_type": "code",
   "execution_count": 4,
   "metadata": {
    "scrolled": false
   },
   "outputs": [
    {
     "name": "stdout",
     "output_type": "stream",
     "text": [
      "I1014 16:01:01.593144 139805344749312 file_utils.py:39] PyTorch version 1.1.0 available.\n",
      "I1014 16:01:01.888281 139805344749312 modeling_xlnet.py:194] Better speed can be achieved with apex installed from https://www.github.com/nvidia/apex .\n",
      "2019-10-14 16:01:01,895:INFO: hello\n",
      "2019-10-14 16:01:01,895:INFO: Namespace(backend='gloo', batch_size=4, bert_type='bert-base-uncased', epochs=1, global_rank=None, gradient_accumulation=8, is_distributed=False, local_rank=-1, lr=2e-05, master_node='localhost', master_port=12533, model_type='segment', nprocs=1, per_gpu_batch_size=32, start_rank=0, val_batch_size=64, world_size=None)\n",
      "2019-10-14 16:01:01,895:INFO: Starting single GPU/CPU training\n",
      "2019-10-14 16:01:02,047:INFO: loading file https://s3.amazonaws.com/models.huggingface.co/bert/bert-base-uncased-vocab.txt from cache at /home/krishan/.cache/torch/transformers/26bc1ad6c0ac742e9b52263248f6d0f00068293b33709fae12320c0e35ccfbbb.542ce4285a40d23a559526243235df47c5f75c197f04f37d1a0c124c32c9a084\n",
      "2019-10-14 16:01:02,999:INFO: loading file https://s3.amazonaws.com/models.huggingface.co/bert/bert-base-uncased-vocab.txt from cache at /home/krishan/.cache/torch/transformers/26bc1ad6c0ac742e9b52263248f6d0f00068293b33709fae12320c0e35ccfbbb.542ce4285a40d23a559526243235df47c5f75c197f04f37d1a0c124c32c9a084\n",
      "2019-10-14 16:01:03,294:INFO: loading configuration file https://s3.amazonaws.com/models.huggingface.co/bert/bert-base-uncased-config.json from cache at /home/krishan/.cache/torch/transformers/4dad0251492946e18ac39290fcfe91b89d370fee250efe9521476438fe8ca185.bf3b9ea126d8c0001ee8a1e8b92229871d06d36d8808208cc2449280da87785c\n",
      "2019-10-14 16:01:03,295:INFO: Model config {\n",
      "  \"attention_probs_dropout_prob\": 0.1,\n",
      "  \"finetuning_task\": null,\n",
      "  \"hidden_act\": \"gelu\",\n",
      "  \"hidden_dropout_prob\": 0.1,\n",
      "  \"hidden_size\": 768,\n",
      "  \"initializer_range\": 0.02,\n",
      "  \"intermediate_size\": 3072,\n",
      "  \"layer_norm_eps\": 1e-12,\n",
      "  \"max_position_embeddings\": 512,\n",
      "  \"num_attention_heads\": 12,\n",
      "  \"num_hidden_layers\": 12,\n",
      "  \"num_labels\": 2,\n",
      "  \"output_attentions\": false,\n",
      "  \"output_hidden_states\": false,\n",
      "  \"output_past\": true,\n",
      "  \"pruned_heads\": {},\n",
      "  \"torchscript\": false,\n",
      "  \"type_vocab_size\": 2,\n",
      "  \"use_bfloat16\": false,\n",
      "  \"vocab_size\": 30522\n",
      "}\n",
      "\n",
      "2019-10-14 16:01:03,397:INFO: loading weights file https://s3.amazonaws.com/models.huggingface.co/bert/bert-base-uncased-pytorch_model.bin from cache at /home/krishan/.cache/torch/transformers/aa1ef1aede4482d0dbcd4d52baad8ae300e60902e88fcb0bebdec09afd232066.36ca03ab34a1a5d5fa7bc3d03d55c4fa650fed07220e2eeebc06ce58d0e9a157\n",
      "2019-10-14 16:01:06,736:INFO: Weights of BertForPronounResolution_Segment not initialized from pretrained model: ['classification.weight', 'classification.bias', 'token_type_embeddings.weight']\n",
      "2019-10-14 16:01:06,736:INFO: Weights from pretrained model not used in BertForPronounResolution_Segment: ['cls.predictions.bias', 'cls.predictions.transform.dense.weight', 'cls.predictions.transform.dense.bias', 'cls.predictions.decoder.weight', 'cls.seq_relationship.weight', 'cls.seq_relationship.bias', 'cls.predictions.transform.LayerNorm.weight', 'cls.predictions.transform.LayerNorm.bias']\n",
      "2019-10-14 16:01:06,737:INFO: Model used = <class 'BertModels.BertForPronounResolution_Segment'>\n",
      "2019-10-14 16:01:08,957:INFO: Training epoch 0\n",
      "batch_iterator: 100%|█████████████| 500/500 [04:54<00:00,  1.70it/s, loss=0.885]\n",
      "2019-10-14 16:06:03,709:INFO: Time taken for epoch 1 is = 294.75203490257263\n",
      "100%|█████████████████████████████████████████████| 8/8 [00:24<00:00,  2.54s/it]\n",
      "2019-10-14 16:06:28,554:INFO: Epoch = 1, Val loss = 1.0116831064224243, val_acc = 0.5154185022026432\n"
     ]
    }
   ],
   "source": [
    "!python TrainGAP.py --model_type segment"
   ]
  }
 ],
 "metadata": {
  "kernelspec": {
   "display_name": "Python 3.6 - AzureML",
   "language": "python",
   "name": "python3-azureml"
  },
  "language_info": {
   "codemirror_mode": {
    "name": "ipython",
    "version": 3
   },
   "file_extension": ".py",
   "mimetype": "text/x-python",
   "name": "python",
   "nbconvert_exporter": "python",
   "pygments_lexer": "ipython3",
   "version": "3.6.8"
  }
 },
 "nbformat": 4,
 "nbformat_minor": 2
}
