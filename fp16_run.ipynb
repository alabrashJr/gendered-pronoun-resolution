{
 "cells": [
  {
   "cell_type": "code",
   "execution_count": 7,
   "metadata": {},
   "outputs": [],
   "source": [
    "#!git clone https://github.com/NVIDIA/apex\n",
    "#!cd apex && pip install -v --no-cache-dir --global-option=\"--cpp_ext\" --global-option=\"--cuda_ext\" ./"
   ]
  },
  {
   "cell_type": "markdown",
   "metadata": {},
   "source": [
    "# Single node single process"
   ]
  },
  {
   "cell_type": "code",
   "execution_count": null,
   "metadata": {},
   "outputs": [
    {
     "name": "stdout",
     "output_type": "stream",
     "text": [
      "I1031 15:56:50.578395 140035037480704 file_utils.py:39] PyTorch version 1.2.0 available.\n",
      "2019-10-31 15:56:50,922:INFO: hello\n",
      "2019-10-31 15:56:50,923:INFO: hello\n",
      "2019-10-31 15:56:50,923:INFO: Namespace(amp_opt_level='01', backend='gloo', batch_size=4, bert_type='bert-base-uncased', epochs=1, fp16=False, global_rank=None, gradient_accumulation=8, is_distributed=False, local_rank=-1, lr=2e-05, master_node='localhost', master_port=12533, model_type='mul', nprocs=1, per_gpu_batch_size=32, start_rank=0, use_horovod=False, val_batch_size=64, world_size=None)\n",
      "2019-10-31 15:56:50,923:INFO: Starting single GPU/CPU training\n",
      "2019-10-31 15:56:50,982:INFO: Namespace(amp_opt_level='01', backend='gloo', batch_size=4, bert_type='bert-base-uncased', device=device(type='cuda', index=0), epochs=1, fp16=False, global_rank=None, gradient_accumulation=8, is_distributed=False, local_rank=-1, lr=2e-05, master_node='localhost', master_port=12533, model_type='mul', nprocs=1, per_gpu_batch_size=32, start_rank=0, use_horovod=False, val_batch_size=64, world_size=None)\n",
      "2019-10-31 15:56:51,206:INFO: loading file https://s3.amazonaws.com/models.huggingface.co/bert/bert-base-uncased-vocab.txt from cache at /home/krishan/.cache/torch/transformers/26bc1ad6c0ac742e9b52263248f6d0f00068293b33709fae12320c0e35ccfbbb.542ce4285a40d23a559526243235df47c5f75c197f04f37d1a0c124c32c9a084\n",
      "2019-10-31 15:56:52,315:INFO: loading file https://s3.amazonaws.com/models.huggingface.co/bert/bert-base-uncased-vocab.txt from cache at /home/krishan/.cache/torch/transformers/26bc1ad6c0ac742e9b52263248f6d0f00068293b33709fae12320c0e35ccfbbb.542ce4285a40d23a559526243235df47c5f75c197f04f37d1a0c124c32c9a084\n",
      "2019-10-31 15:56:52,708:INFO: loading configuration file https://s3.amazonaws.com/models.huggingface.co/bert/bert-base-uncased-config.json from cache at /home/krishan/.cache/torch/transformers/4dad0251492946e18ac39290fcfe91b89d370fee250efe9521476438fe8ca185.bf3b9ea126d8c0001ee8a1e8b92229871d06d36d8808208cc2449280da87785c\n",
      "2019-10-31 15:56:52,709:INFO: Model config {\n",
      "  \"attention_probs_dropout_prob\": 0.1,\n",
      "  \"finetuning_task\": null,\n",
      "  \"hidden_act\": \"gelu\",\n",
      "  \"hidden_dropout_prob\": 0.1,\n",
      "  \"hidden_size\": 768,\n",
      "  \"initializer_range\": 0.02,\n",
      "  \"intermediate_size\": 3072,\n",
      "  \"layer_norm_eps\": 1e-12,\n",
      "  \"max_position_embeddings\": 512,\n",
      "  \"num_attention_heads\": 12,\n",
      "  \"num_hidden_layers\": 12,\n",
      "  \"num_labels\": 2,\n",
      "  \"output_attentions\": false,\n",
      "  \"output_hidden_states\": false,\n",
      "  \"output_past\": true,\n",
      "  \"pruned_heads\": {},\n",
      "  \"torchscript\": false,\n",
      "  \"type_vocab_size\": 2,\n",
      "  \"use_bfloat16\": false,\n",
      "  \"vocab_size\": 30522\n",
      "}\n",
      "\n",
      "2019-10-31 15:56:52,869:INFO: loading weights file https://s3.amazonaws.com/models.huggingface.co/bert/bert-base-uncased-pytorch_model.bin from cache at /home/krishan/.cache/torch/transformers/aa1ef1aede4482d0dbcd4d52baad8ae300e60902e88fcb0bebdec09afd232066.36ca03ab34a1a5d5fa7bc3d03d55c4fa650fed07220e2eeebc06ce58d0e9a157\n",
      "2019-10-31 15:56:55,698:INFO: Weights of BertForPronounResolution_Mul not initialized from pretrained model: ['neither_params']\n",
      "2019-10-31 15:56:55,699:INFO: Weights from pretrained model not used in BertForPronounResolution_Mul: ['cls.predictions.bias', 'cls.predictions.transform.dense.weight', 'cls.predictions.transform.dense.bias', 'cls.predictions.decoder.weight', 'cls.seq_relationship.weight', 'cls.seq_relationship.bias', 'cls.predictions.transform.LayerNorm.weight', 'cls.predictions.transform.LayerNorm.bias']\n",
      "2019-10-31 15:56:55,700:INFO: Model used = <class 'BertModels.BertForPronounResolution_Mul'>\n",
      "2019-10-31 15:56:57,807:INFO: Training epoch 0\n",
      "batch_iterator:  28%|███▌         | 138/500 [01:51<04:57,  1.22it/s, loss=0.476]"
     ]
    }
   ],
   "source": [
    "!python TrainGAP.py "
   ]
  },
  {
   "cell_type": "code",
   "execution_count": null,
   "metadata": {},
   "outputs": [],
   "source": [
    "!python TrainGAP.py --fp16"
   ]
  },
  {
   "cell_type": "markdown",
   "metadata": {},
   "source": [
    "# Single node multi process"
   ]
  },
  {
   "cell_type": "code",
   "execution_count": null,
   "metadata": {},
   "outputs": [],
   "source": [
    "!python TrainGAP.py --is_distributed --world_size 2 --nprocs 2 --backend nccl"
   ]
  },
  {
   "cell_type": "code",
   "execution_count": null,
   "metadata": {},
   "outputs": [],
   "source": [
    "!python TrainGAP.py --is_distributed --world_size 2 --nprocs 2 --backend nccl --fp16 "
   ]
  },
  {
   "cell_type": "code",
   "execution_count": null,
   "metadata": {},
   "outputs": [],
   "source": []
  }
 ],
 "metadata": {
  "kernelspec": {
   "display_name": "Python 3.6 - AzureML",
   "language": "python",
   "name": "python3-azureml"
  },
  "language_info": {
   "codemirror_mode": {
    "name": "ipython",
    "version": 3
   },
   "file_extension": ".py",
   "mimetype": "text/x-python",
   "name": "python",
   "nbconvert_exporter": "python",
   "pygments_lexer": "ipython3",
   "version": "3.6.8"
  }
 },
 "nbformat": 4,
 "nbformat_minor": 2
}
