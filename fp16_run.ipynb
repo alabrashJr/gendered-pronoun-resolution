{
 "cells": [
  {
   "cell_type": "code",
   "execution_count": null,
   "metadata": {},
   "outputs": [],
   "source": [
    "!git clone https://github.com/NVIDIA/apex\n",
    "!cd apex && pip install -v --no-cache-dir --global-option=\"--cpp_ext\" --global-option=\"--cuda_ext\" ./"
   ]
  },
  {
   "cell_type": "markdown",
   "metadata": {},
   "source": [
    "# Single node single process"
   ]
  },
  {
   "cell_type": "code",
   "execution_count": null,
   "metadata": {},
   "outputs": [],
   "source": [
    "!python TrainGAP.py "
   ]
  },
  {
   "cell_type": "code",
   "execution_count": null,
   "metadata": {},
   "outputs": [],
   "source": [
    "!python TrainGAP.py --fp16"
   ]
  },
  {
   "cell_type": "markdown",
   "metadata": {},
   "source": [
    "# Single node 2 process"
   ]
  },
  {
   "cell_type": "code",
   "execution_count": null,
   "metadata": {},
   "outputs": [],
   "source": [
    "!python TrainGAP.py --is_distributed --world_size 2 --nprocs 2 \\\n",
    "    --backend nccl --per_gpu_batch_size 16 \\\n",
    "    --gradient_accumulation 4 \\\n",
    "    --sample_limit 100"
   ]
  },
  {
   "cell_type": "code",
   "execution_count": null,
   "metadata": {},
   "outputs": [],
   "source": [
    "!python TrainGAP.py --is_distributed --world_size 2 --nprocs 2 \\\n",
    "    --backend nccl --per_gpu_batch_size 16 \\\n",
    "    --gradient_accumulation 4 \\\n",
    "    --fp16 "
   ]
  },
  {
   "cell_type": "code",
   "execution_count": null,
   "metadata": {},
   "outputs": [],
   "source": [
    "!python TrainGAP.py --is_distributed --world_size 2 --nprocs 2 \\\n",
    "    --backend nccl --per_gpu_batch_size 16 \\\n",
    "    --gradient_accumulation 4 \\\n",
    "    --fp16 --amp_opt_level '02'"
   ]
  },
  {
   "cell_type": "markdown",
   "metadata": {},
   "source": [
    "# 2 node 4 process"
   ]
  },
  {
   "cell_type": "markdown",
   "metadata": {},
   "source": [
    "## Node 1"
   ]
  },
  {
   "cell_type": "code",
   "execution_count": null,
   "metadata": {},
   "outputs": [],
   "source": [
    "#IP should be node 1 IP\n",
    "!python TrainGAP.py \\\n",
    "        --is_distributed \\\n",
    "        --world_size 4 \\\n",
    "        --nprocs 2 \\\n",
    "        --start_rank 0\\\n",
    "        --backend nccl \\\n",
    "        --master_node '40.74.252.71' \\\n",
    "        --master_port 29500 \\\n",
    "        --per_gpu_batch_size 8 \\\n",
    "        --gradient_accumulation 2 \\\n",
    "        --fp16"
   ]
  },
  {
   "cell_type": "markdown",
   "metadata": {},
   "source": [
    "## Node 2"
   ]
  },
  {
   "cell_type": "code",
   "execution_count": null,
   "metadata": {},
   "outputs": [],
   "source": [
    "!python TrainGAP.py \\\n",
    "        --is_distributed \\\n",
    "        --world_size 4 \\\n",
    "        --nprocs 2 \\\n",
    "        --start_rank 2\\\n",
    "        --backend nccl \\\n",
    "        --master_node '40.74.252.71' \\\n",
    "        --master_port 29500 \\\n",
    "        --per_gpu_batch_size 8 \\\n",
    "        --gradient_accumulation 2 \\\n",
    "        --fp16"
   ]
  },
  {
   "cell_type": "code",
   "execution_count": null,
   "metadata": {},
   "outputs": [],
   "source": []
  }
 ],
 "metadata": {
  "kernelspec": {
   "display_name": "Python 3.6 - AzureML",
   "language": "python",
   "name": "python3-azureml"
  },
  "language_info": {
   "codemirror_mode": {
    "name": "ipython",
    "version": 3
   },
   "file_extension": ".py",
   "mimetype": "text/x-python",
   "name": "python",
   "nbconvert_exporter": "python",
   "pygments_lexer": "ipython3",
   "version": "3.6.8"
  }
 },
 "nbformat": 4,
 "nbformat_minor": 2
}
